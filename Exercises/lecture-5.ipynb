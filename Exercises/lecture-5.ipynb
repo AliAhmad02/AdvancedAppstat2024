{
 "cells": [
  {
   "cell_type": "code",
   "execution_count": 1,
   "metadata": {},
   "outputs": [],
   "source": [
    "import numpy as np\n",
    "import matplotlib.pyplot as plt\n",
    "import pandas as pd\n",
    "from iminuit import Minuit"
   ]
  },
  {
   "cell_type": "code",
   "execution_count": 2,
   "metadata": {},
   "outputs": [],
   "source": [
    "data1_path = \"https://www.nbi.dk/~koskinen/Teaching/AdvancedMethodsInAppliedStatistics2024/data/ParameterEstimation_Ex1.txt\"\n",
    "data = pd.read_csv(data1_path, names=[\"Col1\"]).values.T[0]\n",
    "\n",
    "parab_min = -0.95\n",
    "parab_max = 0.95\n",
    "n_bins = 50\n",
    "data_counts, data_edges = np.histogram(\n",
    "    data, bins=n_bins, range=(parab_min, parab_max), density=True\n",
    ")\n",
    "data_centers = (data_edges[1:] + data_edges[:-1]) / 2"
   ]
  },
  {
   "cell_type": "code",
   "execution_count": 3,
   "metadata": {},
   "outputs": [
    {
     "data": {
      "text/html": [
       "<table>\n",
       "    <tr>\n",
       "        <th colspan=\"2\" style=\"text-align:center\" title=\"Minimizer\"> Migrad </th>\n",
       "    </tr>\n",
       "    <tr>\n",
       "        <td style=\"text-align:left\" title=\"Minimum value of function\"> FCN = 2500 </td>\n",
       "        <td style=\"text-align:center\" title=\"Total number of function and (optional) gradient evaluations\"> Nfcn = 59 </td>\n",
       "    </tr>\n",
       "    <tr>\n",
       "        <td style=\"text-align:left\" title=\"Estimated distance to minimum and goal\"> EDM = 3.65e-10 (Goal: 0.0001) </td>\n",
       "        <td style=\"text-align:center\" title=\"Total run time of algorithms\">  </td>\n",
       "    </tr>\n",
       "    <tr>\n",
       "        <td style=\"text-align:center;background-color:#92CCA6;color:black\"> Valid Minimum </td>\n",
       "        <td style=\"text-align:center;background-color:#92CCA6;color:black\"> Below EDM threshold (goal x 10) </td>\n",
       "    </tr>\n",
       "    <tr>\n",
       "        <td style=\"text-align:center;background-color:#92CCA6;color:black\"> No parameters at limit </td>\n",
       "        <td style=\"text-align:center;background-color:#92CCA6;color:black\"> Below call limit </td>\n",
       "    </tr>\n",
       "    <tr>\n",
       "        <td style=\"text-align:center;background-color:#92CCA6;color:black\"> Hesse ok </td>\n",
       "        <td style=\"text-align:center;background-color:#92CCA6;color:black\"> Covariance accurate </td>\n",
       "    </tr>\n",
       "</table><table>\n",
       "    <tr>\n",
       "        <td></td>\n",
       "        <th title=\"Variable name\"> Name </th>\n",
       "        <th title=\"Value of parameter\"> Value </th>\n",
       "        <th title=\"Hesse error\"> Hesse Error </th>\n",
       "        <th title=\"Minos lower error\"> Minos Error- </th>\n",
       "        <th title=\"Minos upper error\"> Minos Error+ </th>\n",
       "        <th title=\"Lower limit of the parameter\"> Limit- </th>\n",
       "        <th title=\"Upper limit of the parameter\"> Limit+ </th>\n",
       "        <th title=\"Is the parameter fixed in the fit\"> Fixed </th>\n",
       "    </tr>\n",
       "    <tr>\n",
       "        <th> 0 </th>\n",
       "        <td> alpha </td>\n",
       "        <td> 0.316 </td>\n",
       "        <td> 0.030 </td>\n",
       "        <td>  </td>\n",
       "        <td>  </td>\n",
       "        <td>  </td>\n",
       "        <td>  </td>\n",
       "        <td>  </td>\n",
       "    </tr>\n",
       "    <tr>\n",
       "        <th> 1 </th>\n",
       "        <td> beta </td>\n",
       "        <td> -0.08 </td>\n",
       "        <td> 0.06 </td>\n",
       "        <td>  </td>\n",
       "        <td>  </td>\n",
       "        <td>  </td>\n",
       "        <td>  </td>\n",
       "        <td>  </td>\n",
       "    </tr>\n",
       "</table><table>\n",
       "    <tr>\n",
       "        <td></td>\n",
       "        <th> alpha </th>\n",
       "        <th> beta </th>\n",
       "    </tr>\n",
       "    <tr>\n",
       "        <th> alpha </th>\n",
       "        <td> 0.000897 </td>\n",
       "        <td style=\"background-color:rgb(250,184,184);color:black\"> 0.8e-3 <strong>(0.440)</strong> </td>\n",
       "    </tr>\n",
       "    <tr>\n",
       "        <th> beta </th>\n",
       "        <td style=\"background-color:rgb(250,184,184);color:black\"> 0.8e-3 <strong>(0.440)</strong> </td>\n",
       "        <td> 0.00382 </td>\n",
       "    </tr>\n",
       "</table>"
      ],
      "text/plain": [
       "┌─────────────────────────────────────────────────────────────────────────┐\n",
       "│                                Migrad                                   │\n",
       "├──────────────────────────────────┬──────────────────────────────────────┤\n",
       "│ FCN = 2500                       │              Nfcn = 59               │\n",
       "│ EDM = 3.65e-10 (Goal: 0.0001)    │                                      │\n",
       "├──────────────────────────────────┼──────────────────────────────────────┤\n",
       "│          Valid Minimum           │   Below EDM threshold (goal x 10)    │\n",
       "├──────────────────────────────────┼──────────────────────────────────────┤\n",
       "│      No parameters at limit      │           Below call limit           │\n",
       "├──────────────────────────────────┼──────────────────────────────────────┤\n",
       "│             Hesse ok             │         Covariance accurate          │\n",
       "└──────────────────────────────────┴──────────────────────────────────────┘\n",
       "┌───┬───────┬───────────┬───────────┬────────────┬────────────┬─────────┬─────────┬───────┐\n",
       "│   │ Name  │   Value   │ Hesse Err │ Minos Err- │ Minos Err+ │ Limit-  │ Limit+  │ Fixed │\n",
       "├───┼───────┼───────────┼───────────┼────────────┼────────────┼─────────┼─────────┼───────┤\n",
       "│ 0 │ alpha │   0.316   │   0.030   │            │            │         │         │       │\n",
       "│ 1 │ beta  │   -0.08   │   0.06    │            │            │         │         │       │\n",
       "└───┴───────┴───────────┴───────────┴────────────┴────────────┴─────────┴─────────┴───────┘\n",
       "┌───────┬───────────────────┐\n",
       "│       │    alpha     beta │\n",
       "├───────┼───────────────────┤\n",
       "│ alpha │ 0.000897   0.8e-3 │\n",
       "│  beta │   0.8e-3  0.00382 │\n",
       "└───────┴───────────────────┘"
      ]
     },
     "execution_count": 3,
     "metadata": {},
     "output_type": "execute_result"
    }
   ],
   "source": [
    "def norm_pdf_parab(x, alpha, beta):\n",
    "    norm_const = 1 / (1.9 + 0.571583 * beta)\n",
    "    return norm_const * (1 + alpha * x + beta * x**2)\n",
    "\n",
    "\n",
    "def llh_parab_pdf(x, alpha, beta):\n",
    "    fit_vals = norm_pdf_parab(x, alpha, beta)\n",
    "    return 2 * np.sum(-np.log(fit_vals))\n",
    "\n",
    "\n",
    "llh_parab_data = lambda alpha, beta: llh_parab_pdf(x=data, alpha=alpha, beta=beta)\n",
    "minuit_parab = Minuit(llh_parab_data, alpha=0.5, beta=0.5)\n",
    "minuit_parab.errordef = 0.5\n",
    "minuit_parab.migrad()\n",
    "minuit_parab.hesse()"
   ]
  },
  {
   "cell_type": "code",
   "execution_count": 4,
   "metadata": {},
   "outputs": [
    {
     "data": {
      "text/plain": [
       "2499.970375201453"
      ]
     },
     "execution_count": 4,
     "metadata": {},
     "output_type": "execute_result"
    }
   ],
   "source": [
    "minuit_parab.fval"
   ]
  },
  {
   "cell_type": "code",
   "execution_count": 5,
   "metadata": {},
   "outputs": [],
   "source": [
    "alpha_fit, beta_fit = minuit_parab.values[:]\n",
    "N_lin = 1000\n",
    "parab_lin = np.linspace(parab_min, parab_max, N_lin)\n",
    "binwidth_parab = (parab_max - parab_min) / n_bins"
   ]
  },
  {
   "cell_type": "code",
   "execution_count": 6,
   "metadata": {},
   "outputs": [
    {
     "data": {
      "text/plain": [
       "Text(0, 0.5, 'Frequency')"
      ]
     },
     "execution_count": 6,
     "metadata": {},
     "output_type": "execute_result"
    },
    {
     "data": {
      "image/png": "[encoded data removed]",
      "text/plain": [
       "<Figure size 640x480 with 1 Axes>"
      ]
     },
     "metadata": {},
     "output_type": "display_data"
    }
   ],
   "source": [
    "plt.plot(parab_lin, norm_pdf_parab(parab_lin, alpha_fit, beta_fit))\n",
    "plt.stairs(values=data_counts, edges=data_edges)\n",
    "plt.xlabel(\"Data values\")\n",
    "plt.ylabel(\"Frequency\")"
   ]
  },
  {
   "cell_type": "code",
   "execution_count": 7,
   "metadata": {},
   "outputs": [
    {
     "name": "stderr",
     "output_type": "stream",
     "text": [
      "/tmp/ipykernel_6445/2997504446.py:3: RuntimeWarning: invalid value encountered in log\n",
      "  return 2 * np.sum(-np.log(fit_vals))\n"
     ]
    }
   ],
   "source": [
    "def llh_parab_pdf1(alpha, beta):\n",
    "    fit_vals = norm_pdf_parab(x_accepted, alpha, beta)\n",
    "    return 2 * np.sum(-np.log(fit_vals))\n",
    "\n",
    "\n",
    "y_min = 0\n",
    "y_max = 1\n",
    "N_trials = 10_000\n",
    "alpha_vals = []\n",
    "beta_vals = []\n",
    "for i in range(500):\n",
    "    x = np.random.uniform(parab_min, parab_max, N_trials)\n",
    "    y = np.random.uniform(y_min, y_max, N_trials)\n",
    "    f_x = norm_pdf_parab(x, alpha_fit, beta_fit)\n",
    "    x_accepted = x[y < f_x]\n",
    "    minuit_boot = Minuit(llh_parab_pdf1, alpha=0.5, beta=0.5)\n",
    "    minuit_boot.errordef = 0.5\n",
    "    minuit_boot.migrad()\n",
    "    minuit_boot.hesse()\n",
    "    alpha_vals.append(minuit_boot.values[\"alpha\"])\n",
    "    beta_vals.append(minuit_boot.values[\"beta\"])"
   ]
  },
  {
   "cell_type": "code",
   "execution_count": 8,
   "metadata": {},
   "outputs": [
    {
     "data": {
      "text/plain": [
       "Text(0, 0.5, 'frequency')"
      ]
     },
     "execution_count": 8,
     "metadata": {},
     "output_type": "execute_result"
    },
    {
     "data": {
      "image/png": "[encoded data removed]",
      "text/plain": [
       "<Figure size 640x480 with 1 Axes>"
      ]
     },
     "metadata": {},
     "output_type": "display_data"
    }
   ],
   "source": [
    "plt.hist(alpha_vals, bins=50)\n",
    "plt.xlabel(r\"$\\alpha$\")\n",
    "plt.ylabel(\"frequency\")"
   ]
  },
  {
   "cell_type": "code",
   "execution_count": 9,
   "metadata": {},
   "outputs": [
    {
     "data": {
      "text/plain": [
       "Text(0, 0.5, 'frequency')"
      ]
     },
     "execution_count": 9,
     "metadata": {},
     "output_type": "execute_result"
    },
    {
     "data": {
      "image/png": "[encoded data removed]",
      "text/plain": [
       "<Figure size 640x480 with 1 Axes>"
      ]
     },
     "metadata": {},
     "output_type": "display_data"
    }
   ],
   "source": [
    "plt.hist(beta_vals, bins=50)\n",
    "plt.xlabel(r\"$\\beta$\")\n",
    "plt.ylabel(\"frequency\")"
   ]
  },
  {
   "cell_type": "code",
   "execution_count": 10,
   "metadata": {},
   "outputs": [
    {
     "name": "stdout",
     "output_type": "stream",
     "text": [
      "\n",
      "Bootstrapping best fit, alpha: 0.31920197106766013\n",
      "Bootstrapping best fit, beta: -0.078261431428096\n"
     ]
    }
   ],
   "source": [
    "alpha_fit_boot = np.median(alpha_vals)\n",
    "beta_fit_boot = np.median(beta_vals)\n",
    "\n",
    "alpha_fit_boot = np.median(alpha_vals)\n",
    "print(\n",
    "    f\"\\nBootstrapping best fit, alpha: {alpha_fit_boot}\\nBootstrapping best fit, beta: {beta_fit_boot}\"\n",
    ")"
   ]
  },
  {
   "cell_type": "code",
   "execution_count": 11,
   "metadata": {},
   "outputs": [
    {
     "name": "stdout",
     "output_type": "stream",
     "text": [
      "\n",
      "Bootstrap alpha error estimate -: 0.025049949870022514 / +: 0.02520219134422963\n",
      "\n",
      "Bootstrap beta error estimate -: 0.048932493371118435 / +: 0.05233300758706721\n"
     ]
    }
   ],
   "source": [
    "one_sig_ptcl = 16\n",
    "alpha_boot_err_min = alpha_fit_boot - np.percentile(alpha_vals, one_sig_ptcl)\n",
    "alpha_boot_err_max = np.percentile(alpha_vals, 100 - one_sig_ptcl) - alpha_fit_boot\n",
    "beta_boot_err_min = beta_fit_boot - np.percentile(beta_vals, one_sig_ptcl)\n",
    "beta_boot_err_max = np.percentile(beta_vals, 100 - one_sig_ptcl) - beta_fit_boot\n",
    "print(\n",
    "    f\"\\nBootstrap alpha error estimate -: {alpha_boot_err_min} / +: {alpha_boot_err_max}\"\n",
    ")\n",
    "print(\n",
    "    f\"\\nBootstrap beta error estimate -: {beta_boot_err_min} / +: {beta_boot_err_max}\"\n",
    ")"
   ]
  },
  {
   "cell_type": "markdown",
   "metadata": {},
   "source": [
    "### Fix $\\alpha$ and repeat the above."
   ]
  },
  {
   "cell_type": "code",
   "execution_count": 12,
   "metadata": {},
   "outputs": [],
   "source": [
    "alpha_fix = 0.65\n",
    "pdf_alpha_fix = lambda beta: llh_parab_pdf(x=data, alpha=alpha_fix, beta=beta)\n",
    "minuit_alpha_fix = Minuit(pdf_alpha_fix, beta=0.5)\n",
    "minuit_alpha_fix.errordef = 0.5\n",
    "minuit_alpha_fix.migrad()\n",
    "minuit_alpha_fix.hesse()\n",
    "beta_fit_fix = minuit_alpha_fix.values[0]\n",
    "\n",
    "pdf_alpha_fix1 = lambda beta: llh_parab_pdf1(alpha=alpha_fix, beta=beta)\n",
    "beta_vals1 = []\n",
    "for i in range(500):\n",
    "    x = np.random.uniform(parab_min, parab_max, N_trials)\n",
    "    y = np.random.uniform(y_min, y_max, N_trials)\n",
    "    f_x = norm_pdf_parab(x, alpha_fix, beta_fit_fix)\n",
    "    x_accepted = x[y < f_x]\n",
    "    minuit_boot_fix = Minuit(pdf_alpha_fix1, beta=0.5)\n",
    "    minuit_boot_fix.errordef = 0.5\n",
    "    minuit_boot_fix.migrad()\n",
    "    minuit_boot_fix.hesse()\n",
    "    beta_vals1.append(minuit_boot_fix.values[\"beta\"])"
   ]
  },
  {
   "cell_type": "code",
   "execution_count": 13,
   "metadata": {},
   "outputs": [
    {
     "data": {
      "text/plain": [
       "Text(0, 0.5, 'frequency')"
      ]
     },
     "execution_count": 13,
     "metadata": {},
     "output_type": "execute_result"
    },
    {
     "data": {
      "image/png": "[encoded data removed]",
      "text/plain": [
       "<Figure size 640x480 with 1 Axes>"
      ]
     },
     "metadata": {},
     "output_type": "display_data"
    }
   ],
   "source": [
    "plt.hist(beta_vals1, bins=50)\n",
    "plt.xlabel(r\"$\\beta$\")\n",
    "plt.ylabel(\"frequency\")"
   ]
  },
  {
   "cell_type": "code",
   "execution_count": 14,
   "metadata": {},
   "outputs": [
    {
     "name": "stdout",
     "output_type": "stream",
     "text": [
      "\n",
      "Bootstrapping best fit, beta where alpha is fixed to 0.65: 0.34753680103906737\n"
     ]
    }
   ],
   "source": [
    "beta_boot_fix_fit = np.median(beta_vals1)\n",
    "print(\n",
    "    f\"\\nBootstrapping best fit, beta where alpha is fixed to {alpha_fix}: {beta_boot_fix_fit}\"\n",
    ")"
   ]
  },
  {
   "cell_type": "code",
   "execution_count": 15,
   "metadata": {},
   "outputs": [
    {
     "name": "stdout",
     "output_type": "stream",
     "text": [
      "\n",
      "Bootstrap beta error estimate -: 0.04695706568699065 / +: 0.048089637153962195\n"
     ]
    }
   ],
   "source": [
    "beta_boot_fix_err_min = beta_boot_fix_fit - np.percentile(beta_vals1, one_sig_ptcl)\n",
    "beta_boot_fix_err_max = (\n",
    "    np.percentile(beta_vals1, 100 - one_sig_ptcl) - beta_boot_fix_fit\n",
    ")\n",
    "print(\n",
    "    f\"\\nBootstrap beta error estimate -: {beta_boot_fix_err_min} / +: {beta_boot_fix_err_max}\"\n",
    ")"
   ]
  },
  {
   "cell_type": "markdown",
   "metadata": {},
   "source": [
    "### Repeat with range $-0.9\\leq x \\leq 0.85$"
   ]
  },
  {
   "cell_type": "code",
   "execution_count": 16,
   "metadata": {},
   "outputs": [
    {
     "data": {
      "text/html": [
       "<table>\n",
       "    <tr>\n",
       "        <th colspan=\"2\" style=\"text-align:center\" title=\"Minimizer\"> Migrad </th>\n",
       "    </tr>\n",
       "    <tr>\n",
       "        <td style=\"text-align:left\" title=\"Minimum value of function\"> FCN = 2067 </td>\n",
       "        <td style=\"text-align:center\" title=\"Total number of function and (optional) gradient evaluations\"> Nfcn = 29 </td>\n",
       "    </tr>\n",
       "    <tr>\n",
       "        <td style=\"text-align:left\" title=\"Estimated distance to minimum and goal\"> EDM = 2.4e-08 (Goal: 0.0001) </td>\n",
       "        <td style=\"text-align:center\" title=\"Total run time of algorithms\">  </td>\n",
       "    </tr>\n",
       "    <tr>\n",
       "        <td style=\"text-align:center;background-color:#92CCA6;color:black\"> Valid Minimum </td>\n",
       "        <td style=\"text-align:center;background-color:#92CCA6;color:black\"> Below EDM threshold (goal x 10) </td>\n",
       "    </tr>\n",
       "    <tr>\n",
       "        <td style=\"text-align:center;background-color:#92CCA6;color:black\"> No parameters at limit </td>\n",
       "        <td style=\"text-align:center;background-color:#92CCA6;color:black\"> Below call limit </td>\n",
       "    </tr>\n",
       "    <tr>\n",
       "        <td style=\"text-align:center;background-color:#92CCA6;color:black\"> Hesse ok </td>\n",
       "        <td style=\"text-align:center;background-color:#92CCA6;color:black\"> Covariance accurate </td>\n",
       "    </tr>\n",
       "</table><table>\n",
       "    <tr>\n",
       "        <td></td>\n",
       "        <th title=\"Variable name\"> Name </th>\n",
       "        <th title=\"Value of parameter\"> Value </th>\n",
       "        <th title=\"Hesse error\"> Hesse Error </th>\n",
       "        <th title=\"Minos lower error\"> Minos Error- </th>\n",
       "        <th title=\"Minos upper error\"> Minos Error+ </th>\n",
       "        <th title=\"Lower limit of the parameter\"> Limit- </th>\n",
       "        <th title=\"Upper limit of the parameter\"> Limit+ </th>\n",
       "        <th title=\"Is the parameter fixed in the fit\"> Fixed </th>\n",
       "    </tr>\n",
       "    <tr>\n",
       "        <th> 0 </th>\n",
       "        <td> beta </td>\n",
       "        <td> 0.99 </td>\n",
       "        <td> 0.09 </td>\n",
       "        <td>  </td>\n",
       "        <td>  </td>\n",
       "        <td>  </td>\n",
       "        <td>  </td>\n",
       "        <td>  </td>\n",
       "    </tr>\n",
       "</table><table>\n",
       "    <tr>\n",
       "        <td></td>\n",
       "        <th> beta </th>\n",
       "    </tr>\n",
       "    <tr>\n",
       "        <th> beta </th>\n",
       "        <td> 0.00862 </td>\n",
       "    </tr>\n",
       "</table>"
      ],
      "text/plain": [
       "┌─────────────────────────────────────────────────────────────────────────┐\n",
       "│                                Migrad                                   │\n",
       "├──────────────────────────────────┬──────────────────────────────────────┤\n",
       "│ FCN = 2067                       │              Nfcn = 29               │\n",
       "│ EDM = 2.4e-08 (Goal: 0.0001)     │                                      │\n",
       "├──────────────────────────────────┼──────────────────────────────────────┤\n",
       "│          Valid Minimum           │   Below EDM threshold (goal x 10)    │\n",
       "├──────────────────────────────────┼──────────────────────────────────────┤\n",
       "│      No parameters at limit      │           Below call limit           │\n",
       "├──────────────────────────────────┼──────────────────────────────────────┤\n",
       "│             Hesse ok             │         Covariance accurate          │\n",
       "└──────────────────────────────────┴──────────────────────────────────────┘\n",
       "┌───┬──────┬───────────┬───────────┬────────────┬────────────┬─────────┬─────────┬───────┐\n",
       "│   │ Name │   Value   │ Hesse Err │ Minos Err- │ Minos Err+ │ Limit-  │ Limit+  │ Fixed │\n",
       "├───┼──────┼───────────┼───────────┼────────────┼────────────┼─────────┼─────────┼───────┤\n",
       "│ 0 │ beta │   0.99    │   0.09    │            │            │         │         │       │\n",
       "└───┴──────┴───────────┴───────────┴────────────┴────────────┴─────────┴─────────┴───────┘\n",
       "┌──────┬─────────┐\n",
       "│      │    beta │\n",
       "├──────┼─────────┤\n",
       "│ beta │ 0.00862 │\n",
       "└──────┴─────────┘"
      ]
     },
     "execution_count": 16,
     "metadata": {},
     "output_type": "execute_result"
    }
   ],
   "source": [
    "def pdf_new_range(x, alpha, beta):\n",
    "    norm = 1 / (-0.04375 * alpha + 0.447708 * beta + 1.75)\n",
    "    return norm * (1 + alpha * x + beta * x**2)\n",
    "\n",
    "\n",
    "def llh_pdf_new_range(x, alpha, beta):\n",
    "    fit_vals = pdf_new_range(x, alpha, beta)\n",
    "    return 2 * np.sum(-np.log(fit_vals))\n",
    "\n",
    "\n",
    "llh_pdf_new_range1 = lambda beta: llh_pdf_new_range(x=data, alpha=alpha_fix, beta=beta)\n",
    "llh_pdf_new_range2 = lambda beta: llh_pdf_new_range(\n",
    "    x=x_accepted, alpha=alpha_fix, beta=beta\n",
    ")\n",
    "minuit_alpha_fix1 = Minuit(llh_pdf_new_range1, beta=0.5)\n",
    "minuit_alpha_fix1.errordef = 0.5\n",
    "minuit_alpha_fix1.migrad()\n",
    "minuit_alpha_fix1.hesse()"
   ]
  },
  {
   "cell_type": "code",
   "execution_count": 17,
   "metadata": {},
   "outputs": [],
   "source": [
    "beta_fit_fix1 = minuit_alpha_fix1.values[0]\n",
    "\n",
    "beta_vals2 = []\n",
    "parab_min1 = -0.9\n",
    "parab_max1 = 0.85\n",
    "for i in range(500):\n",
    "    x = np.random.uniform(parab_min1, parab_max1, N_trials)\n",
    "    y = np.random.uniform(y_min, y_max, N_trials)\n",
    "    f_x = norm_pdf_parab(x, alpha_fix, beta_fit_fix1)\n",
    "    x_accepted = x[y < f_x]\n",
    "    minuit_boot_fix = Minuit(llh_pdf_new_range2, beta=0.5)\n",
    "    minuit_boot_fix.errordef = 0.5\n",
    "    minuit_boot_fix.migrad()\n",
    "    minuit_boot_fix.hesse()\n",
    "    beta_vals2.append(minuit_boot_fix.values[\"beta\"])"
   ]
  },
  {
   "cell_type": "code",
   "execution_count": 18,
   "metadata": {},
   "outputs": [
    {
     "data": {
      "text/plain": [
       "Text(0, 0.5, 'frequency')"
      ]
     },
     "execution_count": 18,
     "metadata": {},
     "output_type": "execute_result"
    },
    {
     "data": {
      "image/png": "[encoded data removed]",
      "text/plain": [
       "<Figure size 640x480 with 1 Axes>"
      ]
     },
     "metadata": {},
     "output_type": "display_data"
    }
   ],
   "source": [
    "plt.hist(beta_vals2, bins=50)\n",
    "plt.xlabel(r\"$\\beta$\")\n",
    "plt.ylabel(\"frequency\")"
   ]
  },
  {
   "cell_type": "code",
   "execution_count": 19,
   "metadata": {},
   "outputs": [
    {
     "name": "stdout",
     "output_type": "stream",
     "text": [
      "\n",
      "Bootstrapping best fit, beta where alpha is fixed to 0.65: 0.9907674382003058\n"
     ]
    }
   ],
   "source": [
    "beta_boot_fix_fit1 = np.median(beta_vals2)\n",
    "print(\n",
    "    f\"\\nBootstrapping best fit, beta where alpha is fixed to {alpha_fix}: {beta_boot_fix_fit1}\"\n",
    ")"
   ]
  },
  {
   "cell_type": "code",
   "execution_count": 20,
   "metadata": {},
   "outputs": [
    {
     "name": "stdout",
     "output_type": "stream",
     "text": [
      "\n",
      "Bootstrap beta error estimate -: 0.08012672201430837 / +: 0.0800475860531562\n"
     ]
    }
   ],
   "source": [
    "beta_boot_fix_err_min1 = beta_boot_fix_fit1 - np.percentile(beta_vals2, one_sig_ptcl)\n",
    "beta_boot_fix_err_max1 = (\n",
    "    np.percentile(beta_vals2, 100 - one_sig_ptcl) - beta_boot_fix_fit1\n",
    ")\n",
    "print(\n",
    "    f\"\\nBootstrap beta error estimate -: {beta_boot_fix_err_min1} / +: {beta_boot_fix_err_max1}\"\n",
    ")"
   ]
  },
  {
   "cell_type": "code",
   "execution_count": 21,
   "metadata": {},
   "outputs": [
    {
     "data": {
      "text/plain": [
       "<matplotlib.lines.Line2D at 0x7f4cd509fbd0>"
      ]
     },
     "execution_count": 21,
     "metadata": {},
     "output_type": "execute_result"
    },
    {
     "data": {
      "image/png": "[encoded data removed]",
      "text/plain": [
       "<Figure size 640x480 with 1 Axes>"
      ]
     },
     "metadata": {},
     "output_type": "display_data"
    }
   ],
   "source": [
    "beta_lin = np.linspace(0.15, 1.5, 1000)\n",
    "llh_beta = -np.array([llh_pdf_new_range1(beta) for beta in beta_lin])\n",
    "plt.plot(beta_lin, llh_beta, \".\")\n",
    "plt.axvline(beta_fit_fix1, color=\"black\", ls=\"dashed\")"
   ]
  },
  {
   "cell_type": "code",
   "execution_count": 22,
   "metadata": {},
   "outputs": [
    {
     "name": "stdout",
     "output_type": "stream",
     "text": [
      "\n",
      "Likelihood beta error estimate -: 0.1265518862763002 / +: 0.13561027588586194\n"
     ]
    }
   ],
   "source": [
    "llh_max_1sig = llh_beta.max() - 1\n",
    "beta_1sig_llh_min = (\n",
    "    beta_fit_fix1\n",
    "    - beta_lin[: np.argmax(llh_beta)][\n",
    "        np.argmin(np.abs(llh_beta[: np.argmax(llh_beta)] - llh_max_1sig))\n",
    "    ]\n",
    ")\n",
    "beta_1sig_llh_max = (\n",
    "    beta_lin[np.argmax(llh_beta) :][\n",
    "        np.argmin(np.abs(llh_beta[np.argmax(llh_beta) :] - llh_max_1sig))\n",
    "    ]\n",
    "    - beta_fit_fix1\n",
    ")\n",
    "\n",
    "print(\n",
    "    f\"\\nLikelihood beta error estimate -: {beta_1sig_llh_min} / +: {beta_1sig_llh_max}\"\n",
    ")"
   ]
  },
  {
   "cell_type": "code",
   "execution_count": 23,
   "metadata": {},
   "outputs": [],
   "source": [
    "N_mesh = 200\n",
    "alpha_mesh, beta_mesh = np.meshgrid(\n",
    "    np.linspace(0, 1, N_mesh), np.linspace(0, 1, N_mesh)\n",
    ")\n",
    "pdf_mesh = pdf_new_range(\n",
    "    data[np.newaxis, :],\n",
    "    alpha_mesh.reshape(-1, 1),\n",
    "    beta_mesh.reshape(-1, 1),\n",
    ")\n",
    "llh_pdf_mesh = np.sum(np.log(pdf_mesh), axis=1).reshape(N_mesh, N_mesh)"
   ]
  },
  {
   "cell_type": "code",
   "execution_count": 24,
   "metadata": {},
   "outputs": [
    {
     "data": {
      "text/plain": [
       "<matplotlib.colorbar.Colorbar at 0x7f4cd4fa6250>"
      ]
     },
     "execution_count": 24,
     "metadata": {},
     "output_type": "execute_result"
    },
    {
     "data": {
      "image/png": "[encoded data removed]",
      "text/plain": [
       "<Figure size 640x480 with 2 Axes>"
      ]
     },
     "metadata": {},
     "output_type": "display_data"
    }
   ],
   "source": [
    "onesig_llh_cutoff = 1.15\n",
    "twosig_llh_cutoff = 3.09\n",
    "threesig_llh_cutoff = 5.92\n",
    "plt.pcolormesh(alpha_mesh, beta_mesh, llh_pdf_mesh)\n",
    "plt.plot(\n",
    "    alpha_mesh[\n",
    "        (llh_pdf_mesh >= (llh_pdf_mesh.max() - threesig_llh_cutoff))\n",
    "        & (llh_pdf_mesh <= (llh_pdf_mesh.max() + threesig_llh_cutoff))\n",
    "    ],\n",
    "    beta_mesh[\n",
    "        (llh_pdf_mesh >= (llh_pdf_mesh.max() - threesig_llh_cutoff))\n",
    "        & (llh_pdf_mesh <= (llh_pdf_mesh.max() + threesig_llh_cutoff))\n",
    "    ],\n",
    "    llh_pdf_mesh[\n",
    "        (llh_pdf_mesh >= (llh_pdf_mesh.max() - threesig_llh_cutoff))\n",
    "        & (llh_pdf_mesh <= (llh_pdf_mesh.max() - threesig_llh_cutoff))\n",
    "    ],\n",
    ")\n",
    "plt.plot(\n",
    "    alpha_mesh[\n",
    "        (llh_pdf_mesh >= (llh_pdf_mesh.max() - twosig_llh_cutoff))\n",
    "        & (llh_pdf_mesh <= (llh_pdf_mesh.max() + twosig_llh_cutoff))\n",
    "    ],\n",
    "    beta_mesh[\n",
    "        (llh_pdf_mesh >= (llh_pdf_mesh.max() - twosig_llh_cutoff))\n",
    "        & (llh_pdf_mesh <= (llh_pdf_mesh.max() + twosig_llh_cutoff))\n",
    "    ],\n",
    "    llh_pdf_mesh[\n",
    "        (llh_pdf_mesh >= (llh_pdf_mesh.max() - twosig_llh_cutoff))\n",
    "        & (llh_pdf_mesh <= (llh_pdf_mesh.max() - twosig_llh_cutoff))\n",
    "    ],\n",
    ")\n",
    "\n",
    "plt.plot(\n",
    "    alpha_mesh[\n",
    "        (llh_pdf_mesh >= (llh_pdf_mesh.max() - onesig_llh_cutoff))\n",
    "        & (llh_pdf_mesh <= (llh_pdf_mesh.max() + onesig_llh_cutoff))\n",
    "    ],\n",
    "    beta_mesh[\n",
    "        (llh_pdf_mesh >= (llh_pdf_mesh.max() - onesig_llh_cutoff))\n",
    "        & (llh_pdf_mesh <= (llh_pdf_mesh.max() + onesig_llh_cutoff))\n",
    "    ],\n",
    "    llh_pdf_mesh[\n",
    "        (llh_pdf_mesh >= (llh_pdf_mesh.max() - onesig_llh_cutoff))\n",
    "        & (llh_pdf_mesh <= (llh_pdf_mesh.max() - onesig_llh_cutoff))\n",
    "    ],\n",
    ")\n",
    "plt.xlabel(r\"$\\alpha$\", fontsize=15)\n",
    "plt.ylabel(r\"$\\beta$\", fontsize=15)\n",
    "plt.colorbar()"
   ]
  },
  {
   "cell_type": "code",
   "execution_count": 25,
   "metadata": {},
   "outputs": [
    {
     "name": "stderr",
     "output_type": "stream",
     "text": [
      "/tmp/ipykernel_6445/590648997.py:12: ParserWarning: Falling back to the 'python' engine because the 'c' engine does not support regex separators (separators > 1 char and different from '\\s+' are interpreted as regex); you can avoid this warning by specifying engine='python'.\n",
      "  data2_x1, data2_x2 = pd.read_csv(\n"
     ]
    }
   ],
   "source": [
    "def pdf_final_range(x, alpha, beta):\n",
    "    norm = 3 / (2 * (beta + 3))\n",
    "    return norm * (1 + alpha * x + beta * x**2)\n",
    "\n",
    "\n",
    "def llh_final_range(x, alpha, beta):\n",
    "    fit_vals = pdf_final_range(x, alpha, beta)\n",
    "    return -2 * np.sum(np.log(fit_vals))\n",
    "\n",
    "\n",
    "data2_path = \"https://www.nbi.dk/~koskinen/Teaching/AdvancedMethodsInAppliedStatistics2024/data/MLE_Variance_data.txt\"\n",
    "data2_x1, data2_x2 = pd.read_csv(\n",
    "    data2_path, delimiter=\"\\s\", names=[\"x1\", \"x2\"]\n",
    ").T.values"
   ]
  },
  {
   "cell_type": "code",
   "execution_count": 26,
   "metadata": {},
   "outputs": [],
   "source": [
    "llh_fin_x1 = lambda alpha, beta: llh_final_range(x=data2_x1, alpha=alpha, beta=beta)\n",
    "llh_fin_x2 = lambda alpha, beta: llh_final_range(x=data2_x2, alpha=alpha, beta=beta)\n",
    "\n",
    "minuit_fin_x1 = Minuit(llh_fin_x1, alpha=0.5, beta=0.5)\n",
    "minuit_fin_x2 = Minuit(llh_fin_x2, alpha=0.01, beta=0.5)\n",
    "fin_lin = np.linspace(-1, 1, 1000)"
   ]
  },
  {
   "cell_type": "code",
   "execution_count": 27,
   "metadata": {},
   "outputs": [
    {
     "data": {
      "text/html": [
       "<table>\n",
       "    <tr>\n",
       "        <th colspan=\"2\" style=\"text-align:center\" title=\"Minimizer\"> Migrad </th>\n",
       "    </tr>\n",
       "    <tr>\n",
       "        <td style=\"text-align:left\" title=\"Minimum value of function\"> FCN = 2737 </td>\n",
       "        <td style=\"text-align:center\" title=\"Total number of function and (optional) gradient evaluations\"> Nfcn = 46 </td>\n",
       "    </tr>\n",
       "    <tr>\n",
       "        <td style=\"text-align:left\" title=\"Estimated distance to minimum and goal\"> EDM = 2.53e-06 (Goal: 0.0002) </td>\n",
       "        <td style=\"text-align:center\" title=\"Total run time of algorithms\">  </td>\n",
       "    </tr>\n",
       "    <tr>\n",
       "        <td style=\"text-align:center;background-color:#92CCA6;color:black\"> Valid Minimum </td>\n",
       "        <td style=\"text-align:center;background-color:#92CCA6;color:black\"> Below EDM threshold (goal x 10) </td>\n",
       "    </tr>\n",
       "    <tr>\n",
       "        <td style=\"text-align:center;background-color:#92CCA6;color:black\"> No parameters at limit </td>\n",
       "        <td style=\"text-align:center;background-color:#92CCA6;color:black\"> Below call limit </td>\n",
       "    </tr>\n",
       "    <tr>\n",
       "        <td style=\"text-align:center;background-color:#92CCA6;color:black\"> Hesse ok </td>\n",
       "        <td style=\"text-align:center;background-color:#92CCA6;color:black\"> Covariance accurate </td>\n",
       "    </tr>\n",
       "</table><table>\n",
       "    <tr>\n",
       "        <td></td>\n",
       "        <th title=\"Variable name\"> Name </th>\n",
       "        <th title=\"Value of parameter\"> Value </th>\n",
       "        <th title=\"Hesse error\"> Hesse Error </th>\n",
       "        <th title=\"Minos lower error\"> Minos Error- </th>\n",
       "        <th title=\"Minos upper error\"> Minos Error+ </th>\n",
       "        <th title=\"Lower limit of the parameter\"> Limit- </th>\n",
       "        <th title=\"Upper limit of the parameter\"> Limit+ </th>\n",
       "        <th title=\"Is the parameter fixed in the fit\"> Fixed </th>\n",
       "    </tr>\n",
       "    <tr>\n",
       "        <th> 0 </th>\n",
       "        <td> alpha </td>\n",
       "        <td> 0.02 </td>\n",
       "        <td> 0.05 </td>\n",
       "        <td>  </td>\n",
       "        <td>  </td>\n",
       "        <td>  </td>\n",
       "        <td>  </td>\n",
       "        <td>  </td>\n",
       "    </tr>\n",
       "    <tr>\n",
       "        <th> 1 </th>\n",
       "        <td> beta </td>\n",
       "        <td> 0.54 </td>\n",
       "        <td> 0.11 </td>\n",
       "        <td>  </td>\n",
       "        <td>  </td>\n",
       "        <td>  </td>\n",
       "        <td>  </td>\n",
       "        <td>  </td>\n",
       "    </tr>\n",
       "</table><table>\n",
       "    <tr>\n",
       "        <td></td>\n",
       "        <th> alpha </th>\n",
       "        <th> beta </th>\n",
       "    </tr>\n",
       "    <tr>\n",
       "        <th> alpha </th>\n",
       "        <td> 0.00235 </td>\n",
       "        <td style=\"background-color:rgb(250,233,233);color:black\"> 0.0006 <strong>(0.113)</strong> </td>\n",
       "    </tr>\n",
       "    <tr>\n",
       "        <th> beta </th>\n",
       "        <td style=\"background-color:rgb(250,233,233);color:black\"> 0.0006 <strong>(0.113)</strong> </td>\n",
       "        <td> 0.0119 </td>\n",
       "    </tr>\n",
       "</table>"
      ],
      "text/plain": [
       "┌─────────────────────────────────────────────────────────────────────────┐\n",
       "│                                Migrad                                   │\n",
       "├──────────────────────────────────┬──────────────────────────────────────┤\n",
       "│ FCN = 2737                       │              Nfcn = 46               │\n",
       "│ EDM = 2.53e-06 (Goal: 0.0002)    │                                      │\n",
       "├──────────────────────────────────┼──────────────────────────────────────┤\n",
       "│          Valid Minimum           │   Below EDM threshold (goal x 10)    │\n",
       "├──────────────────────────────────┼──────────────────────────────────────┤\n",
       "│      No parameters at limit      │           Below call limit           │\n",
       "├──────────────────────────────────┼──────────────────────────────────────┤\n",
       "│             Hesse ok             │         Covariance accurate          │\n",
       "└──────────────────────────────────┴──────────────────────────────────────┘\n",
       "┌───┬───────┬───────────┬───────────┬────────────┬────────────┬─────────┬─────────┬───────┐\n",
       "│   │ Name  │   Value   │ Hesse Err │ Minos Err- │ Minos Err+ │ Limit-  │ Limit+  │ Fixed │\n",
       "├───┼───────┼───────────┼───────────┼────────────┼────────────┼─────────┼─────────┼───────┤\n",
       "│ 0 │ alpha │   0.02    │   0.05    │            │            │         │         │       │\n",
       "│ 1 │ beta  │   0.54    │   0.11    │            │            │         │         │       │\n",
       "└───┴───────┴───────────┴───────────┴────────────┴────────────┴─────────┴─────────┴───────┘\n",
       "┌───────┬─────────────────┐\n",
       "│       │   alpha    beta │\n",
       "├───────┼─────────────────┤\n",
       "│ alpha │ 0.00235  0.0006 │\n",
       "│  beta │  0.0006  0.0119 │\n",
       "└───────┴─────────────────┘"
      ]
     },
     "execution_count": 27,
     "metadata": {},
     "output_type": "execute_result"
    }
   ],
   "source": [
    "minuit_fin_x1.migrad()"
   ]
  },
  {
   "cell_type": "code",
   "execution_count": 28,
   "metadata": {},
   "outputs": [
    {
     "data": {
      "text/plain": [
       "[<matplotlib.lines.Line2D at 0x7f4cd4e25110>]"
      ]
     },
     "execution_count": 28,
     "metadata": {},
     "output_type": "execute_result"
    },
    {
     "data": {
      "image/png": "[encoded data removed]",
      "text/plain": [
       "<Figure size 640x480 with 1 Axes>"
      ]
     },
     "metadata": {},
     "output_type": "display_data"
    }
   ],
   "source": [
    "plt.hist(data2_x1, bins=50, density=True)\n",
    "plt.plot(fin_lin, pdf_final_range(fin_lin, *minuit_fin_x1.values[:]))"
   ]
  },
  {
   "cell_type": "code",
   "execution_count": 29,
   "metadata": {},
   "outputs": [
    {
     "data": {
      "text/html": [
       "<table>\n",
       "    <tr>\n",
       "        <th colspan=\"2\" style=\"text-align:center\" title=\"Minimizer\"> Migrad </th>\n",
       "    </tr>\n",
       "    <tr>\n",
       "        <td style=\"text-align:left\" title=\"Minimum value of function\"> FCN = 1962 </td>\n",
       "        <td style=\"text-align:center\" title=\"Total number of function and (optional) gradient evaluations\"> Nfcn = 50 </td>\n",
       "    </tr>\n",
       "    <tr>\n",
       "        <td style=\"text-align:left\" title=\"Estimated distance to minimum and goal\"> EDM = 5.73e-07 (Goal: 0.0002) </td>\n",
       "        <td style=\"text-align:center\" title=\"Total run time of algorithms\">  </td>\n",
       "    </tr>\n",
       "    <tr>\n",
       "        <td style=\"text-align:center;background-color:#92CCA6;color:black\"> Valid Minimum </td>\n",
       "        <td style=\"text-align:center;background-color:#92CCA6;color:black\"> Below EDM threshold (goal x 10) </td>\n",
       "    </tr>\n",
       "    <tr>\n",
       "        <td style=\"text-align:center;background-color:#92CCA6;color:black\"> No parameters at limit </td>\n",
       "        <td style=\"text-align:center;background-color:#92CCA6;color:black\"> Below call limit </td>\n",
       "    </tr>\n",
       "    <tr>\n",
       "        <td style=\"text-align:center;background-color:#92CCA6;color:black\"> Hesse ok </td>\n",
       "        <td style=\"text-align:center;background-color:#92CCA6;color:black\"> Covariance accurate </td>\n",
       "    </tr>\n",
       "</table><table>\n",
       "    <tr>\n",
       "        <td></td>\n",
       "        <th title=\"Variable name\"> Name </th>\n",
       "        <th title=\"Value of parameter\"> Value </th>\n",
       "        <th title=\"Hesse error\"> Hesse Error </th>\n",
       "        <th title=\"Minos lower error\"> Minos Error- </th>\n",
       "        <th title=\"Minos upper error\"> Minos Error+ </th>\n",
       "        <th title=\"Lower limit of the parameter\"> Limit- </th>\n",
       "        <th title=\"Upper limit of the parameter\"> Limit+ </th>\n",
       "        <th title=\"Is the parameter fixed in the fit\"> Fixed </th>\n",
       "    </tr>\n",
       "    <tr>\n",
       "        <th> 0 </th>\n",
       "        <td> alpha </td>\n",
       "        <td> 1.38 </td>\n",
       "        <td> 0.07 </td>\n",
       "        <td>  </td>\n",
       "        <td>  </td>\n",
       "        <td>  </td>\n",
       "        <td>  </td>\n",
       "        <td>  </td>\n",
       "    </tr>\n",
       "    <tr>\n",
       "        <th> 1 </th>\n",
       "        <td> beta </td>\n",
       "        <td> 0.87 </td>\n",
       "        <td> 0.11 </td>\n",
       "        <td>  </td>\n",
       "        <td>  </td>\n",
       "        <td>  </td>\n",
       "        <td>  </td>\n",
       "        <td>  </td>\n",
       "    </tr>\n",
       "</table><table>\n",
       "    <tr>\n",
       "        <td></td>\n",
       "        <th> alpha </th>\n",
       "        <th> beta </th>\n",
       "    </tr>\n",
       "    <tr>\n",
       "        <th> alpha </th>\n",
       "        <td> 0.00494 </td>\n",
       "        <td style=\"background-color:rgb(250,126,126);color:black\"> 0.006 <strong>(0.827)</strong> </td>\n",
       "    </tr>\n",
       "    <tr>\n",
       "        <th> beta </th>\n",
       "        <td style=\"background-color:rgb(250,126,126);color:black\"> 0.006 <strong>(0.827)</strong> </td>\n",
       "        <td> 0.0124 </td>\n",
       "    </tr>\n",
       "</table>"
      ],
      "text/plain": [
       "┌─────────────────────────────────────────────────────────────────────────┐\n",
       "│                                Migrad                                   │\n",
       "├──────────────────────────────────┬──────────────────────────────────────┤\n",
       "│ FCN = 1962                       │              Nfcn = 50               │\n",
       "│ EDM = 5.73e-07 (Goal: 0.0002)    │                                      │\n",
       "├──────────────────────────────────┼──────────────────────────────────────┤\n",
       "│          Valid Minimum           │   Below EDM threshold (goal x 10)    │\n",
       "├──────────────────────────────────┼──────────────────────────────────────┤\n",
       "│      No parameters at limit      │           Below call limit           │\n",
       "├──────────────────────────────────┼──────────────────────────────────────┤\n",
       "│             Hesse ok             │         Covariance accurate          │\n",
       "└──────────────────────────────────┴──────────────────────────────────────┘\n",
       "┌───┬───────┬───────────┬───────────┬────────────┬────────────┬─────────┬─────────┬───────┐\n",
       "│   │ Name  │   Value   │ Hesse Err │ Minos Err- │ Minos Err+ │ Limit-  │ Limit+  │ Fixed │\n",
       "├───┼───────┼───────────┼───────────┼────────────┼────────────┼─────────┼─────────┼───────┤\n",
       "│ 0 │ alpha │   1.38    │   0.07    │            │            │         │         │       │\n",
       "│ 1 │ beta  │   0.87    │   0.11    │            │            │         │         │       │\n",
       "└───┴───────┴───────────┴───────────┴────────────┴────────────┴─────────┴─────────┴───────┘\n",
       "┌───────┬─────────────────┐\n",
       "│       │   alpha    beta │\n",
       "├───────┼─────────────────┤\n",
       "│ alpha │ 0.00494   0.006 │\n",
       "│  beta │   0.006  0.0124 │\n",
       "└───────┴─────────────────┘"
      ]
     },
     "execution_count": 29,
     "metadata": {},
     "output_type": "execute_result"
    }
   ],
   "source": [
    "minuit_fin_x2.migrad()"
   ]
  },
  {
   "cell_type": "code",
   "execution_count": 30,
   "metadata": {},
   "outputs": [
    {
     "data": {
      "text/plain": [
       "[<matplotlib.lines.Line2D at 0x7f4cd4f116d0>]"
      ]
     },
     "execution_count": 30,
     "metadata": {},
     "output_type": "execute_result"
    },
    {
     "data": {
      "image/png": "[encoded data removed]",
      "text/plain": [
       "<Figure size 640x480 with 1 Axes>"
      ]
     },
     "metadata": {},
     "output_type": "display_data"
    }
   ],
   "source": [
    "plt.hist(data2_x2, bins=50, density=True)\n",
    "plt.plot(fin_lin, pdf_final_range(fin_lin, *minuit_fin_x2.values[:]))"
   ]
  }
 ],
 "metadata": {
  "kernelspec": {
   "display_name": "base",
   "language": "python",
   "name": "python3"
  },
  "language_info": {
   "codemirror_mode": {
    "name": "ipython",
    "version": 3
   },
   "file_extension": ".py",
   "mimetype": "text/x-python",
   "name": "python",
   "nbconvert_exporter": "python",
   "pygments_lexer": "ipython3",
   "version": "3.11.5"
  }
 },
 "nbformat": 4,
 "nbformat_minor": 2
}
