{
 "cells": [
  {
   "cell_type": "code",
   "execution_count": 1,
   "metadata": {},
   "outputs": [],
   "source": [
    "import numpy as np\n",
    "import matplotlib.pyplot as plt"
   ]
  },
  {
   "cell_type": "code",
   "execution_count": 2,
   "metadata": {},
   "outputs": [],
   "source": [
    "Nbins = 100\n",
    "N_experiments = 10_000"
   ]
  },
  {
   "cell_type": "markdown",
   "metadata": {},
   "source": [
    "### Three background cases\n",
    "Here we choose $\\mu_{sig}^{\\ast}$ = 0 and $\\mu_{bg}=0.1$, 10 or 1000.\n",
    "Note: $\\mu_{bg}$ is not the same as $\\mu_{bg}^{\\ast}$"
   ]
  },
  {
   "cell_type": "code",
   "execution_count": 3,
   "metadata": {},
   "outputs": [
    {
     "name": "stderr",
     "output_type": "stream",
     "text": [
      "/tmp/ipykernel_270316/1286452694.py:15: RuntimeWarning: divide by zero encountered in divide\n",
      "  lam_threebg1 = 2 * x1_threebg1 * np.log(Nbins / Ntot_threebg1 * x1_threebg1) + 2 * (\n",
      "/tmp/ipykernel_270316/1286452694.py:15: RuntimeWarning: invalid value encountered in multiply\n",
      "  lam_threebg1 = 2 * x1_threebg1 * np.log(Nbins / Ntot_threebg1 * x1_threebg1) + 2 * (\n",
      "/tmp/ipykernel_270316/1286452694.py:15: RuntimeWarning: divide by zero encountered in log\n",
      "  lam_threebg1 = 2 * x1_threebg1 * np.log(Nbins / Ntot_threebg1 * x1_threebg1) + 2 * (\n",
      "/tmp/ipykernel_270316/1286452694.py:17: RuntimeWarning: divide by zero encountered in divide\n",
      "  ) * np.log(Nbins / Ntot_threebg1 * (Ntot_threebg1 - x1_threebg1) / (Nbins - 1))\n",
      "/tmp/ipykernel_270316/1286452694.py:17: RuntimeWarning: invalid value encountered in multiply\n",
      "  ) * np.log(Nbins / Ntot_threebg1 * (Ntot_threebg1 - x1_threebg1) / (Nbins - 1))\n"
     ]
    }
   ],
   "source": [
    "musig_threebg = 0\n",
    "mubg_threebg1 = 0.1\n",
    "mubg_threebg2 = 10\n",
    "mubg_threebg3 = 1000\n",
    "\n",
    "poisson_threebg1 = np.random.poisson(lam=mubg_threebg1, size=(N_experiments, Nbins))\n",
    "poisson_threebg2 = np.random.poisson(lam=mubg_threebg2, size=(N_experiments, Nbins))\n",
    "poisson_threebg3 = np.random.poisson(lam=mubg_threebg3, size=(N_experiments, Nbins))\n",
    "Ntot_threebg1 = np.sum(poisson_threebg1, axis=1)\n",
    "Ntot_threebg2 = np.sum(poisson_threebg2, axis=1)\n",
    "Ntot_threebg3 = np.sum(poisson_threebg3, axis=1)\n",
    "x1_threebg1 = poisson_threebg1[:, 0]\n",
    "x1_threebg2 = poisson_threebg2[:, 0]\n",
    "x1_threebg3 = poisson_threebg3[:, 0]\n",
    "lam_threebg1 = 2 * x1_threebg1 * np.log(Nbins / Ntot_threebg1 * x1_threebg1) + 2 * (\n",
    "    Ntot_threebg1 - x1_threebg1\n",
    ") * np.log(Nbins / Ntot_threebg1 * (Ntot_threebg1 - x1_threebg1) / (Nbins - 1))\n",
    "lam_threebg2 = 2 * x1_threebg2 * np.log(Nbins / Ntot_threebg2 * x1_threebg2) + 2 * (\n",
    "    Ntot_threebg2 - x1_threebg2\n",
    ") * np.log(Nbins / Ntot_threebg2 * (Ntot_threebg2 - x1_threebg2) / (Nbins - 1))\n",
    "lam_threebg3 = 2 * x1_threebg3 * np.log(Nbins / Ntot_threebg3 * x1_threebg3) + 2 * (\n",
    "    Ntot_threebg3 - x1_threebg3\n",
    ") * np.log(Nbins / Ntot_threebg3 * (Ntot_threebg3 - x1_threebg3) / (Nbins - 1))\n",
    "lam_threebg1 = np.nan_to_num(lam_threebg1, nan=0, posinf=0, neginf=0)\n",
    "lam_threebg2 = np.nan_to_num(lam_threebg2, nan=0, posinf=0, neginf=0)\n",
    "lam_threebg3 = np.nan_to_num(lam_threebg3, nan=0, posinf=0, neginf=0)"
   ]
  },
  {
   "cell_type": "code",
   "execution_count": 4,
   "metadata": {},
   "outputs": [
    {
     "data": {
      "text/plain": [
       "(0.0, 25.0)"
      ]
     },
     "execution_count": 4,
     "metadata": {},
     "output_type": "execute_result"
    },
    {
     "data": {
      "image/png": "[encoded data removed]",
      "text/plain": [
       "<Figure size 640x480 with 1 Axes>"
      ]
     },
     "metadata": {},
     "output_type": "display_data"
    }
   ],
   "source": [
    "plt.hist(lam_threebg1, bins=np.arange(0, 100, 0.5), log=True)\n",
    "plt.xlim(0, 25)"
   ]
  },
  {
   "cell_type": "code",
   "execution_count": 5,
   "metadata": {},
   "outputs": [
    {
     "data": {
      "text/plain": [
       "(0.0, 25.0)"
      ]
     },
     "execution_count": 5,
     "metadata": {},
     "output_type": "execute_result"
    },
    {
     "data": {
      "image/png": "[encoded data removed]",
      "text/plain": [
       "<Figure size 640x480 with 1 Axes>"
      ]
     },
     "metadata": {},
     "output_type": "display_data"
    }
   ],
   "source": [
    "plt.hist(lam_threebg2, bins=np.arange(0, 100, 0.5), log=True)\n",
    "plt.xlim(0, 25)"
   ]
  },
  {
   "cell_type": "code",
   "execution_count": 6,
   "metadata": {},
   "outputs": [
    {
     "data": {
      "text/plain": [
       "(0.0, 25.0)"
      ]
     },
     "execution_count": 6,
     "metadata": {},
     "output_type": "execute_result"
    },
    {
     "data": {
      "image/png": "[encoded data removed]",
      "text/plain": [
       "<Figure size 640x480 with 1 Axes>"
      ]
     },
     "metadata": {},
     "output_type": "display_data"
    }
   ],
   "source": [
    "plt.hist(lam_threebg3, bins=np.arange(0, 100, 0.5), log=True)\n",
    "plt.xlim(0, 25)"
   ]
  },
  {
   "cell_type": "markdown",
   "metadata": {},
   "source": [
    "### Signal cases\n",
    "Here we choose $\\mu_{bg}=1000$ with $\\mu_{sig}=100, 200$"
   ]
  },
  {
   "cell_type": "code",
   "execution_count": 9,
   "metadata": {},
   "outputs": [],
   "source": [
    "mubg_twosig = 1000\n",
    "musig_twosig1 = 100\n",
    "musig_twosig2 = 200\n",
    "\n",
    "poisson_twosig1 = np.column_stack(\n",
    "    (\n",
    "    np.random.poisson(lam=mubg_twosig + musig_twosig1, size=N_experiments),\n",
    "    np.random.poisson(lam=mubg_twosig, size=(N_experiments, Nbins - 1))\n",
    "    )\n",
    ")\n",
    "poisson_twosig2 = np.column_stack(\n",
    "    (\n",
    "    np.random.poisson(lam=mubg_twosig + musig_twosig2, size=N_experiments),\n",
    "    np.random.poisson(lam=mubg_twosig, size=(N_experiments, Nbins - 1))\n",
    "    )\n",
    ")\n",
    "Ntot_twosig1 = np.sum(poisson_twosig1, axis=1)\n",
    "Ntot_twosig2 = np.sum(poisson_twosig2, axis=1)\n",
    "x1_twosig1 = poisson_twosig1[:, 0]\n",
    "x1_twosig2 = poisson_twosig2[:, 0]\n",
    "lam_twosig1 = 2 * x1_twosig1 * np.log(Nbins / Ntot_twosig1 * x1_twosig1) + 2 * (\n",
    "    Ntot_twosig1 - x1_twosig1\n",
    ") * np.log(Nbins / Ntot_twosig1 * (Ntot_twosig1 - x1_twosig1) / (Nbins - 1))\n",
    "lam_twosig2 = 2 * x1_twosig2 * np.log(Nbins / Ntot_twosig2 * x1_twosig2) + 2 * (\n",
    "    Ntot_twosig2 - x1_twosig2\n",
    ") * np.log(Nbins / Ntot_twosig2 * (Ntot_twosig2 - x1_twosig2) / (Nbins - 1))\n",
    "lam_twosig1 = np.nan_to_num(lam_twosig1, nan=0, posinf=0, neginf=0)\n",
    "lam_twosig2 = np.nan_to_num(lam_twosig2, nan=0, posinf=0, neginf=0)"
   ]
  },
  {
   "cell_type": "code",
   "execution_count": 10,
   "metadata": {},
   "outputs": [
    {
     "data": {
      "text/plain": [
       "(0.0, 25.0)"
      ]
     },
     "execution_count": 10,
     "metadata": {},
     "output_type": "execute_result"
    },
    {
     "data": {
      "image/png": "[encoded data removed]",
      "text/plain": [
       "<Figure size 640x480 with 1 Axes>"
      ]
     },
     "metadata": {},
     "output_type": "display_data"
    }
   ],
   "source": [
    "plt.hist(lam_twosig1, bins=np.arange(0, 100, 0.5), log=True)\n",
    "plt.xlim(0, 25)"
   ]
  },
  {
   "cell_type": "code",
   "execution_count": 12,
   "metadata": {},
   "outputs": [
    {
     "data": {
      "text/plain": [
       "(0.0, 25.0)"
      ]
     },
     "execution_count": 12,
     "metadata": {},
     "output_type": "execute_result"
    },
    {
     "data": {
      "image/png": "[encoded data removed]",
      "text/plain": [
       "<Figure size 640x480 with 1 Axes>"
      ]
     },
     "metadata": {},
     "output_type": "display_data"
    }
   ],
   "source": [
    "plt.hist(lam_twosig2, bins=np.arange(0, 100, 0.5), log=True)\n",
    "plt.xlim(0, 25)"
   ]
  }
 ],
 "metadata": {
  "kernelspec": {
   "display_name": "base",
   "language": "python",
   "name": "python3"
  },
  "language_info": {
   "codemirror_mode": {
    "name": "ipython",
    "version": 3
   },
   "file_extension": ".py",
   "mimetype": "text/x-python",
   "name": "python",
   "nbconvert_exporter": "python",
   "pygments_lexer": "ipython3",
   "version": "3.11.5"
  }
 },
 "nbformat": 4,
 "nbformat_minor": 2
}
