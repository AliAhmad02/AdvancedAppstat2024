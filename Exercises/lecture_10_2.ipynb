{
 "cells": [
  {
   "cell_type": "code",
   "execution_count": 1,
   "metadata": {},
   "outputs": [
    {
     "name": "stderr",
     "output_type": "stream",
     "text": [
      "/home/ali/miniconda3/lib/python3.11/site-packages/tqdm/auto.py:21: TqdmWarning: IProgress not found. Please update jupyter and ipywidgets. See https://ipywidgets.readthedocs.io/en/stable/user_install.html\n",
      "  from .autonotebook import tqdm as notebook_tqdm\n"
     ]
    }
   ],
   "source": [
    "import matplotlib.pyplot as plt\n",
    "import pandas as pd\n",
    "from xgboost import XGBClassifier\n",
    "from sklearn.metrics import roc_auc_score, accuracy_score\n",
    "from optuna import Trial, create_study\n",
    "from sklearn.model_selection import train_test_split\n",
    "import numpy as np"
   ]
  },
  {
   "cell_type": "code",
   "execution_count": 2,
   "metadata": {},
   "outputs": [],
   "source": [
    "labeled_data_path = \"https://www.nbi.dk/~koskinen/Teaching/AdvancedMethodsInAppliedStatistics2016/data/breast-cancer-wisconsin_train-test.txt\"\n",
    "data_labeled = pd.read_csv(\n",
    "    labeled_data_path,\n",
    "    delimiter=\"\\s+\",\n",
    "    names=[\n",
    "        \"ID\",\n",
    "        \"Clump Thickness\",\n",
    "        \"Uniformity of Cell Size\",\n",
    "        \"Uniformity of Cell Shape\",\n",
    "        \"Marginal Adhesion\",\n",
    "        \"Single Epithelial Cell Size\",\n",
    "        \"Bare Nuclei\",\n",
    "        \"Bland Chromatin\",\n",
    "        \"Normal Nucleoli\",\n",
    "        \"Mitoses\",\n",
    "        \"Class\",\n",
    "    ]\n",
    ")\n",
    "data_labeled[\"Class\"] = data_labeled[\"Class\"].replace({2: 0, 4: 1})"
   ]
  },
  {
   "cell_type": "code",
   "execution_count": 3,
   "metadata": {},
   "outputs": [],
   "source": [
    "class XGBObjective:\n",
    "    def __init__(self, X_train, X_test, y_train, y_test, objective):\n",
    "        self.X_train = X_train\n",
    "        self.X_test = X_test\n",
    "        self.y_train = y_train\n",
    "        self.y_test = y_test\n",
    "\n",
    "    def __call__(self, trial: Trial):\n",
    "        params = {\n",
    "            \"n_estimators\": trial.suggest_int(\"n_estimators\", 100, 1000),\n",
    "            \"learning_rate\": trial.suggest_float(\"learning_rate\", 0, 1),\n",
    "            \"max_depth\": trial.suggest_int(\"max_depth\", 3, 10),\n",
    "            \"lambda\": trial.suggest_float(\"lambda\", 1e-8, 1.0, log=True),\n",
    "            \"alpha\": trial.suggest_float(\"alpha\", 1e-8, 1.0, log=True),\n",
    "            \"subsample\": trial.suggest_float(\"subsample\", 0.2, 1.0),\n",
    "            \"colsample_bytree\": trial.suggest_float(\"colsample_bytree\", 0.2, 1.0),\n",
    "            \"gamma\": trial.suggest_float(\"gamma\", 0, 20),\n",
    "        }\n",
    "        bst = XGBClassifier(**params)\n",
    "        bst.fit(self.X_train, self.y_train)\n",
    "        bst_pred = bst.predict(self.X_test)\n",
    "        score = accuracy_score(self.y_test, bst_pred)\n",
    "        return score"
   ]
  },
  {
   "cell_type": "code",
   "execution_count": 4,
   "metadata": {},
   "outputs": [
    {
     "name": "stderr",
     "output_type": "stream",
     "text": [
      "[I 2024-03-09 13:17:18,458] A new study created in memory with name: no-name-c44a715d-d87d-439b-865a-d0e33005e52d\n"
     ]
    },
    {
     "name": "stderr",
     "output_type": "stream",
     "text": [
      "[I 2024-03-09 13:17:18,670] Trial 0 finished with value: 0.95 and parameters: {'n_estimators': 530, 'learning_rate': 0.6693627951856326, 'max_depth': 5, 'lambda': 0.0008144732177082368, 'alpha': 0.00796809696945198, 'subsample': 0.689949826003817, 'colsample_bytree': 0.682728057424874, 'gamma': 11.245316822906561}. Best is trial 0 with value: 0.95.\n",
      "[I 2024-03-09 13:17:18,770] Trial 1 finished with value: 0.93 and parameters: {'n_estimators': 332, 'learning_rate': 0.520262702167543, 'max_depth': 9, 'lambda': 3.2268498160882096e-05, 'alpha': 0.03318166839682001, 'subsample': 0.5884292241587352, 'colsample_bytree': 0.7389465902788817, 'gamma': 15.843821737247074}. Best is trial 0 with value: 0.95.\n",
      "[I 2024-03-09 13:17:18,955] Trial 2 finished with value: 0.99 and parameters: {'n_estimators': 858, 'learning_rate': 0.03425111350659127, 'max_depth': 9, 'lambda': 1.154790854266402e-06, 'alpha': 1.615194674186914e-08, 'subsample': 0.3103984063791833, 'colsample_bytree': 0.20852780611718985, 'gamma': 9.045580447332519}. Best is trial 2 with value: 0.99.\n",
      "[I 2024-03-09 13:17:19,010] Trial 3 finished with value: 0.92 and parameters: {'n_estimators': 199, 'learning_rate': 0.6821562698112738, 'max_depth': 7, 'lambda': 9.683170045037906e-07, 'alpha': 1.3273092456335592e-06, 'subsample': 0.46152994874908926, 'colsample_bytree': 0.822079737595452, 'gamma': 18.900017952290618}. Best is trial 2 with value: 0.99.\n",
      "[I 2024-03-09 13:17:19,225] Trial 4 finished with value: 0.95 and parameters: {'n_estimators': 979, 'learning_rate': 0.5703079475495432, 'max_depth': 8, 'lambda': 0.00019313966694920598, 'alpha': 0.059619477937059275, 'subsample': 0.920023947365856, 'colsample_bytree': 0.5496367746356651, 'gamma': 15.180208634314296}. Best is trial 2 with value: 0.99.\n",
      "[I 2024-03-09 13:17:19,336] Trial 5 finished with value: 0.95 and parameters: {'n_estimators': 487, 'learning_rate': 0.920772844080815, 'max_depth': 7, 'lambda': 0.000181013728811842, 'alpha': 0.0016892591798902045, 'subsample': 0.7035292405673086, 'colsample_bytree': 0.6986755804546496, 'gamma': 15.513829661094842}. Best is trial 2 with value: 0.99.\n",
      "[I 2024-03-09 13:17:19,393] Trial 6 finished with value: 0.98 and parameters: {'n_estimators': 236, 'learning_rate': 0.24180178396677177, 'max_depth': 10, 'lambda': 0.0003872406337928448, 'alpha': 0.00021285310895155903, 'subsample': 0.7449838080417948, 'colsample_bytree': 0.45479063805584313, 'gamma': 9.372158215187504}. Best is trial 2 with value: 0.99.\n",
      "[I 2024-03-09 13:17:19,503] Trial 7 finished with value: 0.95 and parameters: {'n_estimators': 451, 'learning_rate': 0.31165955996440864, 'max_depth': 8, 'lambda': 1.3456749498920241e-05, 'alpha': 1.2751404766063032e-06, 'subsample': 0.8528719094890282, 'colsample_bytree': 0.982279676174489, 'gamma': 0.09763883029648035}. Best is trial 2 with value: 0.99.\n",
      "[I 2024-03-09 13:17:19,709] Trial 8 finished with value: 0.96 and parameters: {'n_estimators': 996, 'learning_rate': 0.38013620699896444, 'max_depth': 9, 'lambda': 7.519067903393512e-07, 'alpha': 0.004028433324618373, 'subsample': 0.9751058657855027, 'colsample_bytree': 0.394413276714237, 'gamma': 9.278622158289076}. Best is trial 2 with value: 0.99.\n",
      "[I 2024-03-09 13:17:19,938] Trial 9 finished with value: 0.93 and parameters: {'n_estimators': 999, 'learning_rate': 0.6407119705577875, 'max_depth': 4, 'lambda': 0.010563662965142197, 'alpha': 1.0331625234435893e-06, 'subsample': 0.8720357030994252, 'colsample_bytree': 0.7372899501507824, 'gamma': 18.84098425339922}. Best is trial 2 with value: 0.99.\n",
      "[I 2024-03-09 13:17:20,158] Trial 10 finished with value: 0.98 and parameters: {'n_estimators': 743, 'learning_rate': 0.002960862848965462, 'max_depth': 3, 'lambda': 1.0973041660523469e-08, 'alpha': 4.3621330934463824e-08, 'subsample': 0.23803503147531657, 'colsample_bytree': 0.20053920331799707, 'gamma': 3.43322767828729}. Best is trial 2 with value: 0.99.\n",
      "[I 2024-03-09 13:17:20,383] Trial 11 finished with value: 0.99 and parameters: {'n_estimators': 772, 'learning_rate': 0.02217510363461677, 'max_depth': 10, 'lambda': 0.907912515014527, 'alpha': 5.09661220315565e-05, 'subsample': 0.20069268327934747, 'colsample_bytree': 0.29723475932407784, 'gamma': 7.90549534222424}. Best is trial 2 with value: 0.99.\n",
      "[I 2024-03-09 13:17:20,583] Trial 12 finished with value: 0.98 and parameters: {'n_estimators': 740, 'learning_rate': 0.0046857592026559244, 'max_depth': 10, 'lambda': 0.22412291972126047, 'alpha': 1.0917933996296277e-08, 'subsample': 0.21557183738755248, 'colsample_bytree': 0.23721862362242363, 'gamma': 5.1520585082815895}. Best is trial 2 with value: 0.99.\n",
      "[I 2024-03-09 13:17:20,773] Trial 13 finished with value: 0.97 and parameters: {'n_estimators': 777, 'learning_rate': 0.14622086225365138, 'max_depth': 10, 'lambda': 0.12142156280595623, 'alpha': 0.814093973732663, 'subsample': 0.36561336439947834, 'colsample_bytree': 0.3310013676266105, 'gamma': 6.0707918964374645}. Best is trial 2 with value: 0.99.\n",
      "[I 2024-03-09 13:17:20,988] Trial 14 finished with value: 0.96 and parameters: {'n_estimators': 845, 'learning_rate': 0.14743078537785126, 'max_depth': 6, 'lambda': 4.820888581415672e-08, 'alpha': 2.0851195506700118e-05, 'subsample': 0.3515223339395126, 'colsample_bytree': 0.3156117275138446, 'gamma': 10.950139729044036}. Best is trial 2 with value: 0.99.\n",
      "[I 2024-03-09 13:17:21,183] Trial 15 finished with value: 0.98 and parameters: {'n_estimators': 652, 'learning_rate': 0.1427580920138276, 'max_depth': 9, 'lambda': 2.4541202195587086e-06, 'alpha': 2.817133626653707e-05, 'subsample': 0.3372958342525758, 'colsample_bytree': 0.5014143168069382, 'gamma': 7.028583933885985}. Best is trial 2 with value: 0.99.\n",
      "[I 2024-03-09 13:17:21,405] Trial 16 finished with value: 0.94 and parameters: {'n_estimators': 877, 'learning_rate': 0.40776706533091295, 'max_depth': 8, 'lambda': 0.020072189517770213, 'alpha': 1.5449449269073503e-07, 'subsample': 0.5021645456611483, 'colsample_bytree': 0.3030452934771149, 'gamma': 13.070252407430853}. Best is trial 2 with value: 0.99.\n",
      "[I 2024-03-09 13:17:21,591] Trial 17 finished with value: 0.91 and parameters: {'n_estimators': 653, 'learning_rate': 0.9885018324550644, 'max_depth': 9, 'lambda': 0.004492415907797555, 'alpha': 0.00036492673077188713, 'subsample': 0.27639392286249054, 'colsample_bytree': 0.402711559012649, 'gamma': 2.58227057521035}. Best is trial 2 with value: 0.99.\n",
      "[I 2024-03-09 13:17:21,778] Trial 18 finished with value: 0.99 and parameters: {'n_estimators': 633, 'learning_rate': 0.07447596182885788, 'max_depth': 6, 'lambda': 0.9668820294456891, 'alpha': 9.622950789442095e-06, 'subsample': 0.4478637358987603, 'colsample_bytree': 0.20624732449717473, 'gamma': 7.8251517263917325}. Best is trial 2 with value: 0.99.\n",
      "[I 2024-03-09 13:17:22,105] Trial 19 finished with value: 0.98 and parameters: {'n_estimators': 846, 'learning_rate': 0.23695192105107946, 'max_depth': 10, 'lambda': 1.086017309999267e-07, 'alpha': 1.511664384149514e-07, 'subsample': 0.5671825507342867, 'colsample_bytree': 0.590499377001346, 'gamma': 12.750052570794887}. Best is trial 2 with value: 0.99.\n",
      "[I 2024-03-09 13:17:22,503] Trial 20 finished with value: 0.99 and parameters: {'n_estimators': 894, 'learning_rate': 0.23381410615665066, 'max_depth': 8, 'lambda': 3.842617933299113e-06, 'alpha': 5.851309991911155e-06, 'subsample': 0.3054304972710706, 'colsample_bytree': 0.27999893935147935, 'gamma': 3.9109728544994606}. Best is trial 2 with value: 0.99.\n",
      "[I 2024-03-09 13:17:22,676] Trial 21 finished with value: 0.99 and parameters: {'n_estimators': 630, 'learning_rate': 0.08220697018406863, 'max_depth': 6, 'lambda': 0.5794194835381753, 'alpha': 5.046687037395867e-05, 'subsample': 0.4223200441887831, 'colsample_bytree': 0.2103046118914589, 'gamma': 7.596023154842705}. Best is trial 2 with value: 0.99.\n",
      "[I 2024-03-09 13:17:22,841] Trial 22 finished with value: 0.99 and parameters: {'n_estimators': 598, 'learning_rate': 0.05755880743137612, 'max_depth': 5, 'lambda': 0.053569036069776386, 'alpha': 7.412482619344348e-06, 'subsample': 0.39770156879174046, 'colsample_bytree': 0.38162208229944317, 'gamma': 8.359676046648088}. Best is trial 2 with value: 0.99.\n",
      "[I 2024-03-09 13:17:23,097] Trial 23 finished with value: 0.99 and parameters: {'n_estimators': 725, 'learning_rate': 0.11235905363678428, 'max_depth': 5, 'lambda': 0.9815025417662863, 'alpha': 0.0007457984531549426, 'subsample': 0.5086084062211346, 'colsample_bytree': 0.268869750887956, 'gamma': 5.768628111498959}. Best is trial 2 with value: 0.99.\n",
      "[I 2024-03-09 13:17:23,248] Trial 24 finished with value: 0.98 and parameters: {'n_estimators': 429, 'learning_rate': 0.013309886660208547, 'max_depth': 7, 'lambda': 0.0019345117905855567, 'alpha': 0.0001054415314718379, 'subsample': 0.21463447755699955, 'colsample_bytree': 0.3563080077222355, 'gamma': 10.768182796553546}. Best is trial 2 with value: 0.99.\n",
      "[I 2024-03-09 13:17:23,463] Trial 25 finished with value: 0.97 and parameters: {'n_estimators': 821, 'learning_rate': 0.1964700570602627, 'max_depth': 6, 'lambda': 0.04201778112876008, 'alpha': 3.244919513905531e-07, 'subsample': 0.30079505118030386, 'colsample_bytree': 0.4668303910415362, 'gamma': 12.617887094293717}. Best is trial 2 with value: 0.99.\n",
      "[I 2024-03-09 13:17:23,686] Trial 26 finished with value: 0.97 and parameters: {'n_estimators': 924, 'learning_rate': 0.32708547593060766, 'max_depth': 9, 'lambda': 4.8321655752990944e-05, 'alpha': 1.4905993883583192e-08, 'subsample': 0.44034143760570943, 'colsample_bytree': 0.256430572221526, 'gamma': 8.38182062328934}. Best is trial 2 with value: 0.99.\n",
      "[I 2024-03-09 13:17:23,872] Trial 27 finished with value: 0.98 and parameters: {'n_estimators': 693, 'learning_rate': 0.0931710525287284, 'max_depth': 10, 'lambda': 0.2983681823859932, 'alpha': 4.724373801477452e-06, 'subsample': 0.27224182593157237, 'colsample_bytree': 0.4299491179997127, 'gamma': 1.1422301857808588}. Best is trial 2 with value: 0.99.\n",
      "[I 2024-03-09 13:17:24,136] Trial 28 finished with value: 0.94 and parameters: {'n_estimators': 579, 'learning_rate': 0.4466497623187769, 'max_depth': 4, 'lambda': 0.08981964989130224, 'alpha': 4.20115750026997e-08, 'subsample': 0.5225485580338264, 'colsample_bytree': 0.21170992931316837, 'gamma': 7.068305813137977}. Best is trial 2 with value: 0.99.\n",
      "[I 2024-03-09 13:17:24,293] Trial 29 finished with value: 0.97 and parameters: {'n_estimators': 516, 'learning_rate': 0.7954949046817373, 'max_depth': 7, 'lambda': 0.0012809244294863654, 'alpha': 0.010889058833365196, 'subsample': 0.6522306228134818, 'colsample_bytree': 0.32022694923496997, 'gamma': 9.625318261334733}. Best is trial 2 with value: 0.99.\n",
      "[I 2024-03-09 13:17:24,524] Trial 30 finished with value: 0.97 and parameters: {'n_estimators': 796, 'learning_rate': 0.3160097213916538, 'max_depth': 6, 'lambda': 2.1272129210553405e-07, 'alpha': 1.125868001307961e-05, 'subsample': 0.3852020899304959, 'colsample_bytree': 0.5144820573850617, 'gamma': 11.805048929438371}. Best is trial 2 with value: 0.99.\n",
      "[I 2024-03-09 13:17:24,720] Trial 31 finished with value: 0.99 and parameters: {'n_estimators': 917, 'learning_rate': 0.204468183195542, 'max_depth': 8, 'lambda': 4.2793172776053776e-06, 'alpha': 2.971805652200779e-06, 'subsample': 0.313467261159597, 'colsample_bytree': 0.27650326797991365, 'gamma': 4.173908064961063}. Best is trial 2 with value: 0.99.\n",
      "[I 2024-03-09 13:17:24,783] Trial 32 finished with value: 0.99 and parameters: {'n_estimators': 105, 'learning_rate': 0.06850018111043966, 'max_depth': 8, 'lambda': 1.0721864204284719e-05, 'alpha': 5.7567135410670876e-05, 'subsample': 0.2002259001027105, 'colsample_bytree': 0.2753382242049294, 'gamma': 3.6750074692986665}. Best is trial 2 with value: 0.99.\n",
      "[I 2024-03-09 13:17:24,965] Trial 33 finished with value: 0.97 and parameters: {'n_estimators': 911, 'learning_rate': 0.18394806873942998, 'max_depth': 9, 'lambda': 7.838854879974817e-07, 'alpha': 5.257214299772443e-07, 'subsample': 0.29467053571787366, 'colsample_bytree': 0.3466399945801889, 'gamma': 1.9067497418325488}. Best is trial 2 with value: 0.99.\n",
      "[I 2024-03-09 13:17:25,110] Trial 34 finished with value: 0.99 and parameters: {'n_estimators': 692, 'learning_rate': 0.0396917265258174, 'max_depth': 8, 'lambda': 3.615623446635769e-05, 'alpha': 0.00016419501606798267, 'subsample': 0.2547370605994309, 'colsample_bytree': 0.8935851267004866, 'gamma': 4.888045670377485}. Best is trial 2 with value: 0.99.\n",
      "[I 2024-03-09 13:17:25,243] Trial 35 finished with value: 0.91 and parameters: {'n_estimators': 782, 'learning_rate': 0.27358561232114054, 'max_depth': 9, 'lambda': 4.153522900736239e-06, 'alpha': 3.028246013486429e-06, 'subsample': 0.45865476838810604, 'colsample_bytree': 0.25016613611267785, 'gamma': 14.261084057546636}. Best is trial 2 with value: 0.99.\n",
      "[I 2024-03-09 13:17:25,402] Trial 36 finished with value: 0.98 and parameters: {'n_estimators': 878, 'learning_rate': 0.12288040132903551, 'max_depth': 7, 'lambda': 3.7922894118025985e-07, 'alpha': 0.0008318548472152047, 'subsample': 0.33314803395262504, 'colsample_bytree': 0.6449781589464574, 'gamma': 6.37627376562649}. Best is trial 2 with value: 0.99.\n",
      "[I 2024-03-09 13:17:25,707] Trial 37 finished with value: 0.97 and parameters: {'n_estimators': 939, 'learning_rate': 0.5234083706155884, 'max_depth': 10, 'lambda': 0.0001322684430238633, 'alpha': 1.3562316226664994e-05, 'subsample': 0.37747128280202047, 'colsample_bytree': 0.3031692194100727, 'gamma': 8.303921035686107}. Best is trial 2 with value: 0.99.\n",
      "[I 2024-03-09 13:17:25,778] Trial 38 finished with value: 0.94 and parameters: {'n_estimators': 347, 'learning_rate': 0.25411551402036214, 'max_depth': 9, 'lambda': 1.4277317415470558e-05, 'alpha': 0.08923188773332581, 'subsample': 0.6032309760481175, 'colsample_bytree': 0.8163970026160405, 'gamma': 10.687872000182391}. Best is trial 2 with value: 0.99.\n",
      "[I 2024-03-09 13:17:25,910] Trial 39 finished with value: 0.96 and parameters: {'n_estimators': 951, 'learning_rate': 0.0771795546434405, 'max_depth': 7, 'lambda': 1.8176068283575014e-06, 'alpha': 1.7783787886891493e-06, 'subsample': 0.2550141143668477, 'colsample_bytree': 0.3614922670746301, 'gamma': 8.946871754035502}. Best is trial 2 with value: 0.99.\n",
      "[I 2024-03-09 13:17:26,016] Trial 40 finished with value: 0.93 and parameters: {'n_estimators': 545, 'learning_rate': 0.17174694823252787, 'max_depth': 8, 'lambda': 0.00032880492950908356, 'alpha': 0.003874448215426469, 'subsample': 0.7627136396350295, 'colsample_bytree': 0.20121321921494284, 'gamma': 16.350482285809953}. Best is trial 2 with value: 0.99.\n",
      "[I 2024-03-09 13:17:26,122] Trial 41 finished with value: 0.99 and parameters: {'n_estimators': 613, 'learning_rate': 0.08877165016871233, 'max_depth': 6, 'lambda': 0.722514773497963, 'alpha': 4.2983915378144023e-05, 'subsample': 0.43018743329996695, 'colsample_bytree': 0.2372045475247333, 'gamma': 7.4482532658789244}. Best is trial 2 with value: 0.99.\n",
      "[I 2024-03-09 13:17:26,235] Trial 42 finished with value: 0.99 and parameters: {'n_estimators': 663, 'learning_rate': 0.050298735763603525, 'max_depth': 5, 'lambda': 0.38304231814058093, 'alpha': 7.604300338789816e-05, 'subsample': 0.41066864467209224, 'colsample_bytree': 0.20186794156543775, 'gamma': 7.72332210572999}. Best is trial 2 with value: 0.99.\n",
      "[I 2024-03-09 13:17:26,348] Trial 43 finished with value: 0.99 and parameters: {'n_estimators': 748, 'learning_rate': 0.018950425682378758, 'max_depth': 6, 'lambda': 0.24407150751963377, 'alpha': 0.00035009637916633173, 'subsample': 0.32976831270502316, 'colsample_bytree': 0.293011325996603, 'gamma': 9.982012732734415}. Best is trial 2 with value: 0.99.\n",
      "[I 2024-03-09 13:17:26,431] Trial 44 finished with value: 0.99 and parameters: {'n_estimators': 451, 'learning_rate': 0.1093655283375569, 'max_depth': 6, 'lambda': 0.013371693503304723, 'alpha': 7.056665494028057e-07, 'subsample': 0.4810852898096944, 'colsample_bytree': 0.23565330661503575, 'gamma': 4.749914816055217}. Best is trial 2 with value: 0.99.\n",
      "[I 2024-03-09 13:17:26,569] Trial 45 finished with value: 0.97 and parameters: {'n_estimators': 816, 'learning_rate': 0.738012142857021, 'max_depth': 10, 'lambda': 0.5376309112313156, 'alpha': 2.3379883833661336e-05, 'subsample': 0.24762488488158288, 'colsample_bytree': 0.42414142624148876, 'gamma': 6.444141531325847}. Best is trial 2 with value: 0.99.\n",
      "[I 2024-03-09 13:17:26,734] Trial 46 finished with value: 0.97 and parameters: {'n_estimators': 868, 'learning_rate': 0.21576634205898956, 'max_depth': 4, 'lambda': 0.13305066186498096, 'alpha': 8.621720332557855e-06, 'subsample': 0.5455384832072818, 'colsample_bytree': 0.23427566148413825, 'gamma': 5.785341652743663}. Best is trial 2 with value: 0.99.\n",
      "[I 2024-03-09 13:17:26,882] Trial 47 finished with value: 0.95 and parameters: {'n_estimators': 706, 'learning_rate': 0.15654531226664198, 'max_depth': 7, 'lambda': 2.1506643491022608e-08, 'alpha': 7.873975558703245e-08, 'subsample': 0.3614166635998676, 'colsample_bytree': 0.3295250207827561, 'gamma': 3.08803101189352}. Best is trial 2 with value: 0.99.\n",
      "[I 2024-03-09 13:17:26,995] Trial 48 finished with value: 0.93 and parameters: {'n_estimators': 624, 'learning_rate': 0.37957730480804547, 'max_depth': 8, 'lambda': 0.033589868423625546, 'alpha': 0.00017474380774288188, 'subsample': 0.6191277294098456, 'colsample_bytree': 0.2854379604465785, 'gamma': 9.10628486385012}. Best is trial 2 with value: 0.99.\n",
      "[I 2024-03-09 13:17:27,189] Trial 49 finished with value: 0.99 and parameters: {'n_estimators': 752, 'learning_rate': 0.004165981602838237, 'max_depth': 9, 'lambda': 0.12854820810970624, 'alpha': 3.1602032843786664e-05, 'subsample': 0.4216687818053704, 'colsample_bytree': 0.23067318779671836, 'gamma': 0.034272765510936054}. Best is trial 2 with value: 0.99.\n",
      "[I 2024-03-09 13:17:27,306] Trial 50 finished with value: 0.98 and parameters: {'n_estimators': 510, 'learning_rate': 0.05353950742446592, 'max_depth': 5, 'lambda': 1.0750200494916569e-07, 'alpha': 0.0013062014324130686, 'subsample': 0.28557160901697626, 'colsample_bytree': 0.37706279569072876, 'gamma': 7.974815618655077}. Best is trial 2 with value: 0.99.\n",
      "[I 2024-03-09 13:17:27,390] Trial 51 finished with value: 0.99 and parameters: {'n_estimators': 387, 'learning_rate': 0.060132658838067815, 'max_depth': 5, 'lambda': 0.05417185177002213, 'alpha': 9.898222127285147e-06, 'subsample': 0.3987631964326613, 'colsample_bytree': 0.2615062164749005, 'gamma': 8.775520199611707}. Best is trial 2 with value: 0.99.\n",
      "[I 2024-03-09 13:17:27,487] Trial 52 finished with value: 0.94 and parameters: {'n_estimators': 572, 'learning_rate': 0.13260567876553067, 'max_depth': 4, 'lambda': 0.8748134478523116, 'alpha': 5.626563038527623e-06, 'subsample': 0.47162758859885634, 'colsample_bytree': 0.3878229497628154, 'gamma': 10.218569914846157}. Best is trial 2 with value: 0.99.\n",
      "[I 2024-03-09 13:17:27,592] Trial 53 finished with value: 0.99 and parameters: {'n_estimators': 610, 'learning_rate': 0.09298721231064853, 'max_depth': 5, 'lambda': 0.39047380738252285, 'alpha': 1.7209733425354504e-06, 'subsample': 0.22752831982546062, 'colsample_bytree': 0.32601796670264416, 'gamma': 11.51132903173211}. Best is trial 2 with value: 0.99.\n",
      "[I 2024-03-09 13:17:27,735] Trial 54 finished with value: 0.97 and parameters: {'n_estimators': 661, 'learning_rate': 0.617709878037132, 'max_depth': 6, 'lambda': 0.17016745060035995, 'alpha': 9.91118219709673e-05, 'subsample': 0.3594618593284285, 'colsample_bytree': 0.28564465156349894, 'gamma': 6.985786937689419}. Best is trial 2 with value: 0.99.\n",
      "[I 2024-03-09 13:17:27,888] Trial 55 finished with value: 0.99 and parameters: {'n_estimators': 961, 'learning_rate': 0.044910805998170725, 'max_depth': 10, 'lambda': 0.0071966196115915045, 'alpha': 0.0003729359562236406, 'subsample': 0.32207763716456994, 'colsample_bytree': 0.22181171869054345, 'gamma': 9.761775580079862}. Best is trial 2 with value: 0.99.\n",
      "[I 2024-03-09 13:17:28,003] Trial 56 finished with value: 0.94 and parameters: {'n_estimators': 564, 'learning_rate': 0.00012276190282174693, 'max_depth': 5, 'lambda': 0.052272518307406826, 'alpha': 3.8363670856276735e-07, 'subsample': 0.40181006453485607, 'colsample_bytree': 0.45890931649483213, 'gamma': 5.504347452892782}. Best is trial 2 with value: 0.99.\n",
      "[I 2024-03-09 13:17:28,093] Trial 57 finished with value: 0.96 and parameters: {'n_estimators': 482, 'learning_rate': 0.1544712078412644, 'max_depth': 3, 'lambda': 1.370134585566582e-06, 'alpha': 1.936104387764188e-05, 'subsample': 0.44414580284381294, 'colsample_bytree': 0.3468407605158383, 'gamma': 8.144956008427034}. Best is trial 2 with value: 0.99.\n",
      "[I 2024-03-09 13:17:28,220] Trial 58 finished with value: 0.97 and parameters: {'n_estimators': 841, 'learning_rate': 0.2858434615413098, 'max_depth': 6, 'lambda': 0.9495750718175621, 'alpha': 5.36377914957978e-06, 'subsample': 0.2726284811759204, 'colsample_bytree': 0.5887221371905897, 'gamma': 6.497311525619788}. Best is trial 2 with value: 0.99.\n",
      "[I 2024-03-09 13:17:28,352] Trial 59 finished with value: 0.98 and parameters: {'n_estimators': 896, 'learning_rate': 0.12001564538700338, 'max_depth': 10, 'lambda': 3.3560934638119615e-07, 'alpha': 1.9971585153973003e-07, 'subsample': 0.4900064536322858, 'colsample_bytree': 0.42276294176233, 'gamma': 12.261436752025173}. Best is trial 2 with value: 0.99.\n",
      "[I 2024-03-09 13:17:28,466] Trial 60 finished with value: 0.98 and parameters: {'n_estimators': 772, 'learning_rate': 0.21862341011881767, 'max_depth': 5, 'lambda': 0.0024703914135892745, 'alpha': 5.645328887248881e-05, 'subsample': 0.534232408919906, 'colsample_bytree': 0.24861991545551043, 'gamma': 7.282134505945344}. Best is trial 2 with value: 0.99.\n",
      "[I 2024-03-09 13:17:28,587] Trial 61 finished with value: 0.99 and parameters: {'n_estimators': 723, 'learning_rate': 0.10536960358805118, 'max_depth': 5, 'lambda': 0.308421689479542, 'alpha': 0.000651457941822559, 'subsample': 0.5022003489900921, 'colsample_bytree': 0.2656232432176982, 'gamma': 5.72958048264963}. Best is trial 2 with value: 0.99.\n",
      "[I 2024-03-09 13:17:28,703] Trial 62 finished with value: 0.97 and parameters: {'n_estimators': 634, 'learning_rate': 0.03638762090711803, 'max_depth': 4, 'lambda': 0.515744992949941, 'alpha': 0.02698575602179299, 'subsample': 0.3844415503395107, 'colsample_bytree': 0.31244514880754093, 'gamma': 4.297551749034019}. Best is trial 2 with value: 0.99.\n",
      "[I 2024-03-09 13:17:28,827] Trial 63 finished with value: 0.97 and parameters: {'n_estimators': 591, 'learning_rate': 0.17883828207317937, 'max_depth': 6, 'lambda': 0.8332615586920151, 'alpha': 0.003094917361123898, 'subsample': 0.5607267636790948, 'colsample_bytree': 0.20038585549352494, 'gamma': 2.2508899273114973}. Best is trial 2 with value: 0.99.\n",
      "[I 2024-03-09 13:17:28,961] Trial 64 finished with value: 0.98 and parameters: {'n_estimators': 807, 'learning_rate': 0.07346264769878408, 'max_depth': 5, 'lambda': 0.07826321097358813, 'alpha': 3.1304463510223146e-08, 'subsample': 0.45257041130394643, 'colsample_bytree': 0.2751578533128378, 'gamma': 8.801967539569338}. Best is trial 2 with value: 0.99.\n",
      "[I 2024-03-09 13:17:29,079] Trial 65 finished with value: 0.99 and parameters: {'n_estimators': 700, 'learning_rate': 0.1255720167089636, 'max_depth': 4, 'lambda': 6.980278631663842e-05, 'alpha': 0.00015091674614584716, 'subsample': 0.30847125432699074, 'colsample_bytree': 0.29775031867262736, 'gamma': 5.031539121113044}. Best is trial 2 with value: 0.99.\n",
      "[I 2024-03-09 13:17:29,206] Trial 66 finished with value: 0.98 and parameters: {'n_estimators': 839, 'learning_rate': 0.030100400865, 'max_depth': 7, 'lambda': 0.17524978828595317, 'alpha': 3.029729985386948e-06, 'subsample': 0.5073515852411011, 'colsample_bytree': 0.4932726547882468, 'gamma': 6.932294492463056}. Best is trial 2 with value: 0.99.\n",
      "[I 2024-03-09 13:17:29,330] Trial 67 finished with value: 0.93 and parameters: {'n_estimators': 685, 'learning_rate': 0.8529443252833931, 'max_depth': 6, 'lambda': 3.3132995494862296e-06, 'alpha': 1.1018912596984229e-06, 'subsample': 0.42846230887524017, 'colsample_bytree': 0.2571643067214388, 'gamma': 4.218086792729569}. Best is trial 2 with value: 0.99.\n",
      "[I 2024-03-09 13:17:29,476] Trial 68 finished with value: 0.97 and parameters: {'n_estimators': 758, 'learning_rate': 0.08175215224622201, 'max_depth': 9, 'lambda': 0.027157319441984292, 'alpha': 0.0003397872652390488, 'subsample': 0.3458347848035382, 'colsample_bytree': 0.363089922207509, 'gamma': 7.7747575600166545}. Best is trial 2 with value: 0.99.\n",
      "[I 2024-03-09 13:17:29,542] Trial 69 finished with value: 0.95 and parameters: {'n_estimators': 221, 'learning_rate': 0.15215973107427144, 'max_depth': 9, 'lambda': 1.093863314033954e-05, 'alpha': 3.588059649953515e-05, 'subsample': 0.9712742213112653, 'colsample_bytree': 0.9836498188483971, 'gamma': 10.674846049902172}. Best is trial 2 with value: 0.99.\n",
      "[I 2024-03-09 13:17:29,686] Trial 70 finished with value: 0.96 and parameters: {'n_estimators': 994, 'learning_rate': 0.3498339590638353, 'max_depth': 8, 'lambda': 0.08616125914958368, 'alpha': 0.009447179592380105, 'subsample': 0.581241332471894, 'colsample_bytree': 0.21664389450068391, 'gamma': 1.3463386907737735}. Best is trial 2 with value: 0.99.\n",
      "[I 2024-03-09 13:17:29,818] Trial 71 finished with value: 0.98 and parameters: {'n_estimators': 909, 'learning_rate': 0.18747436496831826, 'max_depth': 8, 'lambda': 3.6326389806089575e-06, 'alpha': 2.9048304348821024e-06, 'subsample': 0.3091753646733631, 'colsample_bytree': 0.28127029171414203, 'gamma': 6.102666757247395}. Best is trial 2 with value: 0.99.\n",
      "[I 2024-03-09 13:17:30,055] Trial 72 finished with value: 0.95 and parameters: {'n_estimators': 937, 'learning_rate': 0.2449422600870993, 'max_depth': 7, 'lambda': 6.766103330215646e-06, 'alpha': 1.6199216053112916e-05, 'subsample': 0.21195634769780552, 'colsample_bytree': 0.24862596754814278, 'gamma': 3.615655099868932}. Best is trial 2 with value: 0.99.\n",
      "[I 2024-03-09 13:17:30,189] Trial 73 finished with value: 0.97 and parameters: {'n_estimators': 876, 'learning_rate': 0.2216219048050817, 'max_depth': 8, 'lambda': 2.318201842693774e-05, 'alpha': 4.599242361581822e-06, 'subsample': 0.37335723494487916, 'colsample_bytree': 0.3370002769207041, 'gamma': 4.461214046030606}. Best is trial 2 with value: 0.99.\n",
      "[I 2024-03-09 13:17:30,315] Trial 74 finished with value: 0.98 and parameters: {'n_estimators': 731, 'learning_rate': 0.4872246641405856, 'max_depth': 7, 'lambda': 1.036412000205752e-06, 'alpha': 1.1099001031272236e-05, 'subsample': 0.23553933537562644, 'colsample_bytree': 0.3061151083743795, 'gamma': 2.8966573740806556}. Best is trial 2 with value: 0.99.\n",
      "[I 2024-03-09 13:17:30,435] Trial 75 finished with value: 0.98 and parameters: {'n_estimators': 791, 'learning_rate': 0.09805452487623784, 'max_depth': 9, 'lambda': 0.40193957189027496, 'alpha': 7.455193878221285e-05, 'subsample': 0.26189974420263423, 'colsample_bytree': 0.6875233849753979, 'gamma': 5.4015327179128185}. Best is trial 2 with value: 0.99.\n",
      "[I 2024-03-09 13:17:30,556] Trial 76 finished with value: 0.97 and parameters: {'n_estimators': 635, 'learning_rate': 0.27425627245968875, 'max_depth': 6, 'lambda': 5.310997293433829e-07, 'alpha': 0.001953284088021552, 'subsample': 0.33742605501285916, 'colsample_bytree': 0.22449832087256702, 'gamma': 8.522744433992123}. Best is trial 2 with value: 0.99.\n",
      "[I 2024-03-09 13:17:30,750] Trial 77 finished with value: 0.98 and parameters: {'n_estimators': 854, 'learning_rate': 0.02427814721487072, 'max_depth': 8, 'lambda': 0.0005677997925737897, 'alpha': 6.775292101904864e-07, 'subsample': 0.3993542365433274, 'colsample_bytree': 0.26635939408572684, 'gamma': 6.624448467808807}. Best is trial 2 with value: 0.99.\n",
      "[I 2024-03-09 13:17:30,863] Trial 78 finished with value: 0.98 and parameters: {'n_estimators': 677, 'learning_rate': 0.056529654406559174, 'max_depth': 5, 'lambda': 0.25309352393669804, 'alpha': 2.4168237557967424e-05, 'subsample': 0.2877869255989916, 'colsample_bytree': 0.5474371122419543, 'gamma': 3.9311489215108577}. Best is trial 2 with value: 0.99.\n",
      "[I 2024-03-09 13:17:30,966] Trial 79 finished with value: 0.99 and parameters: {'n_estimators': 595, 'learning_rate': 0.13351310875818037, 'max_depth': 10, 'lambda': 0.59666145727441, 'alpha': 1.4247323074207432e-08, 'subsample': 0.4562825061617801, 'colsample_bytree': 0.22432116070985297, 'gamma': 9.429077109813777}. Best is trial 2 with value: 0.99.\n",
      "[I 2024-03-09 13:17:31,093] Trial 80 finished with value: 0.91 and parameters: {'n_estimators': 825, 'learning_rate': 0.1906501374415125, 'max_depth': 7, 'lambda': 1.812550835790495e-07, 'alpha': 6.921062469948907e-06, 'subsample': 0.30977582618305194, 'colsample_bytree': 0.31991675149109167, 'gamma': 19.767884579160196}. Best is trial 2 with value: 0.99.\n",
      "[I 2024-03-09 13:17:31,154] Trial 81 finished with value: 0.99 and parameters: {'n_estimators': 160, 'learning_rate': 0.07142375730867806, 'max_depth': 8, 'lambda': 8.500088508373658e-06, 'alpha': 4.0414586821432534e-05, 'subsample': 0.20000729738058726, 'colsample_bytree': 0.27857547465794696, 'gamma': 3.5366550419487166}. Best is trial 2 with value: 0.99.\n",
      "[I 2024-03-09 13:17:31,217] Trial 82 finished with value: 0.97 and parameters: {'n_estimators': 113, 'learning_rate': 0.10998138214646913, 'max_depth': 8, 'lambda': 1.7300014484680729e-06, 'alpha': 0.00012225490046286416, 'subsample': 0.23931759540621708, 'colsample_bytree': 0.29922369967107115, 'gamma': 7.385863874224256}. Best is trial 2 with value: 0.99.\n",
      "[I 2024-03-09 13:17:31,308] Trial 83 finished with value: 0.99 and parameters: {'n_estimators': 265, 'learning_rate': 0.06374443807051734, 'max_depth': 9, 'lambda': 5.072540795974373e-06, 'alpha': 0.0002329063466933707, 'subsample': 0.22274257243034715, 'colsample_bytree': 0.243607261330603, 'gamma': 1.6762285829302663}. Best is trial 2 with value: 0.99.\n",
      "[I 2024-03-09 13:17:31,411] Trial 84 finished with value: 0.98 and parameters: {'n_estimators': 545, 'learning_rate': 0.031476806637703775, 'max_depth': 9, 'lambda': 2.238666062100969e-05, 'alpha': 6.35102304761309e-05, 'subsample': 0.26982397045481854, 'colsample_bytree': 0.724086447911227, 'gamma': 4.8565027771697356}. Best is trial 2 with value: 0.99.\n",
      "[I 2024-03-09 13:17:31,551] Trial 85 finished with value: 0.98 and parameters: {'n_estimators': 966, 'learning_rate': 0.16221924952641875, 'max_depth': 7, 'lambda': 2.1872247047237243e-06, 'alpha': 0.5395777401393774, 'subsample': 0.425512615610448, 'colsample_bytree': 0.20298263007268122, 'gamma': 2.6364653376036116}. Best is trial 2 with value: 0.99.\n",
      "[I 2024-03-09 13:17:31,687] Trial 86 finished with value: 0.97 and parameters: {'n_estimators': 899, 'learning_rate': 0.08769345627822216, 'max_depth': 5, 'lambda': 7.058044799621901e-07, 'alpha': 0.0005572259066594337, 'subsample': 0.34412094823858097, 'colsample_bytree': 0.3655207208975153, 'gamma': 8.155386774360743}. Best is trial 2 with value: 0.99.\n",
      "[I 2024-03-09 13:17:31,815] Trial 87 finished with value: 0.96 and parameters: {'n_estimators': 509, 'learning_rate': 0.004945404884585419, 'max_depth': 8, 'lambda': 1.982351164107271e-05, 'alpha': 3.0632155118229258e-06, 'subsample': 0.7323729873005442, 'colsample_bytree': 0.26596280626471785, 'gamma': 3.234086837157374}. Best is trial 2 with value: 0.99.\n",
      "[I 2024-03-09 13:17:31,939] Trial 88 finished with value: 0.98 and parameters: {'n_estimators': 644, 'learning_rate': 0.13914445120305913, 'max_depth': 10, 'lambda': 0.00020833356482305126, 'alpha': 1.4014616263456463e-05, 'subsample': 0.2029511838039983, 'colsample_bytree': 0.4126327248482485, 'gamma': 6.113562431454225}. Best is trial 2 with value: 0.99.\n",
      "[I 2024-03-09 13:17:32,013] Trial 89 finished with value: 0.96 and parameters: {'n_estimators': 275, 'learning_rate': 0.21051373163939255, 'max_depth': 6, 'lambda': 0.6068284009761261, 'alpha': 1.8240155944251193e-06, 'subsample': 0.2894982308214258, 'colsample_bytree': 0.38758421904035784, 'gamma': 10.380558350228515}. Best is trial 2 with value: 0.99.\n",
      "[I 2024-03-09 13:17:32,147] Trial 90 finished with value: 0.97 and parameters: {'n_estimators': 718, 'learning_rate': 0.04671338665686525, 'max_depth': 9, 'lambda': 4.6856905405639e-05, 'alpha': 4.467331599342179e-05, 'subsample': 0.36293054168679667, 'colsample_bytree': 0.7769848783352471, 'gamma': 9.220839521958153}. Best is trial 2 with value: 0.99.\n",
      "[I 2024-03-09 13:17:32,269] Trial 91 finished with value: 0.98 and parameters: {'n_estimators': 674, 'learning_rate': 0.03905735783854025, 'max_depth': 8, 'lambda': 3.4546422270675747e-05, 'alpha': 0.00027282390761834555, 'subsample': 0.25419224864108264, 'colsample_bytree': 0.900234113450153, 'gamma': 3.7803353773615456}. Best is trial 2 with value: 0.99.\n",
      "[I 2024-03-09 13:17:32,417] Trial 92 finished with value: 0.98 and parameters: {'n_estimators': 769, 'learning_rate': 0.1037775284167919, 'max_depth': 8, 'lambda': 7.390994625034865e-06, 'alpha': 0.00092362260179879, 'subsample': 0.2466955519436072, 'colsample_bytree': 0.23784435439279952, 'gamma': 0.6762563717020447}. Best is trial 2 with value: 0.99.\n",
      "[I 2024-03-09 13:17:32,537] Trial 93 finished with value: 0.99 and parameters: {'n_estimators': 607, 'learning_rate': 0.07200181568635329, 'max_depth': 8, 'lambda': 7.90941435716508e-05, 'alpha': 9.306969738729292e-05, 'subsample': 0.32328673483254844, 'colsample_bytree': 0.2187741410709627, 'gamma': 5.128053250551544}. Best is trial 2 with value: 0.99.\n",
      "[I 2024-03-09 13:17:32,660] Trial 94 finished with value: 0.98 and parameters: {'n_estimators': 707, 'learning_rate': 0.008505201255164092, 'max_depth': 7, 'lambda': 1.4392947741665494e-05, 'alpha': 2.250904942136816e-05, 'subsample': 0.22779838963465388, 'colsample_bytree': 0.936755960589425, 'gamma': 4.591523981925318}. Best is trial 2 with value: 0.99.\n",
      "[I 2024-03-09 13:17:32,786] Trial 95 finished with value: 0.99 and parameters: {'n_estimators': 740, 'learning_rate': 0.027137854424101188, 'max_depth': 6, 'lambda': 2.501931836945673e-06, 'alpha': 0.00015048230404168643, 'subsample': 0.28131389412564434, 'colsample_bytree': 0.3423566317707854, 'gamma': 7.670290344077106}. Best is trial 2 with value: 0.99.\n",
      "[I 2024-03-09 13:17:32,957] Trial 96 finished with value: 0.99 and parameters: {'n_estimators': 927, 'learning_rate': 0.10998302653167102, 'max_depth': 9, 'lambda': 5.818513038195743e-06, 'alpha': 0.00047111981991917605, 'subsample': 0.3854407383745108, 'colsample_bytree': 0.2863641649529224, 'gamma': 6.623593336291684}. Best is trial 2 with value: 0.99.\n",
      "[I 2024-03-09 13:17:33,070] Trial 97 finished with value: 0.98 and parameters: {'n_estimators': 561, 'learning_rate': 0.06214941654591982, 'max_depth': 5, 'lambda': 0.21956345488503942, 'alpha': 7.716531616684863e-06, 'subsample': 0.4736828359262948, 'colsample_bytree': 0.6111872352923079, 'gamma': 5.828364385436537}. Best is trial 2 with value: 0.99.\n",
      "[I 2024-03-09 13:17:33,202] Trial 98 finished with value: 0.98 and parameters: {'n_estimators': 801, 'learning_rate': 0.16488760380629822, 'max_depth': 4, 'lambda': 0.4168089972063581, 'alpha': 6.495246412743553e-08, 'subsample': 0.25310614206918614, 'colsample_bytree': 0.8896975189966801, 'gamma': 4.028031750712718}. Best is trial 2 with value: 0.99.\n",
      "[I 2024-03-09 13:17:33,337] Trial 99 finished with value: 0.98 and parameters: {'n_estimators': 856, 'learning_rate': 0.12879272368523886, 'max_depth': 8, 'lambda': 0.0001274274407057746, 'alpha': 3.113642885096332e-05, 'subsample': 0.51885530795435, 'colsample_bytree': 0.31888688244021834, 'gamma': 8.42501556525232}. Best is trial 2 with value: 0.99.\n"
     ]
    }
   ],
   "source": [
    "X_train, X_test, y_train, y_test = train_test_split(data_labeled.iloc[:, :-1], data_labeled.iloc[:, -1], test_size=0.5)\n",
    "objective = XGBObjective(X_train, X_test, y_train, y_test)\n",
    "study = create_study(direction = \"maximize\")\n",
    "study.optimize(objective, n_trials = 100)\n",
    "trial = study.best_trial\n",
    "optimal_params = trial.params"
   ]
  },
  {
   "cell_type": "code",
   "execution_count": 5,
   "metadata": {},
   "outputs": [
    {
     "data": {
      "text/html": [
       "<div>\n",
       "<style scoped>\n",
       "    .dataframe tbody tr th:only-of-type {\n",
       "        vertical-align: middle;\n",
       "    }\n",
       "\n",
       "    .dataframe tbody tr th {\n",
       "        vertical-align: top;\n",
       "    }\n",
       "\n",
       "    .dataframe thead th {\n",
       "        text-align: right;\n",
       "    }\n",
       "</style>\n",
       "<table border=\"1\" class=\"dataframe\">\n",
       "  <thead>\n",
       "    <tr style=\"text-align: right;\">\n",
       "      <th></th>\n",
       "      <th>n_estimators</th>\n",
       "      <th>learning_rate</th>\n",
       "      <th>max_depth</th>\n",
       "      <th>lambda</th>\n",
       "      <th>alpha</th>\n",
       "      <th>subsample</th>\n",
       "      <th>colsample_bytree</th>\n",
       "      <th>gamma</th>\n",
       "    </tr>\n",
       "  </thead>\n",
       "  <tbody>\n",
       "    <tr>\n",
       "      <th>0</th>\n",
       "      <td>858</td>\n",
       "      <td>0.034251</td>\n",
       "      <td>9</td>\n",
       "      <td>0.000001</td>\n",
       "      <td>1.615195e-08</td>\n",
       "      <td>0.310398</td>\n",
       "      <td>0.208528</td>\n",
       "      <td>9.04558</td>\n",
       "    </tr>\n",
       "  </tbody>\n",
       "</table>\n",
       "</div>"
      ],
      "text/plain": [
       "   n_estimators  learning_rate  max_depth    lambda         alpha  subsample  \\\n",
       "0           858       0.034251          9  0.000001  1.615195e-08   0.310398   \n",
       "\n",
       "   colsample_bytree    gamma  \n",
       "0          0.208528  9.04558  "
      ]
     },
     "execution_count": 5,
     "metadata": {},
     "output_type": "execute_result"
    }
   ],
   "source": [
    "pd.DataFrame(optimal_params, index=[0])"
   ]
  },
  {
   "cell_type": "code",
   "execution_count": 6,
   "metadata": {},
   "outputs": [
    {
     "name": "stdout",
     "output_type": "stream",
     "text": [
      "\n",
      "ROC AUC training sample: 0.996\n",
      "ROC AUC test sample: 0.989\n"
     ]
    }
   ],
   "source": [
    "bst = XGBClassifier(**optimal_params)\n",
    "bst.fit(X_train, y_train)\n",
    "prob_train = bst.predict_proba(X_train)[:, 1]\n",
    "prob_test = bst.predict_proba(X_test)[:, 1]\n",
    "pred_train = bst.predict(X_train)\n",
    "pred_test = bst.predict(X_test)\n",
    "auc_train = roc_auc_score(y_train, prob_train)\n",
    "auc_test = roc_auc_score(y_test, prob_test)\n",
    "print(f\"\\nROC AUC training sample: {auc_train:.3f}\\nROC AUC test sample: {auc_test:.3f}\")"
   ]
  },
  {
   "cell_type": "code",
   "execution_count": 7,
   "metadata": {},
   "outputs": [
    {
     "name": "stdout",
     "output_type": "stream",
     "text": [
      "\n",
      "TPR training sample: 0.980\n",
      "TPR test sample: 0.990\n"
     ]
    }
   ],
   "source": [
    "TPR_train = (pred_train == y_train.values).sum() / len(y_train)\n",
    "TPR_test = (pred_test == y_test.values).sum() / len(y_test)\n",
    "print(f\"\\nTPR training sample: {TPR_train:.3f}\\nTPR test sample: {TPR_test:.3f}\")"
   ]
  },
  {
   "cell_type": "markdown",
   "metadata": {},
   "source": [
    "### Re-doing exercise 2 using Optuna\n",
    "Let us try to re-do exercise 2 that we tuned using a GridSearch but now using the new hyper-parameter tuning in Optuna."
   ]
  },
  {
   "cell_type": "code",
   "execution_count": 8,
   "metadata": {},
   "outputs": [],
   "source": [
    "data_path_ex2 = \"https://www.nbi.dk/~koskinen/Teaching/data/BDT_16var.txt\"\n",
    "df_ex2 = pd.read_csv(\n",
    "    data_path_ex2,\n",
    "    delimiter=\"\\s+\",\n",
    "    names=[\n",
    "        \"var1\",\n",
    "        \"var2\",\n",
    "        \"var3\",\n",
    "        \"var4\",\n",
    "        \"var5\",\n",
    "        \"var6\",\n",
    "        \"var7\",\n",
    "        \"var8\",\n",
    "        \"var9\",\n",
    "        \"var10\",\n",
    "        \"var11\",\n",
    "        \"var12\",\n",
    "        \"var13\",\n",
    "        \"var14\",\n",
    "        \"var15\",\n",
    "        \"var16\",\n",
    "    ],\n",
    "    index_col=0,\n",
    "    engine=\"python\",\n",
    ")\n",
    "ex2_sig = df_ex2.iloc[::2]\n",
    "ex2_bg = df_ex2.iloc[1::2]\n",
    "ex2_bg_sig = pd.concat((ex2_bg, ex2_sig)).reset_index(drop=True)\n",
    "ex2_y = np.append(np.zeros(len(ex2_bg)), np.ones(len(ex2_sig)))\n",
    "X_train_ex2, X_test_ex2, y_train_ex2, y_test_ex2 = train_test_split(\n",
    "    ex2_bg_sig, ex2_y, test_size=0.4\n",
    ")"
   ]
  },
  {
   "cell_type": "code",
   "execution_count": 9,
   "metadata": {},
   "outputs": [
    {
     "name": "stderr",
     "output_type": "stream",
     "text": [
      "[I 2024-03-09 13:17:34,716] A new study created in memory with name: no-name-ef5349cc-f776-4bb2-9b74-27e3fb605111\n",
      "[I 2024-03-09 13:17:34,844] Trial 0 finished with value: 0.8665 and parameters: {'n_estimators': 191, 'learning_rate': 0.8847264828046679, 'max_depth': 5, 'lambda': 5.713768169811667e-07, 'alpha': 2.0211762610872702e-05, 'subsample': 0.9647418205171212, 'colsample_bytree': 0.2781414246593378, 'gamma': 8.288710816354515}. Best is trial 0 with value: 0.8665.\n",
      "[I 2024-03-09 13:17:35,193] Trial 1 finished with value: 0.868 and parameters: {'n_estimators': 685, 'learning_rate': 0.10636886447304938, 'max_depth': 4, 'lambda': 3.817066143582005e-06, 'alpha': 0.053278081601770555, 'subsample': 0.9661212501636769, 'colsample_bytree': 0.9164527351301437, 'gamma': 16.918804906468775}. Best is trial 1 with value: 0.868.\n",
      "[I 2024-03-09 13:17:35,585] Trial 2 finished with value: 0.87175 and parameters: {'n_estimators': 698, 'learning_rate': 0.6197153430239828, 'max_depth': 8, 'lambda': 0.0001245931446753816, 'alpha': 0.22885921421403993, 'subsample': 0.7371628949294127, 'colsample_bytree': 0.8957767957236604, 'gamma': 11.01899872429048}. Best is trial 2 with value: 0.87175.\n",
      "[I 2024-03-09 13:17:35,751] Trial 3 finished with value: 0.85225 and parameters: {'n_estimators': 342, 'learning_rate': 0.2714767536336439, 'max_depth': 5, 'lambda': 0.31271019283568885, 'alpha': 2.3873780306165873e-05, 'subsample': 0.26485536285660455, 'colsample_bytree': 0.2835679797176427, 'gamma': 19.44151075331638}. Best is trial 2 with value: 0.87175.\n",
      "[I 2024-03-09 13:17:35,842] Trial 4 finished with value: 0.871 and parameters: {'n_estimators': 133, 'learning_rate': 0.493522507373247, 'max_depth': 7, 'lambda': 0.03812019130378641, 'alpha': 0.000368569155399535, 'subsample': 0.9405447750786375, 'colsample_bytree': 0.42915913534663064, 'gamma': 9.032375755659825}. Best is trial 2 with value: 0.87175.\n",
      "[I 2024-03-09 13:17:37,086] Trial 5 finished with value: 0.87 and parameters: {'n_estimators': 662, 'learning_rate': 0.2061037987797676, 'max_depth': 4, 'lambda': 9.007759773789612e-06, 'alpha': 0.0022739945041100654, 'subsample': 0.4012240610879914, 'colsample_bytree': 0.7650901958283136, 'gamma': 1.0059376798483988}. Best is trial 2 with value: 0.87175.\n",
      "[I 2024-03-09 13:17:37,602] Trial 6 finished with value: 0.86975 and parameters: {'n_estimators': 613, 'learning_rate': 0.01689746996696051, 'max_depth': 6, 'lambda': 2.1787205331376915e-05, 'alpha': 0.02226007735849164, 'subsample': 0.33740949549413923, 'colsample_bytree': 0.3071556336043905, 'gamma': 8.028177399406388}. Best is trial 2 with value: 0.87175.\n",
      "[I 2024-03-09 13:17:38,127] Trial 7 finished with value: 0.859 and parameters: {'n_estimators': 666, 'learning_rate': 0.1587971955116817, 'max_depth': 5, 'lambda': 0.45966800568994476, 'alpha': 5.736121250708901e-07, 'subsample': 0.2504457740388162, 'colsample_bytree': 0.9882834176309863, 'gamma': 17.546214594454412}. Best is trial 2 with value: 0.87175.\n",
      "[I 2024-03-09 13:17:38,303] Trial 8 finished with value: 0.87 and parameters: {'n_estimators': 471, 'learning_rate': 0.44522732386565356, 'max_depth': 10, 'lambda': 7.311733971038051e-06, 'alpha': 2.0049283519615006e-05, 'subsample': 0.8358647698149784, 'colsample_bytree': 0.847497656334989, 'gamma': 12.711949074041396}. Best is trial 2 with value: 0.87175.\n",
      "[I 2024-03-09 13:17:38,506] Trial 9 finished with value: 0.86125 and parameters: {'n_estimators': 596, 'learning_rate': 0.09504752664546257, 'max_depth': 10, 'lambda': 3.1065154237073846e-07, 'alpha': 0.0005135084929315945, 'subsample': 0.27348771375854497, 'colsample_bytree': 0.26838874856158546, 'gamma': 18.773624141393167}. Best is trial 2 with value: 0.87175.\n",
      "[I 2024-03-09 13:17:38,810] Trial 10 finished with value: 0.85225 and parameters: {'n_estimators': 946, 'learning_rate': 0.8220737341052589, 'max_depth': 8, 'lambda': 0.002658811637948877, 'alpha': 0.8406395530829338, 'subsample': 0.6809692359384423, 'colsample_bytree': 0.6722590340870632, 'gamma': 4.440805833990357}. Best is trial 2 with value: 0.87175.\n",
      "[I 2024-03-09 13:17:38,894] Trial 11 finished with value: 0.85975 and parameters: {'n_estimators': 118, 'learning_rate': 0.6428506575486774, 'max_depth': 8, 'lambda': 0.002166139138076976, 'alpha': 5.4684541903245884e-08, 'subsample': 0.741277957106523, 'colsample_bytree': 0.4971081891640581, 'gamma': 12.465488110484795}. Best is trial 2 with value: 0.87175.\n",
      "[I 2024-03-09 13:17:39,165] Trial 12 finished with value: 0.8675 and parameters: {'n_estimators': 866, 'learning_rate': 0.6001504002066121, 'max_depth': 8, 'lambda': 0.0013869608814853867, 'alpha': 0.5576046792183594, 'subsample': 0.5823491287330597, 'colsample_bytree': 0.48928319514327273, 'gamma': 11.312613833694472}. Best is trial 2 with value: 0.87175.\n",
      "[I 2024-03-09 13:17:39,321] Trial 13 finished with value: 0.87275 and parameters: {'n_estimators': 409, 'learning_rate': 0.40955930015295927, 'max_depth': 7, 'lambda': 2.8765293984122977e-08, 'alpha': 0.007260974780575051, 'subsample': 0.8348200468728396, 'colsample_bytree': 0.47103715366390275, 'gamma': 5.451684425925655}. Best is trial 13 with value: 0.87275.\n",
      "[I 2024-03-09 13:17:39,515] Trial 14 finished with value: 0.8695 and parameters: {'n_estimators': 446, 'learning_rate': 0.35795994696210404, 'max_depth': 9, 'lambda': 1.146514306187156e-08, 'alpha': 0.015840495304666233, 'subsample': 0.5410127484665276, 'colsample_bytree': 0.6320999770582383, 'gamma': 4.902241945441489}. Best is trial 13 with value: 0.87275.\n",
      "[I 2024-03-09 13:17:39,777] Trial 15 finished with value: 0.86825 and parameters: {'n_estimators': 798, 'learning_rate': 0.7120951966446654, 'max_depth': 7, 'lambda': 0.00023177627195678744, 'alpha': 0.09057940719970821, 'subsample': 0.7845127904406652, 'colsample_bytree': 0.7433194347865124, 'gamma': 5.073239237356196}. Best is trial 13 with value: 0.87275.\n",
      "[I 2024-03-09 13:17:39,953] Trial 16 finished with value: 0.8645 and parameters: {'n_estimators': 314, 'learning_rate': 0.765554145115168, 'max_depth': 6, 'lambda': 5.109266215787254e-08, 'alpha': 0.005261993578248646, 'subsample': 0.8470800041273249, 'colsample_bytree': 0.5417804674088266, 'gamma': 14.952114489061742}. Best is trial 13 with value: 0.87275.\n",
      "[I 2024-03-09 13:17:40,262] Trial 17 finished with value: 0.86025 and parameters: {'n_estimators': 514, 'learning_rate': 0.37101573497298396, 'max_depth': 9, 'lambda': 0.00015368904893484734, 'alpha': 0.17437783465322662, 'subsample': 0.6644490180627753, 'colsample_bytree': 0.43313728896504466, 'gamma': 0.7166188549476029}. Best is trial 13 with value: 0.87275.\n",
      "[I 2024-03-09 13:17:40,669] Trial 18 finished with value: 0.82975 and parameters: {'n_estimators': 364, 'learning_rate': 0.9687765372030618, 'max_depth': 7, 'lambda': 8.98026821839028e-07, 'alpha': 0.002423832175149679, 'subsample': 0.5129959884297769, 'colsample_bytree': 0.8240883923886386, 'gamma': 6.524999306935903}. Best is trial 13 with value: 0.87275.\n",
      "[I 2024-03-09 13:17:40,925] Trial 19 finished with value: 0.86875 and parameters: {'n_estimators': 771, 'learning_rate': 0.595576375184327, 'max_depth': 3, 'lambda': 5.5381853803690384e-05, 'alpha': 0.00022303544364097493, 'subsample': 0.868575949750883, 'colsample_bytree': 0.35746609885874026, 'gamma': 3.454224618678259}. Best is trial 13 with value: 0.87275.\n",
      "[I 2024-03-09 13:17:41,080] Trial 20 finished with value: 0.871 and parameters: {'n_estimators': 235, 'learning_rate': 0.34876248926202924, 'max_depth': 9, 'lambda': 0.02453828605136361, 'alpha': 0.12121811998786607, 'subsample': 0.6822092099107078, 'colsample_bytree': 0.6764286783368602, 'gamma': 10.62698728558834}. Best is trial 13 with value: 0.87275.\n",
      "[I 2024-03-09 13:17:41,165] Trial 21 finished with value: 0.8715 and parameters: {'n_estimators': 118, 'learning_rate': 0.47359186961886374, 'max_depth': 7, 'lambda': 0.019785867511419076, 'alpha': 0.0006700451202475522, 'subsample': 0.8913734698218517, 'colsample_bytree': 0.41923410149753276, 'gamma': 8.819431732513946}. Best is trial 13 with value: 0.87275.\n",
      "[I 2024-03-09 13:17:41,290] Trial 22 finished with value: 0.87575 and parameters: {'n_estimators': 264, 'learning_rate': 0.5366896635924305, 'max_depth': 8, 'lambda': 0.023829160845684556, 'alpha': 0.005579905057723732, 'subsample': 0.7649541117168099, 'colsample_bytree': 0.5683840819095162, 'gamma': 6.42629402860487}. Best is trial 22 with value: 0.87575.\n",
      "[I 2024-03-09 13:17:41,486] Trial 23 finished with value: 0.868 and parameters: {'n_estimators': 415, 'learning_rate': 0.5610174372984051, 'max_depth': 8, 'lambda': 0.0005031868415259279, 'alpha': 0.009746775749687154, 'subsample': 0.7629348147124784, 'colsample_bytree': 0.5806250760262501, 'gamma': 2.869824100866116}. Best is trial 22 with value: 0.87575.\n",
      "[I 2024-03-09 13:17:41,618] Trial 24 finished with value: 0.8735 and parameters: {'n_estimators': 285, 'learning_rate': 0.6728716581676949, 'max_depth': 9, 'lambda': 0.006559947549707394, 'alpha': 0.26517439349106997, 'subsample': 0.7981291145721636, 'colsample_bytree': 0.5806691822559085, 'gamma': 6.286616631319107}. Best is trial 22 with value: 0.87575.\n",
      "[I 2024-03-09 13:17:41,791] Trial 25 finished with value: 0.864 and parameters: {'n_estimators': 274, 'learning_rate': 0.6898801037112077, 'max_depth': 9, 'lambda': 0.12210152427885292, 'alpha': 0.022451451494560803, 'subsample': 0.8175106205673164, 'colsample_bytree': 0.5702686429861524, 'gamma': 6.160993316552993}. Best is trial 22 with value: 0.87575.\n",
      "[I 2024-03-09 13:17:41,903] Trial 26 finished with value: 0.86725 and parameters: {'n_estimators': 218, 'learning_rate': 0.4222076579304902, 'max_depth': 10, 'lambda': 0.007516435830066926, 'alpha': 0.002205468879575112, 'subsample': 0.8977411030821307, 'colsample_bytree': 0.5136805336123412, 'gamma': 6.771591345880542}. Best is trial 22 with value: 0.87575.\n",
      "[I 2024-03-09 13:17:42,134] Trial 27 finished with value: 0.868 and parameters: {'n_estimators': 378, 'learning_rate': 0.5200189491066097, 'max_depth': 6, 'lambda': 0.1004771705474367, 'alpha': 1.221592773930603e-06, 'subsample': 0.6303855092007854, 'colsample_bytree': 0.6027933197291317, 'gamma': 2.4889918404186346}. Best is trial 22 with value: 0.87575.\n",
      "[I 2024-03-09 13:17:42,283] Trial 28 finished with value: 0.8795 and parameters: {'n_estimators': 269, 'learning_rate': 0.28805554577392045, 'max_depth': 9, 'lambda': 0.7959395842893707, 'alpha': 7.291723546765128e-05, 'subsample': 0.7195007169915595, 'colsample_bytree': 0.694446353660132, 'gamma': 6.246722591291289}. Best is trial 28 with value: 0.8795.\n",
      "[I 2024-03-09 13:17:42,406] Trial 29 finished with value: 0.87375 and parameters: {'n_estimators': 190, 'learning_rate': 0.27248025188272695, 'max_depth': 9, 'lambda': 0.6959561067839646, 'alpha': 4.9745048946287994e-05, 'subsample': 0.4959186623676052, 'colsample_bytree': 0.20585271256323778, 'gamma': 7.978087746413369}. Best is trial 28 with value: 0.8795.\n",
      "[I 2024-03-09 13:17:42,537] Trial 30 finished with value: 0.87375 and parameters: {'n_estimators': 187, 'learning_rate': 0.2550941716445573, 'max_depth': 10, 'lambda': 0.9396086976533384, 'alpha': 3.981454423285896e-05, 'subsample': 0.4616595862042979, 'colsample_bytree': 0.34815165154033645, 'gamma': 7.781759189402372}. Best is trial 28 with value: 0.8795.\n",
      "[I 2024-03-09 13:17:42,642] Trial 31 finished with value: 0.87225 and parameters: {'n_estimators': 190, 'learning_rate': 0.2979219181247659, 'max_depth': 10, 'lambda': 0.6109286611722303, 'alpha': 2.7500467064994453e-05, 'subsample': 0.4499442750449519, 'colsample_bytree': 0.20010581757132206, 'gamma': 7.640704201636979}. Best is trial 28 with value: 0.8795.\n",
      "[I 2024-03-09 13:17:42,791] Trial 32 finished with value: 0.8715 and parameters: {'n_estimators': 178, 'learning_rate': 0.23907575570449502, 'max_depth': 9, 'lambda': 0.8278249031105865, 'alpha': 4.249558865244983e-06, 'subsample': 0.4470420706696584, 'colsample_bytree': 0.25368449194699755, 'gamma': 9.67880471057713}. Best is trial 28 with value: 0.8795.\n",
      "[I 2024-03-09 13:17:42,934] Trial 33 finished with value: 0.87375 and parameters: {'n_estimators': 242, 'learning_rate': 0.18070840437792707, 'max_depth': 10, 'lambda': 0.1359077596820355, 'alpha': 8.630442929755087e-05, 'subsample': 0.5580739742459634, 'colsample_bytree': 0.35119625878828986, 'gamma': 8.29213034010328}. Best is trial 28 with value: 0.8795.\n",
      "[I 2024-03-09 13:17:43,066] Trial 34 finished with value: 0.871 and parameters: {'n_estimators': 178, 'learning_rate': 0.2901512848983846, 'max_depth': 9, 'lambda': 0.17749114262871768, 'alpha': 4.825539028317973e-06, 'subsample': 0.47184880579786936, 'colsample_bytree': 0.21307354751294386, 'gamma': 7.400276258958989}. Best is trial 28 with value: 0.8795.\n",
      "[I 2024-03-09 13:17:43,326] Trial 35 finished with value: 0.8785 and parameters: {'n_estimators': 322, 'learning_rate': 0.12654342184176864, 'max_depth': 10, 'lambda': 0.8811544544877574, 'alpha': 8.480380365957257e-05, 'subsample': 0.6099283997661791, 'colsample_bytree': 0.3467134688418771, 'gamma': 3.831462896376783}. Best is trial 28 with value: 0.8795.\n",
      "[I 2024-03-09 13:17:43,599] Trial 36 finished with value: 0.87975 and parameters: {'n_estimators': 319, 'learning_rate': 0.09386565794585877, 'max_depth': 8, 'lambda': 0.047891852882051826, 'alpha': 4.648349894507324e-06, 'subsample': 0.6210247530033073, 'colsample_bytree': 0.7402837091293055, 'gamma': 3.668395441288252}. Best is trial 36 with value: 0.87975.\n",
      "[I 2024-03-09 13:17:44,121] Trial 37 finished with value: 0.873 and parameters: {'n_estimators': 310, 'learning_rate': 0.016733839391453065, 'max_depth': 8, 'lambda': 0.05257276800951855, 'alpha': 1.0106195755624409e-05, 'subsample': 0.6164126284539162, 'colsample_bytree': 0.7359744652385336, 'gamma': 3.791221073774268}. Best is trial 36 with value: 0.87975.\n",
      "[I 2024-03-09 13:17:44,537] Trial 38 finished with value: 0.87425 and parameters: {'n_estimators': 472, 'learning_rate': 0.09421438512029517, 'max_depth': 8, 'lambda': 0.016408207511229605, 'alpha': 4.871656444347929e-07, 'subsample': 0.7148524262237697, 'colsample_bytree': 0.7981759724009778, 'gamma': 1.914776669941368}. Best is trial 36 with value: 0.87975.\n",
      "[I 2024-03-09 13:17:45,179] Trial 39 finished with value: 0.87675 and parameters: {'n_estimators': 341, 'learning_rate': 0.1329314394910024, 'max_depth': 8, 'lambda': 0.06268591352500434, 'alpha': 0.00019008192629834888, 'subsample': 0.6413202514525355, 'colsample_bytree': 0.7163390903729833, 'gamma': 0.15610023635770354}. Best is trial 36 with value: 0.87975.\n",
      "[I 2024-03-09 13:17:46,219] Trial 40 finished with value: 0.87175 and parameters: {'n_estimators': 542, 'learning_rate': 0.13095060236559825, 'max_depth': 10, 'lambda': 0.24605421040434136, 'alpha': 2.275436627199741e-06, 'subsample': 0.9914525936661172, 'colsample_bytree': 0.6797330361650308, 'gamma': 0.17105913330465192}. Best is trial 36 with value: 0.87975.\n",
      "[I 2024-03-09 13:17:46,617] Trial 41 finished with value: 0.8765 and parameters: {'n_estimators': 338, 'learning_rate': 0.1410957441058563, 'max_depth': 8, 'lambda': 0.05177918753373055, 'alpha': 0.00013229042816144295, 'subsample': 0.6349449129427416, 'colsample_bytree': 0.8664307703800527, 'gamma': 1.6295258916042057}. Best is trial 36 with value: 0.87975.\n",
      "[I 2024-03-09 13:17:46,968] Trial 42 finished with value: 0.88025 and parameters: {'n_estimators': 325, 'learning_rate': 0.07430591683376138, 'max_depth': 8, 'lambda': 0.055902305499562634, 'alpha': 0.0001486147795738413, 'subsample': 0.6399700878561826, 'colsample_bytree': 0.9103989751927144, 'gamma': 2.0449300616822454}. Best is trial 42 with value: 0.88025.\n",
      "[I 2024-03-09 13:17:48,519] Trial 43 finished with value: 0.8765 and parameters: {'n_estimators': 386, 'learning_rate': 0.06978074362393055, 'max_depth': 9, 'lambda': 0.30092823663208973, 'alpha': 0.00073857713944302, 'subsample': 0.7098468204264392, 'colsample_bytree': 0.9272894872267194, 'gamma': 0.013408389770359713}. Best is trial 42 with value: 0.88025.\n",
      "[I 2024-03-09 13:17:49,126] Trial 44 finished with value: 0.8755 and parameters: {'n_estimators': 436, 'learning_rate': 0.03876379815409296, 'max_depth': 7, 'lambda': 0.060920352712500056, 'alpha': 0.00020319435542033934, 'subsample': 0.6021683368038396, 'colsample_bytree': 0.9757326146708469, 'gamma': 3.4366174771416844}. Best is trial 42 with value: 0.88025.\n",
      "[I 2024-03-09 13:17:49,392] Trial 45 finished with value: 0.87275 and parameters: {'n_estimators': 305, 'learning_rate': 0.20487961188017015, 'max_depth': 6, 'lambda': 0.006670292306876803, 'alpha': 1.3786512152500657e-07, 'subsample': 0.6566093779936542, 'colsample_bytree': 0.7091509719215716, 'gamma': 1.365235751541904}. Best is trial 42 with value: 0.88025.\n",
      "[I 2024-03-09 13:17:49,688] Trial 46 finished with value: 0.87775 and parameters: {'n_estimators': 360, 'learning_rate': 0.07005737931531048, 'max_depth': 8, 'lambda': 0.289020135672886, 'alpha': 1.1345425764261389e-05, 'subsample': 0.5759222030001053, 'colsample_bytree': 0.7789660542933367, 'gamma': 4.200812505549421}. Best is trial 42 with value: 0.88025.\n",
      "[I 2024-03-09 13:17:50,039] Trial 47 finished with value: 0.87875 and parameters: {'n_estimators': 496, 'learning_rate': 0.06113263191839282, 'max_depth': 8, 'lambda': 0.3310232673600188, 'alpha': 1.3263520204070546e-05, 'subsample': 0.5710635470804593, 'colsample_bytree': 0.906350285842985, 'gamma': 4.498557435396574}. Best is trial 42 with value: 0.88025.\n",
      "[I 2024-03-09 13:17:50,299] Trial 48 finished with value: 0.87625 and parameters: {'n_estimators': 508, 'learning_rate': 0.18425329136514476, 'max_depth': 9, 'lambda': 0.3824528448828344, 'alpha': 1.3132599739916125e-05, 'subsample': 0.3614385799957539, 'colsample_bytree': 0.9202722457587172, 'gamma': 5.301761017496301}. Best is trial 42 with value: 0.88025.\n",
      "[I 2024-03-09 13:17:51,670] Trial 49 finished with value: 0.879 and parameters: {'n_estimators': 706, 'learning_rate': 0.013852271848707964, 'max_depth': 10, 'lambda': 0.0010826935437632443, 'alpha': 6.690242907942205e-05, 'subsample': 0.5290280646509152, 'colsample_bytree': 0.871698465881633, 'gamma': 2.8696971133491105}. Best is trial 42 with value: 0.88025.\n",
      "[I 2024-03-09 13:17:52,344] Trial 50 finished with value: 0.8725 and parameters: {'n_estimators': 617, 'learning_rate': 0.009198044074876309, 'max_depth': 5, 'lambda': 0.0004893225047316513, 'alpha': 1.0812593418449594e-08, 'subsample': 0.5431018667576021, 'colsample_bytree': 0.8738004170655393, 'gamma': 2.5438729909988633}. Best is trial 42 with value: 0.88025.\n",
      "[I 2024-03-09 13:17:52,784] Trial 51 finished with value: 0.8765 and parameters: {'n_estimators': 753, 'learning_rate': 0.060018746487299116, 'max_depth': 10, 'lambda': 0.12964032540278883, 'alpha': 7.31701127778274e-05, 'subsample': 0.6990090449763225, 'colsample_bytree': 0.9454632123940755, 'gamma': 4.3371903143602815}. Best is trial 42 with value: 0.88025.\n",
      "[I 2024-03-09 13:17:53,272] Trial 52 finished with value: 0.87625 and parameters: {'n_estimators': 851, 'learning_rate': 0.10878020875378555, 'max_depth': 10, 'lambda': 0.010923510939657911, 'alpha': 4.902638689153556e-06, 'subsample': 0.515169796149228, 'colsample_bytree': 0.8170093162092719, 'gamma': 3.2126839780578873}. Best is trial 42 with value: 0.88025.\n",
      "[I 2024-03-09 13:17:54,146] Trial 53 finished with value: 0.87875 and parameters: {'n_estimators': 584, 'learning_rate': 0.03777510961288523, 'max_depth': 9, 'lambda': 0.0032594943393303264, 'alpha': 0.0003899903161498973, 'subsample': 0.5988458100560968, 'colsample_bytree': 0.8916346087092841, 'gamma': 1.9005032072597219}. Best is trial 42 with value: 0.88025.\n",
      "[I 2024-03-09 13:17:55,486] Trial 54 finished with value: 0.8785 and parameters: {'n_estimators': 639, 'learning_rate': 0.010337091198525224, 'max_depth': 7, 'lambda': 0.003281084297104794, 'alpha': 0.0010084854136910638, 'subsample': 0.40813426320224455, 'colsample_bytree': 0.8967523254880236, 'gamma': 1.9719462404983865}. Best is trial 42 with value: 0.88025.\n",
      "[I 2024-03-09 13:17:56,211] Trial 55 finished with value: 0.877 and parameters: {'n_estimators': 714, 'learning_rate': 0.04776205489288976, 'max_depth': 9, 'lambda': 0.0013834202018336858, 'alpha': 0.0003865577662460317, 'subsample': 0.5532140438593162, 'colsample_bytree': 0.9737357083794261, 'gamma': 2.377797008493781}. Best is trial 42 with value: 0.88025.\n",
      "[I 2024-03-09 13:17:56,500] Trial 56 finished with value: 0.87325 and parameters: {'n_estimators': 587, 'learning_rate': 0.22387550162557565, 'max_depth': 8, 'lambda': 5.6858445831586475e-05, 'alpha': 2.00205907704576e-05, 'subsample': 0.5915607782726455, 'colsample_bytree': 0.8551354474169636, 'gamma': 5.016703145949064}. Best is trial 42 with value: 0.88025.\n",
      "[I 2024-03-09 13:17:57,001] Trial 57 finished with value: 0.87025 and parameters: {'n_estimators': 689, 'learning_rate': 0.16293197909939744, 'max_depth': 9, 'lambda': 0.0017334036521219225, 'alpha': 0.0013545227919725077, 'subsample': 0.7411416565699065, 'colsample_bytree': 0.8291302057284189, 'gamma': 0.787274740260667}. Best is trial 42 with value: 0.88025.\n",
      "[I 2024-03-09 13:17:57,298] Trial 58 finished with value: 0.87425 and parameters: {'n_estimators': 551, 'learning_rate': 0.08429900115137698, 'max_depth': 7, 'lambda': 0.0007426375847831736, 'alpha': 1.1546817183965238e-06, 'subsample': 0.6681636589467844, 'colsample_bytree': 0.9498761328040507, 'gamma': 5.820797561524323}. Best is trial 42 with value: 0.88025.\n",
      "[I 2024-03-09 13:17:58,017] Trial 59 finished with value: 0.87875 and parameters: {'n_estimators': 656, 'learning_rate': 0.05033603537876099, 'max_depth': 4, 'lambda': 0.003576437409624248, 'alpha': 0.0003574363819169546, 'subsample': 0.5149904750694627, 'colsample_bytree': 0.8985202624344771, 'gamma': 1.1041178735632973}. Best is trial 42 with value: 0.88025.\n",
      "[I 2024-03-09 13:17:59,101] Trial 60 finished with value: 0.8615 and parameters: {'n_estimators': 986, 'learning_rate': 0.004887735465550165, 'max_depth': 8, 'lambda': 0.024962444402478728, 'alpha': 3.768085677366176e-05, 'subsample': 0.5743481306526679, 'colsample_bytree': 0.7793280985030555, 'gamma': 15.303678896285206}. Best is trial 42 with value: 0.88025.\n",
      "[I 2024-03-09 13:17:59,593] Trial 61 finished with value: 0.87875 and parameters: {'n_estimators': 727, 'learning_rate': 0.04304336379579987, 'max_depth': 3, 'lambda': 0.0038256871011319413, 'alpha': 0.00034870832113490646, 'subsample': 0.42576130900204695, 'colsample_bytree': 0.9997128380662734, 'gamma': 1.241452299147205}. Best is trial 42 with value: 0.88025.\n",
      "[I 2024-03-09 13:18:00,229] Trial 62 finished with value: 0.87325 and parameters: {'n_estimators': 662, 'learning_rate': 0.10366658988990293, 'max_depth': 5, 'lambda': 0.0008166471303855553, 'alpha': 0.00013303741022004459, 'subsample': 0.21161545050870345, 'colsample_bytree': 0.8910597114168239, 'gamma': 2.9725718040715643}. Best is trial 42 with value: 0.88025.\n",
      "[I 2024-03-09 13:18:00,540] Trial 63 finished with value: 0.88075 and parameters: {'n_estimators': 585, 'learning_rate': 0.1618364127686097, 'max_depth': 4, 'lambda': 0.00018253906471568022, 'alpha': 0.0004223780078099812, 'subsample': 0.5244025692249343, 'colsample_bytree': 0.6410195261216216, 'gamma': 4.417590349027147}. Best is trial 63 with value: 0.88075.\n",
      "[I 2024-03-09 13:18:00,875] Trial 64 finished with value: 0.88025 and parameters: {'n_estimators': 552, 'learning_rate': 0.16711388675806801, 'max_depth': 7, 'lambda': 0.0002801241878226723, 'alpha': 0.0026330518143538716, 'subsample': 0.5261256912609071, 'colsample_bytree': 0.6468322185035014, 'gamma': 4.486292411058044}. Best is trial 63 with value: 0.88075.\n",
      "[I 2024-03-09 13:18:01,157] Trial 65 finished with value: 0.87475 and parameters: {'n_estimators': 480, 'learning_rate': 0.1645598208541311, 'max_depth': 7, 'lambda': 2.552503929830711e-05, 'alpha': 0.0031842590953449043, 'subsample': 0.47786900596068876, 'colsample_bytree': 0.6222859957795003, 'gamma': 4.631011311646145}. Best is trial 63 with value: 0.88075.\n",
      "[I 2024-03-09 13:18:01,342] Trial 66 finished with value: 0.877 and parameters: {'n_estimators': 446, 'learning_rate': 0.31198231213658817, 'max_depth': 7, 'lambda': 0.00026013821398855066, 'alpha': 1.9803154047772155e-05, 'subsample': 0.5326707611101624, 'colsample_bytree': 0.6419556535359388, 'gamma': 6.982694154808789}. Best is trial 63 with value: 0.88075.\n",
      "[I 2024-03-09 13:18:01,571] Trial 67 finished with value: 0.87675 and parameters: {'n_estimators': 541, 'learning_rate': 0.21834211650573776, 'max_depth': 4, 'lambda': 3.1199678056395363e-06, 'alpha': 0.0013443791072279404, 'subsample': 0.4893598516980359, 'colsample_bytree': 0.6493554288011117, 'gamma': 5.700331509133164}. Best is trial 63 with value: 0.88075.\n",
      "[I 2024-03-09 13:18:01,800] Trial 68 finished with value: 0.8735 and parameters: {'n_estimators': 504, 'learning_rate': 0.3316355719561392, 'max_depth': 6, 'lambda': 6.991449207433758e-05, 'alpha': 7.016873454192336e-06, 'subsample': 0.5716422543579802, 'colsample_bytree': 0.6922752483609742, 'gamma': 4.010706200089795}. Best is trial 63 with value: 0.88075.\n",
      "[I 2024-03-09 13:18:02,247] Trial 69 finished with value: 0.877 and parameters: {'n_estimators': 415, 'learning_rate': 0.2021043662227306, 'max_depth': 8, 'lambda': 1.708443153669959e-05, 'alpha': 2.1643734095486685e-06, 'subsample': 0.5260661148134609, 'colsample_bytree': 0.7457843981172456, 'gamma': 4.782667639972251}. Best is trial 63 with value: 0.88075.\n",
      "[I 2024-03-09 13:18:02,993] Trial 70 finished with value: 0.8755 and parameters: {'n_estimators': 819, 'learning_rate': 0.25749532338141995, 'max_depth': 6, 'lambda': 0.000110124865412523, 'alpha': 5.786620834538388e-05, 'subsample': 0.6507492866676994, 'colsample_bytree': 0.6140290427556057, 'gamma': 3.012059977985613}. Best is trial 63 with value: 0.88075.\n",
      "[I 2024-03-09 13:18:03,655] Trial 71 finished with value: 0.87925 and parameters: {'n_estimators': 585, 'learning_rate': 0.09406835567769997, 'max_depth': 9, 'lambda': 0.00024328476518810813, 'alpha': 0.0002469095368099807, 'subsample': 0.6181210608442239, 'colsample_bytree': 0.6477724034673024, 'gamma': 2.0713942218221177}. Best is trial 63 with value: 0.88075.\n",
      "[I 2024-03-09 13:18:03,984] Trial 72 finished with value: 0.87725 and parameters: {'n_estimators': 572, 'learning_rate': 0.10862098005396556, 'max_depth': 8, 'lambda': 0.00026893764704743746, 'alpha': 0.00012382496627829314, 'subsample': 0.6136714082656515, 'colsample_bytree': 0.647372329865866, 'gamma': 3.6156547497483227}. Best is trial 63 with value: 0.88075.\n",
      "[I 2024-03-09 13:18:04,643] Trial 73 finished with value: 0.87625 and parameters: {'n_estimators': 627, 'learning_rate': 0.16720008190931407, 'max_depth': 9, 'lambda': 0.0001599209398300792, 'alpha': 3.388592051659981e-05, 'subsample': 0.6814407453558994, 'colsample_bytree': 0.5323623420278654, 'gamma': 2.471417282644918}. Best is trial 63 with value: 0.88075.\n",
      "[I 2024-03-09 13:18:04,953] Trial 74 finished with value: 0.87175 and parameters: {'n_estimators': 282, 'learning_rate': 0.14387754698286917, 'max_depth': 8, 'lambda': 0.0004865804269827926, 'alpha': 0.0033915152677126744, 'subsample': 0.4990974720346034, 'colsample_bytree': 0.6585086612930748, 'gamma': 4.464631625734839}. Best is trial 63 with value: 0.88075.\n",
      "[I 2024-03-09 13:18:05,321] Trial 75 finished with value: 0.8755 and parameters: {'n_estimators': 220, 'learning_rate': 0.07793838612106091, 'max_depth': 7, 'lambda': 4.408257015316048e-05, 'alpha': 0.046731149079219256, 'subsample': 0.5586565488441074, 'colsample_bytree': 0.5952196434143185, 'gamma': 5.478950109445695}. Best is trial 63 with value: 0.88075.\n",
      "[I 2024-03-09 13:18:05,601] Trial 76 finished with value: 0.87525 and parameters: {'n_estimators': 140, 'learning_rate': 0.11829736086247153, 'max_depth': 9, 'lambda': 0.0010075573101649554, 'alpha': 0.00022719296445144286, 'subsample': 0.765764696961456, 'colsample_bytree': 0.7058536391194414, 'gamma': 3.3923878747923406}. Best is trial 63 with value: 0.88075.\n",
      "[I 2024-03-09 13:18:05,803] Trial 77 finished with value: 0.87725 and parameters: {'n_estimators': 255, 'learning_rate': 0.19156498698814275, 'max_depth': 9, 'lambda': 0.18888038065701457, 'alpha': 0.012187536760513117, 'subsample': 0.6329552990580171, 'colsample_bytree': 0.741200412246932, 'gamma': 5.926185607182047}. Best is trial 63 with value: 0.88075.\n",
      "[I 2024-03-09 13:18:06,242] Trial 78 finished with value: 0.8765 and parameters: {'n_estimators': 558, 'learning_rate': 0.08490362466211507, 'max_depth': 8, 'lambda': 0.09077800714025595, 'alpha': 0.0006069993544096816, 'subsample': 0.5807602998351462, 'colsample_bytree': 0.6761200086103245, 'gamma': 2.15095690613353}. Best is trial 63 with value: 0.88075.\n",
      "[I 2024-03-09 13:18:06,490] Trial 79 finished with value: 0.8705 and parameters: {'n_estimators': 607, 'learning_rate': 0.1473847334026747, 'max_depth': 10, 'lambda': 6.530301472962763e-06, 'alpha': 6.463174924521834e-05, 'subsample': 0.6902255971799748, 'colsample_bytree': 0.7234948317333452, 'gamma': 11.65864279262739}. Best is trial 63 with value: 0.88075.\n",
      "[I 2024-03-09 13:18:06,758] Trial 80 finished with value: 0.86775 and parameters: {'n_estimators': 534, 'learning_rate': 0.38509299281185205, 'max_depth': 7, 'lambda': 0.5637025065339699, 'alpha': 1.6333503013645067e-05, 'subsample': 0.7197286605793798, 'colsample_bytree': 0.7577280013008716, 'gamma': 2.78077102046384}. Best is trial 63 with value: 0.88075.\n",
      "[I 2024-03-09 13:18:07,361] Trial 81 finished with value: 0.87775 and parameters: {'n_estimators': 590, 'learning_rate': 0.02970721559254258, 'max_depth': 9, 'lambda': 0.000259282835279747, 'alpha': 0.00027062943715283524, 'subsample': 0.600259568053001, 'colsample_bytree': 0.8475057025658088, 'gamma': 3.7932334447438434}. Best is trial 63 with value: 0.88075.\n",
      "[I 2024-03-09 13:18:11,354] Trial 82 finished with value: 0.85275 and parameters: {'n_estimators': 578, 'learning_rate': 0.00018897894943462057, 'max_depth': 9, 'lambda': 0.012255608109391589, 'alpha': 0.00014186860037925157, 'subsample': 0.627416335469531, 'colsample_bytree': 0.94685874375086, 'gamma': 1.603545088537564}. Best is trial 63 with value: 0.88075.\n",
      "[I 2024-03-09 13:18:12,352] Trial 83 finished with value: 0.8745 and parameters: {'n_estimators': 520, 'learning_rate': 0.040290943010117625, 'max_depth': 8, 'lambda': 0.03821194247625254, 'alpha': 0.000491849254237371, 'subsample': 0.5364496628363389, 'colsample_bytree': 0.8794837847264223, 'gamma': 0.6682384793689524}. Best is trial 63 with value: 0.88075.\n",
      "[I 2024-03-09 13:18:12,659] Trial 84 finished with value: 0.8405 and parameters: {'n_estimators': 637, 'learning_rate': 0.9831779724863077, 'max_depth': 10, 'lambda': 0.0004325889188486634, 'alpha': 0.001678407086960193, 'subsample': 0.6583540147593464, 'colsample_bytree': 0.8079482277005231, 'gamma': 1.93313321695305}. Best is trial 63 with value: 0.88075.\n",
      "[I 2024-03-09 13:18:12,972] Trial 85 finished with value: 0.87625 and parameters: {'n_estimators': 492, 'learning_rate': 0.07437428524043656, 'max_depth': 9, 'lambda': 0.0020324100170501227, 'alpha': 0.0010087198839877206, 'subsample': 0.5938255047082006, 'colsample_bytree': 0.918111800207695, 'gamma': 4.996750035258191}. Best is trial 63 with value: 0.88075.\n",
      "[I 2024-03-09 13:18:13,329] Trial 86 finished with value: 0.82675 and parameters: {'n_estimators': 391, 'learning_rate': 0.8493351303884229, 'max_depth': 8, 'lambda': 0.00013438961831613416, 'alpha': 8.06773035880869e-06, 'subsample': 0.43806927106812, 'colsample_bytree': 0.8357738435705563, 'gamma': 4.298600602186612}. Best is trial 63 with value: 0.88075.\n",
      "[I 2024-03-09 13:18:13,634] Trial 87 finished with value: 0.87475 and parameters: {'n_estimators': 676, 'learning_rate': 0.09867681010852075, 'max_depth': 9, 'lambda': 3.360701450869867e-05, 'alpha': 9.51698620095834e-05, 'subsample': 0.5513295867636624, 'colsample_bytree': 0.5653377881002178, 'gamma': 6.955048819068426}. Best is trial 63 with value: 0.88075.\n",
      "[I 2024-03-09 13:18:13,953] Trial 88 finished with value: 0.8775 and parameters: {'n_estimators': 448, 'learning_rate': 0.12650013879279387, 'max_depth': 10, 'lambda': 8.00030259031233e-05, 'alpha': 3.188889951859739e-05, 'subsample': 0.620106177524654, 'colsample_bytree': 0.6891757084685622, 'gamma': 3.007362027444143}. Best is trial 63 with value: 0.88075.\n",
      "[I 2024-03-09 13:18:14,742] Trial 89 finished with value: 0.87575 and parameters: {'n_estimators': 707, 'learning_rate': 0.06319905698657671, 'max_depth': 8, 'lambda': 0.35262140692922317, 'alpha': 0.005325383043301687, 'subsample': 0.6731697746941101, 'colsample_bytree': 0.782791512717831, 'gamma': 0.7045127637806201}. Best is trial 63 with value: 0.88075.\n",
      "[I 2024-03-09 13:18:15,037] Trial 90 finished with value: 0.861 and parameters: {'n_estimators': 599, 'learning_rate': 0.02435946886583025, 'max_depth': 5, 'lambda': 0.03460860620850428, 'alpha': 2.8135941127374776e-06, 'subsample': 0.5678285151672989, 'colsample_bytree': 0.6623499638038092, 'gamma': 19.127408604972295}. Best is trial 63 with value: 0.88075.\n",
      "[I 2024-03-09 13:18:16,221] Trial 91 finished with value: 0.87825 and parameters: {'n_estimators': 650, 'learning_rate': 0.0512827256925636, 'max_depth': 4, 'lambda': 0.00420715806274805, 'alpha': 0.00036458978878312987, 'subsample': 0.5105408735344772, 'colsample_bytree': 0.9341071104349233, 'gamma': 1.242356660821637}. Best is trial 63 with value: 0.88075.\n",
      "[I 2024-03-09 13:18:16,792] Trial 92 finished with value: 0.88025 and parameters: {'n_estimators': 572, 'learning_rate': 0.0316522841134853, 'max_depth': 4, 'lambda': 0.011429972196966391, 'alpha': 0.0008128586284781613, 'subsample': 0.5220828886518246, 'colsample_bytree': 0.901829562249081, 'gamma': 1.716578457759436}. Best is trial 63 with value: 0.88075.\n",
      "[I 2024-03-09 13:18:17,508] Trial 93 finished with value: 0.879 and parameters: {'n_estimators': 568, 'learning_rate': 0.029970715133818382, 'max_depth': 3, 'lambda': 0.011228731318133983, 'alpha': 0.0008660611306318232, 'subsample': 0.4844318412167892, 'colsample_bytree': 0.9724995411739025, 'gamma': 1.8131079306187332}. Best is trial 63 with value: 0.88075.\n",
      "[I 2024-03-09 13:18:17,860] Trial 94 finished with value: 0.87725 and parameters: {'n_estimators': 526, 'learning_rate': 0.08696925371885597, 'max_depth': 3, 'lambda': 0.010888266511244514, 'alpha': 0.0008266571864279876, 'subsample': 0.37366572146062293, 'colsample_bytree': 0.9633989963402944, 'gamma': 2.5110487926648735}. Best is trial 63 with value: 0.88075.\n",
      "[I 2024-03-09 13:18:18,166] Trial 95 finished with value: 0.87925 and parameters: {'n_estimators': 565, 'learning_rate': 0.1142624384412804, 'max_depth': 3, 'lambda': 0.19872816063226736, 'alpha': 0.0031466636427456883, 'subsample': 0.46127149959697605, 'colsample_bytree': 0.9843792920509451, 'gamma': 3.8213290225158603}. Best is trial 63 with value: 0.88075.\n",
      "[I 2024-03-09 13:18:18,454] Trial 96 finished with value: 0.871 and parameters: {'n_estimators': 560, 'learning_rate': 0.22993055187867784, 'max_depth': 3, 'lambda': 0.0866240358312746, 'alpha': 0.0027982541087861355, 'subsample': 0.4649048488893884, 'colsample_bytree': 0.9978308592096263, 'gamma': 3.3674185803558867}. Best is trial 63 with value: 0.88075.\n",
      "[I 2024-03-09 13:18:18,907] Trial 97 finished with value: 0.88 and parameters: {'n_estimators': 623, 'learning_rate': 0.12173452072016444, 'max_depth': 3, 'lambda': 0.01707380302511463, 'alpha': 0.006953850952566013, 'subsample': 0.47884137418936434, 'colsample_bytree': 0.9786279507544969, 'gamma': 1.6469109307056722}. Best is trial 63 with value: 0.88075.\n",
      "[I 2024-03-09 13:18:19,255] Trial 98 finished with value: 0.87725 and parameters: {'n_estimators': 752, 'learning_rate': 0.18155564950292927, 'max_depth': 4, 'lambda': 0.20322357659716256, 'alpha': 0.00820430813011737, 'subsample': 0.4139924038164848, 'colsample_bytree': 0.6299885225967152, 'gamma': 4.032894096168101}. Best is trial 63 with value: 0.88075.\n",
      "[I 2024-03-09 13:18:19,635] Trial 99 finished with value: 0.8745 and parameters: {'n_estimators': 623, 'learning_rate': 0.14985404251742984, 'max_depth': 3, 'lambda': 0.03262106150786678, 'alpha': 0.0018739859330486723, 'subsample': 0.39234026753851176, 'colsample_bytree': 0.6046967430957854, 'gamma': 0.39633106279501895}. Best is trial 63 with value: 0.88075.\n"
     ]
    }
   ],
   "source": [
    "objective_ex2 = XGBObjective(X_train_ex2, X_test_ex2, y_train_ex2, y_test_ex2)\n",
    "study_ex2 = create_study(direction = \"maximize\")\n",
    "study_ex2.optimize(objective_ex2, n_trials = 100)\n",
    "trial_ex2 = study_ex2.best_trial\n",
    "optimal_params_ex2 = trial_ex2.params"
   ]
  },
  {
   "cell_type": "code",
   "execution_count": 10,
   "metadata": {},
   "outputs": [
    {
     "name": "stdout",
     "output_type": "stream",
     "text": [
      "\n",
      "ROC AUC training sample: 0.985\n",
      "ROC AUC test sample: 0.950\n"
     ]
    }
   ],
   "source": [
    "bst_ex2 = XGBClassifier(**optimal_params_ex2)\n",
    "bst_ex2.fit(X_train_ex2, y_train_ex2)\n",
    "prob_train_ex2 = bst_ex2.predict_proba(X_train_ex2)[:, 1]\n",
    "prob_test_ex2 = bst_ex2.predict_proba(X_test_ex2)[:, 1]\n",
    "pred_train_ex2 = bst_ex2.predict(X_train_ex2)\n",
    "pred_test_ex2 = bst_ex2.predict(X_test_ex2)\n",
    "auc_train_ex2 = roc_auc_score(y_train_ex2, prob_train_ex2)\n",
    "auc_test_ex2 = roc_auc_score(y_test_ex2, prob_test_ex2)\n",
    "print(f\"\\nROC AUC training sample: {auc_train_ex2:.3f}\\nROC AUC test sample: {auc_test_ex2:.3f}\")"
   ]
  },
  {
   "cell_type": "code",
   "execution_count": 11,
   "metadata": {},
   "outputs": [
    {
     "name": "stdout",
     "output_type": "stream",
     "text": [
      "\n",
      "TPR training sample: 0.934\n",
      "TPR test sample: 0.881\n"
     ]
    }
   ],
   "source": [
    "TPR_train_ex2 = (pred_train_ex2 == y_train_ex2).sum() / len(y_train_ex2)\n",
    "TPR_test_ex2 = (pred_test_ex2 == y_test_ex2).sum() / len(y_test_ex2)\n",
    "print(f\"\\nTPR training sample: {TPR_train_ex2:.3f}\\nTPR test sample: {TPR_test_ex2:.3f}\")"
   ]
  }
 ],
 "metadata": {
  "kernelspec": {
   "display_name": "base",
   "language": "python",
   "name": "python3"
  },
  "language_info": {
   "codemirror_mode": {
    "name": "ipython",
    "version": 3
   },
   "file_extension": ".py",
   "mimetype": "text/x-python",
   "name": "python",
   "nbconvert_exporter": "python",
   "pygments_lexer": "ipython3",
   "version": "3.11.5"
  }
 },
 "nbformat": 4,
 "nbformat_minor": 2
}
