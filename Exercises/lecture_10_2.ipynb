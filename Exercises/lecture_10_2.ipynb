{
 "cells": [
  {
   "cell_type": "code",
   "execution_count": 1,
   "metadata": {},
   "outputs": [
    {
     "name": "stderr",
     "output_type": "stream",
     "text": [
      "/home/ali/miniconda3/lib/python3.11/site-packages/tqdm/auto.py:21: TqdmWarning: IProgress not found. Please update jupyter and ipywidgets. See https://ipywidgets.readthedocs.io/en/stable/user_install.html\n",
      "  from .autonotebook import tqdm as notebook_tqdm\n"
     ]
    }
   ],
   "source": [
    "import matplotlib.pyplot as plt\n",
    "import pandas as pd\n",
    "from xgboost import XGBClassifier\n",
    "from sklearn.metrics import roc_auc_score, accuracy_score\n",
    "from optuna import Trial, create_study\n",
    "from sklearn.model_selection import train_test_split\n",
    "import numpy as np"
   ]
  },
  {
   "cell_type": "code",
   "execution_count": 2,
   "metadata": {},
   "outputs": [],
   "source": [
    "labeled_data_path = \"https://www.nbi.dk/~koskinen/Teaching/AdvancedMethodsInAppliedStatistics2016/data/breast-cancer-wisconsin_train-test.txt\"\n",
    "data_labeled = pd.read_csv(\n",
    "    labeled_data_path,\n",
    "    delimiter=\"\\s+\",\n",
    "    names=[\n",
    "        \"ID\",\n",
    "        \"Clump Thickness\",\n",
    "        \"Uniformity of Cell Size\",\n",
    "        \"Uniformity of Cell Shape\",\n",
    "        \"Marginal Adhesion\",\n",
    "        \"Single Epithelial Cell Size\",\n",
    "        \"Bare Nuclei\",\n",
    "        \"Bland Chromatin\",\n",
    "        \"Normal Nucleoli\",\n",
    "        \"Mitoses\",\n",
    "        \"Class\",\n",
    "    ]\n",
    ")\n",
    "data_labeled[\"Class\"] = data_labeled[\"Class\"].replace({2: 0, 4: 1})"
   ]
  },
  {
   "cell_type": "code",
   "execution_count": 3,
   "metadata": {},
   "outputs": [],
   "source": [
    "class XGBObjective:\n",
    "    def __init__(self, X_train, X_test, y_train, y_test):\n",
    "        self.X_train = X_train\n",
    "        self.X_test = X_test\n",
    "        self.y_train = y_train\n",
    "        self.y_test = y_test\n",
    "\n",
    "    def __call__(self, trial: Trial):\n",
    "        params = {\n",
    "            \"n_estimators\": trial.suggest_int(\"n_estimators\", 100, 1000),\n",
    "            \"learning_rate\": trial.suggest_float(\"learning_rate\", 0, 1),\n",
    "            \"max_depth\": trial.suggest_int(\"max_depth\", 3, 10),\n",
    "            \"lambda\": trial.suggest_float(\"lambda\", 1e-8, 1.0, log=True),\n",
    "            \"alpha\": trial.suggest_float(\"alpha\", 1e-8, 1.0, log=True),\n",
    "            \"subsample\": trial.suggest_float(\"subsample\", 0.2, 1.0),\n",
    "            \"colsample_bytree\": trial.suggest_float(\"colsample_bytree\", 0.2, 1.0),\n",
    "            \"gamma\": trial.suggest_float(\"gamma\", 0, 20),\n",
    "        }\n",
    "        bst = XGBClassifier(**params)\n",
    "        bst.fit(self.X_train, self.y_train)\n",
    "        bst_pred = bst.predict(self.X_test)\n",
    "        score = accuracy_score(self.y_test, bst_pred)\n",
    "        return score"
   ]
  },
  {
   "cell_type": "code",
   "execution_count": 4,
   "metadata": {},
   "outputs": [
    {
     "name": "stderr",
     "output_type": "stream",
     "text": [
      "[I 2024-03-09 13:56:36,143] A new study created in memory with name: no-name-1c4ad091-cb60-43d6-b25e-c8ab588757c4\n",
      "[I 2024-03-09 13:56:36,571] Trial 0 finished with value: 0.96 and parameters: {'n_estimators': 639, 'learning_rate': 0.46330134242887433, 'max_depth': 9, 'lambda': 0.00016473169870055845, 'alpha': 0.41919535904727684, 'subsample': 0.5002750208536795, 'colsample_bytree': 0.6727276948069671, 'gamma': 18.405412928792742}. Best is trial 0 with value: 0.96.\n",
      "[I 2024-03-09 13:56:36,681] Trial 1 finished with value: 0.96 and parameters: {'n_estimators': 465, 'learning_rate': 0.910403719738179, 'max_depth': 4, 'lambda': 2.698033308232869e-07, 'alpha': 3.974471701940834e-05, 'subsample': 0.9785101089858428, 'colsample_bytree': 0.558391468534692, 'gamma': 19.973221456185787}. Best is trial 0 with value: 0.96.\n",
      "[I 2024-03-09 13:56:36,787] Trial 2 finished with value: 0.96 and parameters: {'n_estimators': 140, 'learning_rate': 0.8063159306167302, 'max_depth': 5, 'lambda': 5.799551702593676e-07, 'alpha': 0.5910120810711539, 'subsample': 0.79347363563145, 'colsample_bytree': 0.6613110489200974, 'gamma': 18.17964979951526}. Best is trial 0 with value: 0.96.\n",
      "[I 2024-03-09 13:56:36,915] Trial 3 finished with value: 0.96 and parameters: {'n_estimators': 555, 'learning_rate': 0.09389511947706441, 'max_depth': 7, 'lambda': 2.332503181669099e-07, 'alpha': 0.014648944724812303, 'subsample': 0.9271857955532337, 'colsample_bytree': 0.7265881400049665, 'gamma': 11.444743979850937}. Best is trial 0 with value: 0.96.\n",
      "[I 2024-03-09 13:56:37,112] Trial 4 finished with value: 0.95 and parameters: {'n_estimators': 219, 'learning_rate': 0.5714809949371129, 'max_depth': 5, 'lambda': 1.0202877234478624e-06, 'alpha': 1.272213606401953e-07, 'subsample': 0.9340793049456744, 'colsample_bytree': 0.6661980101773606, 'gamma': 15.34860869795201}. Best is trial 0 with value: 0.96.\n",
      "[I 2024-03-09 13:56:37,261] Trial 5 finished with value: 0.96 and parameters: {'n_estimators': 708, 'learning_rate': 0.8126067503598284, 'max_depth': 8, 'lambda': 5.643125489128083e-06, 'alpha': 4.1097015988656684e-05, 'subsample': 0.26803449919656297, 'colsample_bytree': 0.6027927449952912, 'gamma': 11.078413624280895}. Best is trial 0 with value: 0.96.\n",
      "[I 2024-03-09 13:56:37,354] Trial 6 finished with value: 0.93 and parameters: {'n_estimators': 391, 'learning_rate': 0.9968456493704864, 'max_depth': 8, 'lambda': 0.0064993377371596805, 'alpha': 2.0722645401623777e-07, 'subsample': 0.6651071863533138, 'colsample_bytree': 0.25354158676649335, 'gamma': 3.899735457457547}. Best is trial 0 with value: 0.96.\n",
      "[I 2024-03-09 13:56:37,413] Trial 7 finished with value: 0.98 and parameters: {'n_estimators': 206, 'learning_rate': 0.681550546281814, 'max_depth': 8, 'lambda': 9.594837865685524e-07, 'alpha': 0.0005011730147844448, 'subsample': 0.6622223033769614, 'colsample_bytree': 0.49880987028287244, 'gamma': 1.2978444415082002}. Best is trial 7 with value: 0.98.\n",
      "[I 2024-03-09 13:56:37,623] Trial 8 finished with value: 0.97 and parameters: {'n_estimators': 945, 'learning_rate': 0.147439353326849, 'max_depth': 7, 'lambda': 0.00017911707402531592, 'alpha': 0.11243954895148417, 'subsample': 0.2552002638410006, 'colsample_bytree': 0.7301031223392711, 'gamma': 2.94886995366318}. Best is trial 7 with value: 0.98.\n",
      "[I 2024-03-09 13:56:37,816] Trial 9 finished with value: 0.98 and parameters: {'n_estimators': 954, 'learning_rate': 0.7767121715515077, 'max_depth': 3, 'lambda': 0.7655099923475952, 'alpha': 4.558419624865183e-06, 'subsample': 0.6381816523699159, 'colsample_bytree': 0.8926041698965248, 'gamma': 4.575933601592603}. Best is trial 7 with value: 0.98.\n",
      "[I 2024-03-09 13:56:38,152] Trial 10 finished with value: 0.94 and parameters: {'n_estimators': 353, 'learning_rate': 0.4953600274715896, 'max_depth': 10, 'lambda': 3.0086445177497476e-08, 'alpha': 0.002451589888390161, 'subsample': 0.4631463815531269, 'colsample_bytree': 0.2840312698054454, 'gamma': 0.782755831080292}. Best is trial 7 with value: 0.98.\n",
      "[I 2024-03-09 13:56:38,457] Trial 11 finished with value: 0.97 and parameters: {'n_estimators': 913, 'learning_rate': 0.6960534287104219, 'max_depth': 3, 'lambda': 0.5804129318728252, 'alpha': 2.6688030249780056e-06, 'subsample': 0.6602942863828777, 'colsample_bytree': 0.990178856787915, 'gamma': 6.23457160412161}. Best is trial 7 with value: 0.98.\n",
      "[I 2024-03-09 13:56:38,819] Trial 12 finished with value: 0.97 and parameters: {'n_estimators': 800, 'learning_rate': 0.31761884257952194, 'max_depth': 6, 'lambda': 0.05637897655178073, 'alpha': 0.00132169243432873, 'subsample': 0.76447799231165, 'colsample_bytree': 0.4368464669642488, 'gamma': 6.6113429842702764}. Best is trial 7 with value: 0.98.\n",
      "[I 2024-03-09 13:56:38,930] Trial 13 finished with value: 0.98 and parameters: {'n_estimators': 285, 'learning_rate': 0.6772932922542294, 'max_depth': 3, 'lambda': 0.004722653686853393, 'alpha': 3.88365771096281e-06, 'subsample': 0.5193527084170099, 'colsample_bytree': 0.9195560448388289, 'gamma': 0.5790005431695949}. Best is trial 7 with value: 0.98.\n",
      "[I 2024-03-09 13:56:39,167] Trial 14 finished with value: 0.94 and parameters: {'n_estimators': 820, 'learning_rate': 0.6803549450101567, 'max_depth': 10, 'lambda': 1.2859640274370825e-05, 'alpha': 1.16841107934955e-08, 'subsample': 0.7792938042074447, 'colsample_bytree': 0.8373144785932931, 'gamma': 7.581525593009961}. Best is trial 7 with value: 0.98.\n",
      "[I 2024-03-09 13:56:39,336] Trial 15 finished with value: 0.98 and parameters: {'n_estimators': 520, 'learning_rate': 0.4121722737472808, 'max_depth': 6, 'lambda': 0.9447996450697771, 'alpha': 0.0004913661280140746, 'subsample': 0.37198543307811377, 'colsample_bytree': 0.4028073989421628, 'gamma': 3.445716310429356}. Best is trial 7 with value: 0.98.\n",
      "[I 2024-03-09 13:56:39,414] Trial 16 finished with value: 0.96 and parameters: {'n_estimators': 168, 'learning_rate': 0.795899943789734, 'max_depth': 8, 'lambda': 0.0016407743732500938, 'alpha': 3.2837123322939283e-06, 'subsample': 0.5975064889890003, 'colsample_bytree': 0.46148891806388, 'gamma': 7.932288631228452}. Best is trial 7 with value: 0.98.\n",
      "[I 2024-03-09 13:56:39,591] Trial 17 finished with value: 0.98 and parameters: {'n_estimators': 640, 'learning_rate': 0.5816827901568282, 'max_depth': 4, 'lambda': 2.611607087326041e-08, 'alpha': 0.00015524583518660107, 'subsample': 0.6213003193606993, 'colsample_bytree': 0.836184062980571, 'gamma': 3.8541783223957733}. Best is trial 7 with value: 0.98.\n",
      "[I 2024-03-09 13:56:39,808] Trial 18 finished with value: 0.96 and parameters: {'n_estimators': 844, 'learning_rate': 0.29118684293136143, 'max_depth': 9, 'lambda': 2.2282102912279018e-05, 'alpha': 0.01186676906907949, 'subsample': 0.8305566354836755, 'colsample_bytree': 0.5216606127244752, 'gamma': 0.175999099518239}. Best is trial 7 with value: 0.98.\n",
      "[I 2024-03-09 13:56:39,911] Trial 19 finished with value: 0.93 and parameters: {'n_estimators': 273, 'learning_rate': 0.9151368412744532, 'max_depth': 5, 'lambda': 0.000636955291285488, 'alpha': 1.544400621261539e-05, 'subsample': 0.38641709881899333, 'colsample_bytree': 0.345756545321906, 'gamma': 9.265670353552691}. Best is trial 7 with value: 0.98.\n",
      "[I 2024-03-09 13:56:40,088] Trial 20 finished with value: 0.92 and parameters: {'n_estimators': 742, 'learning_rate': 0.6308211367529559, 'max_depth': 9, 'lambda': 0.026370189908236526, 'alpha': 5.484181869364385e-07, 'subsample': 0.704703839776707, 'colsample_bytree': 0.8398734308926334, 'gamma': 13.138310285839175}. Best is trial 7 with value: 0.98.\n",
      "[I 2024-03-09 13:56:40,195] Trial 21 finished with value: 0.97 and parameters: {'n_estimators': 303, 'learning_rate': 0.7364055335455489, 'max_depth': 3, 'lambda': 0.11873969996885064, 'alpha': 5.419516274815404e-06, 'subsample': 0.535357874192569, 'colsample_bytree': 0.9834350251307196, 'gamma': 1.4471306931026646}. Best is trial 7 with value: 0.98.\n",
      "[I 2024-03-09 13:56:40,289] Trial 22 finished with value: 0.97 and parameters: {'n_estimators': 106, 'learning_rate': 0.5750549391007956, 'max_depth': 3, 'lambda': 0.004692073605079961, 'alpha': 0.0001482993392456729, 'subsample': 0.5797374399509705, 'colsample_bytree': 0.871267215535212, 'gamma': 5.264218685143663}. Best is trial 7 with value: 0.98.\n",
      "[I 2024-03-09 13:56:40,434] Trial 23 finished with value: 0.97 and parameters: {'n_estimators': 232, 'learning_rate': 0.8793028223911352, 'max_depth': 4, 'lambda': 0.21310788053538535, 'alpha': 6.554694597629691e-07, 'subsample': 0.4503798333666334, 'colsample_bytree': 0.9126677989125486, 'gamma': 1.9907879157690136}. Best is trial 7 with value: 0.98.\n",
      "[I 2024-03-09 13:56:40,561] Trial 24 finished with value: 0.95 and parameters: {'n_estimators': 410, 'learning_rate': 0.7303005899374527, 'max_depth': 4, 'lambda': 0.00808176550113259, 'alpha': 3.183748614513292e-08, 'subsample': 0.7036859606932913, 'colsample_bytree': 0.7603013736286588, 'gamma': 0.08148271805630003}. Best is trial 7 with value: 0.98.\n",
      "[I 2024-03-09 13:56:40,965] Trial 25 finished with value: 0.97 and parameters: {'n_estimators': 328, 'learning_rate': 0.6527611025558727, 'max_depth': 3, 'lambda': 3.9049850983005815e-05, 'alpha': 1.1940278810804331e-05, 'subsample': 0.5434988907965554, 'colsample_bytree': 0.9440021791573772, 'gamma': 4.655001987253112}. Best is trial 7 with value: 0.98.\n",
      "[I 2024-03-09 13:56:41,253] Trial 26 finished with value: 0.99 and parameters: {'n_estimators': 201, 'learning_rate': 0.38373507702589327, 'max_depth': 7, 'lambda': 2.905320202163626e-06, 'alpha': 1.2474413894544184e-06, 'subsample': 0.3707482808159205, 'colsample_bytree': 0.7797140295927301, 'gamma': 2.506857483301155}. Best is trial 26 with value: 0.99.\n",
      "[I 2024-03-09 13:56:41,348] Trial 27 finished with value: 0.97 and parameters: {'n_estimators': 190, 'learning_rate': 0.2899075724483166, 'max_depth': 7, 'lambda': 2.412628126114164e-06, 'alpha': 7.688618671799388e-07, 'subsample': 0.3215972278664125, 'colsample_bytree': 0.7769646521857321, 'gamma': 2.53207473908497}. Best is trial 26 with value: 0.99.\n",
      "[I 2024-03-09 13:56:41,670] Trial 28 finished with value: 0.97 and parameters: {'n_estimators': 994, 'learning_rate': 0.3754250050738557, 'max_depth': 6, 'lambda': 9.365583219987806e-08, 'alpha': 0.0005113589600811516, 'subsample': 0.39203890884023523, 'colsample_bytree': 0.5005320511293946, 'gamma': 5.658854516721651}. Best is trial 26 with value: 0.99.\n",
      "[I 2024-03-09 13:56:41,816] Trial 29 finished with value: 0.98 and parameters: {'n_estimators': 608, 'learning_rate': 0.17209166415222393, 'max_depth': 8, 'lambda': 0.00013411480770020363, 'alpha': 4.162379801278232e-05, 'subsample': 0.8453464863968989, 'colsample_bytree': 0.6089727553290416, 'gamma': 2.221397302015788}. Best is trial 26 with value: 0.99.\n",
      "[I 2024-03-09 13:56:41,930] Trial 30 finished with value: 0.96 and parameters: {'n_estimators': 538, 'learning_rate': 0.4437086109771862, 'max_depth': 7, 'lambda': 1.855509021189703e-06, 'alpha': 0.007152754035083641, 'subsample': 0.448394754313335, 'colsample_bytree': 0.6974491141191221, 'gamma': 8.809549164778483}. Best is trial 26 with value: 0.99.\n",
      "[I 2024-03-09 13:56:41,987] Trial 31 finished with value: 0.97 and parameters: {'n_estimators': 102, 'learning_rate': 0.5064534451222206, 'max_depth': 9, 'lambda': 6.849494559087976e-06, 'alpha': 1.94268152247089e-06, 'subsample': 0.5222317260856413, 'colsample_bytree': 0.9007163256636833, 'gamma': 1.514995484532238}. Best is trial 26 with value: 0.99.\n",
      "[I 2024-03-09 13:56:42,065] Trial 32 finished with value: 0.97 and parameters: {'n_estimators': 266, 'learning_rate': 0.7633636289623527, 'max_depth': 4, 'lambda': 0.000512396508857733, 'alpha': 1.327352394817111e-05, 'subsample': 0.32188254052875087, 'colsample_bytree': 0.9365824445325611, 'gamma': 4.292254900311273}. Best is trial 26 with value: 0.99.\n",
      "[I 2024-03-09 13:56:42,188] Trial 33 finished with value: 0.98 and parameters: {'n_estimators': 424, 'learning_rate': 0.8587968528205265, 'max_depth': 5, 'lambda': 4.162910764605961e-05, 'alpha': 1.192794005034263e-07, 'subsample': 0.47853362349967854, 'colsample_bytree': 0.8001614862100115, 'gamma': 1.4448891570920583}. Best is trial 26 with value: 0.99.\n",
      "[I 2024-03-09 13:56:42,296] Trial 34 finished with value: 0.96 and parameters: {'n_estimators': 464, 'learning_rate': 0.5167965643460007, 'max_depth': 6, 'lambda': 2.4296721589521887e-07, 'alpha': 7.289008659549159e-05, 'subsample': 0.21784356975978464, 'colsample_bytree': 0.547945967379891, 'gamma': 2.9606371009616153}. Best is trial 26 with value: 0.99.\n",
      "[I 2024-03-09 13:56:42,350] Trial 35 finished with value: 0.99 and parameters: {'n_estimators': 159, 'learning_rate': 0.6137364648123091, 'max_depth': 8, 'lambda': 4.860376520192859e-07, 'alpha': 8.254347911601823e-06, 'subsample': 0.71480433407028, 'colsample_bytree': 0.6364775648284688, 'gamma': 0.027980411058790566}. Best is trial 26 with value: 0.99.\n",
      "[I 2024-03-09 13:56:42,409] Trial 36 finished with value: 0.96 and parameters: {'n_estimators': 210, 'learning_rate': 0.5959761961793243, 'max_depth': 8, 'lambda': 6.592358505920686e-07, 'alpha': 0.04635377096481761, 'subsample': 0.7230383909141422, 'colsample_bytree': 0.63659307136395, 'gamma': 17.01696223028102}. Best is trial 26 with value: 0.99.\n",
      "[I 2024-03-09 13:56:42,461] Trial 37 finished with value: 0.97 and parameters: {'n_estimators': 144, 'learning_rate': 0.9708506704502209, 'max_depth': 7, 'lambda': 8.889554721070506e-08, 'alpha': 0.0003997126831723062, 'subsample': 0.6476861181862567, 'colsample_bytree': 0.5690289368119047, 'gamma': 4.997974314388533}. Best is trial 26 with value: 0.99.\n",
      "[I 2024-03-09 13:56:42,532] Trial 38 finished with value: 0.99 and parameters: {'n_estimators': 358, 'learning_rate': 0.5426884760985349, 'max_depth': 8, 'lambda': 3.488502222980232e-06, 'alpha': 1.144604767648026e-06, 'subsample': 0.8644813082760858, 'colsample_bytree': 0.6930660777237206, 'gamma': 2.935038230016065}. Best is trial 26 with value: 0.99.\n",
      "[I 2024-03-09 13:56:42,606] Trial 39 finished with value: 0.96 and parameters: {'n_estimators': 361, 'learning_rate': 0.22633361248808587, 'max_depth': 8, 'lambda': 2.9320105197829606e-06, 'alpha': 5.666556608764294e-08, 'subsample': 0.9976904138489605, 'colsample_bytree': 0.699112547054913, 'gamma': 13.430858623789009}. Best is trial 26 with value: 0.99.\n",
      "[I 2024-03-09 13:56:42,678] Trial 40 finished with value: 0.93 and parameters: {'n_estimators': 236, 'learning_rate': 0.0019881421406634514, 'max_depth': 9, 'lambda': 3.3813209003969745e-07, 'alpha': 2.845009710654696e-07, 'subsample': 0.9372089771142224, 'colsample_bytree': 0.6506852003645295, 'gamma': 2.948735988408822}. Best is trial 26 with value: 0.99.\n",
      "[I 2024-03-09 13:56:42,729] Trial 41 finished with value: 0.98 and parameters: {'n_estimators': 170, 'learning_rate': 0.3646290064335152, 'max_depth': 8, 'lambda': 1.1306057667210903e-06, 'alpha': 1.1693155275857778e-06, 'subsample': 0.8170999702567981, 'colsample_bytree': 0.6921762698204876, 'gamma': 1.148546261088228}. Best is trial 26 with value: 0.99.\n",
      "[I 2024-03-09 13:56:42,778] Trial 42 finished with value: 0.95 and parameters: {'n_estimators': 142, 'learning_rate': 0.5311236815170849, 'max_depth': 7, 'lambda': 5.741868522689471e-06, 'alpha': 1.2902371690039984e-05, 'subsample': 0.870154155253074, 'colsample_bytree': 0.72941109387912, 'gamma': 0.001584093793354651}. Best is trial 26 with value: 0.99.\n",
      "[I 2024-03-09 13:56:42,877] Trial 43 finished with value: 0.97 and parameters: {'n_estimators': 473, 'learning_rate': 0.6236656243724474, 'max_depth': 8, 'lambda': 7.129927412560065e-08, 'alpha': 6.40121441445206e-06, 'subsample': 0.743061717836596, 'colsample_bytree': 0.5977453517063083, 'gamma': 3.5101139274047615}. Best is trial 26 with value: 0.99.\n",
      "[I 2024-03-09 13:56:43,005] Trial 44 finished with value: 0.97 and parameters: {'n_estimators': 337, 'learning_rate': 0.44669859107276255, 'max_depth': 7, 'lambda': 7.080256306581586e-07, 'alpha': 3.8337200733759e-05, 'subsample': 0.6702844766905413, 'colsample_bytree': 0.8052953804669896, 'gamma': 2.1544030822858327}. Best is trial 26 with value: 0.99.\n",
      "[I 2024-03-09 13:56:43,066] Trial 45 finished with value: 0.96 and parameters: {'n_estimators': 219, 'learning_rate': 0.5486092614685132, 'max_depth': 10, 'lambda': 1.0989452671214443e-05, 'alpha': 2.2132316452384402e-07, 'subsample': 0.5724513599665286, 'colsample_bytree': 0.637413272839479, 'gamma': 19.84865942468231}. Best is trial 26 with value: 0.99.\n",
      "[I 2024-03-09 13:56:43,129] Trial 46 finished with value: 0.94 and parameters: {'n_estimators': 262, 'learning_rate': 0.8172040704470976, 'max_depth': 9, 'lambda': 1.62033028976774e-07, 'alpha': 1.8720948941611837e-06, 'subsample': 0.8791055476214935, 'colsample_bytree': 0.7464039994523324, 'gamma': 6.88495029707038}. Best is trial 26 with value: 0.99.\n",
      "[I 2024-03-09 13:56:43,253] Trial 47 finished with value: 0.96 and parameters: {'n_estimators': 600, 'learning_rate': 0.7114655579263524, 'max_depth': 7, 'lambda': 1.3330546831207217e-08, 'alpha': 0.0014924196747353098, 'subsample': 0.6209872762659951, 'colsample_bytree': 0.4741645786204551, 'gamma': 11.070690370868695}. Best is trial 26 with value: 0.99.\n",
      "[I 2024-03-09 13:56:43,388] Trial 48 finished with value: 0.97 and parameters: {'n_estimators': 714, 'learning_rate': 0.4756532496614964, 'max_depth': 8, 'lambda': 5.9190654404520143e-05, 'alpha': 3.7324025642251117e-05, 'subsample': 0.7645737910335906, 'colsample_bytree': 0.5702303868231542, 'gamma': 0.8413388158649514}. Best is trial 26 with value: 0.99.\n",
      "[I 2024-03-09 13:56:43,464] Trial 49 finished with value: 0.98 and parameters: {'n_estimators': 374, 'learning_rate': 0.6387041909314, 'max_depth': 5, 'lambda': 3.7369516073333764e-06, 'alpha': 4.423333367515807e-07, 'subsample': 0.7943412243449345, 'colsample_bytree': 0.4206895389865786, 'gamma': 5.759996668822925}. Best is trial 26 with value: 0.99.\n",
      "[I 2024-03-09 13:56:43,612] Trial 50 finished with value: 0.95 and parameters: {'n_estimators': 891, 'learning_rate': 0.7780354337722734, 'max_depth': 6, 'lambda': 1.2390259287547146e-06, 'alpha': 1.275519795822091e-06, 'subsample': 0.9279438176304666, 'colsample_bytree': 0.8691159061401953, 'gamma': 4.1704115331960745}. Best is trial 26 with value: 0.99.\n",
      "[I 2024-03-09 13:56:43,720] Trial 51 finished with value: 0.96 and parameters: {'n_estimators': 287, 'learning_rate': 0.680010571119245, 'max_depth': 3, 'lambda': 0.018430692580170483, 'alpha': 4.17879141892121e-06, 'subsample': 0.6955914386139336, 'colsample_bytree': 0.9678094493298333, 'gamma': 0.6150347603848505}. Best is trial 26 with value: 0.99.\n",
      "[I 2024-03-09 13:56:43,802] Trial 52 finished with value: 0.98 and parameters: {'n_estimators': 307, 'learning_rate': 0.6736186522710277, 'max_depth': 9, 'lambda': 3.324083068477926e-07, 'alpha': 6.733369280981189e-06, 'subsample': 0.6328023398219065, 'colsample_bytree': 0.8755554788198889, 'gamma': 3.2148181556031292}. Best is trial 26 with value: 0.99.\n",
      "[I 2024-03-09 13:56:43,858] Trial 53 finished with value: 0.97 and parameters: {'n_estimators': 188, 'learning_rate': 0.6053285507703523, 'max_depth': 8, 'lambda': 0.00031451093682185186, 'alpha': 2.50488051480831e-05, 'subsample': 0.41892643706618793, 'colsample_bytree': 0.7975148817404722, 'gamma': 1.6357294369123854}. Best is trial 26 with value: 0.99.\n",
      "[I 2024-03-09 13:56:43,957] Trial 54 finished with value: 0.96 and parameters: {'n_estimators': 248, 'learning_rate': 0.8318871512459975, 'max_depth': 4, 'lambda': 0.002540549422187187, 'alpha': 2.7821840244569775e-06, 'subsample': 0.5076201331633488, 'colsample_bytree': 0.3312986959854752, 'gamma': 0.7648261482181503}. Best is trial 26 with value: 0.99.\n",
      "[I 2024-03-09 13:56:44,016] Trial 55 finished with value: 0.96 and parameters: {'n_estimators': 140, 'learning_rate': 0.7459631949703912, 'max_depth': 3, 'lambda': 0.25958004794159895, 'alpha': 0.8098900540532444, 'subsample': 0.5670330579753675, 'colsample_bytree': 0.677756030401475, 'gamma': 2.1004458197506692}. Best is trial 26 with value: 0.99.\n",
      "[I 2024-03-09 13:56:44,094] Trial 56 finished with value: 0.97 and parameters: {'n_estimators': 203, 'learning_rate': 0.5539626379554154, 'max_depth': 7, 'lambda': 1.418603725609068e-05, 'alpha': 8.685321382739026e-05, 'subsample': 0.6746477987419488, 'colsample_bytree': 0.8379986456595394, 'gamma': 3.761294199907448}. Best is trial 26 with value: 0.99.\n",
      "[I 2024-03-09 13:56:44,236] Trial 57 finished with value: 0.98 and parameters: {'n_estimators': 781, 'learning_rate': 0.38466442925680083, 'max_depth': 8, 'lambda': 0.4385788107435898, 'alpha': 0.00017370663485191855, 'subsample': 0.34073204116971856, 'colsample_bytree': 0.5259562509062228, 'gamma': 2.639754037824661}. Best is trial 26 with value: 0.99.\n",
      "[I 2024-03-09 13:56:44,306] Trial 58 finished with value: 0.98 and parameters: {'n_estimators': 291, 'learning_rate': 0.32879685370574896, 'max_depth': 8, 'lambda': 0.044216450089774914, 'alpha': 1.3043254862973135e-07, 'subsample': 0.7279972027351083, 'colsample_bytree': 0.9989944422740997, 'gamma': 0.682450890467226}. Best is trial 26 with value: 0.99.\n",
      "[I 2024-03-09 13:56:44,364] Trial 59 finished with value: 0.97 and parameters: {'n_estimators': 168, 'learning_rate': 0.6917727980826825, 'max_depth': 10, 'lambda': 0.0013154506317718151, 'alpha': 1.0396609929194567e-06, 'subsample': 0.598000800409244, 'colsample_bytree': 0.906418585592265, 'gamma': 4.476747856778713}. Best is trial 26 with value: 0.99.\n",
      "[I 2024-03-09 13:56:44,455] Trial 60 finished with value: 0.98 and parameters: {'n_estimators': 319, 'learning_rate': 0.6489410468300267, 'max_depth': 9, 'lambda': 2.650823255746956e-05, 'alpha': 6.911286856533113e-06, 'subsample': 0.4861292447485711, 'colsample_bytree': 0.6096005103934727, 'gamma': 7.532287447202956}. Best is trial 26 with value: 0.99.\n",
      "[I 2024-03-09 13:56:44,573] Trial 61 finished with value: 0.96 and parameters: {'n_estimators': 494, 'learning_rate': 0.43783615551575017, 'max_depth': 5, 'lambda': 0.8464096920884658, 'alpha': 0.004655865367720903, 'subsample': 0.35167799979214676, 'colsample_bytree': 0.39225470281990926, 'gamma': 2.5802891576579987}. Best is trial 26 with value: 0.99.\n",
      "[I 2024-03-09 13:56:44,684] Trial 62 finished with value: 0.96 and parameters: {'n_estimators': 652, 'learning_rate': 0.2493593907073247, 'max_depth': 6, 'lambda': 0.15579834793828146, 'alpha': 0.0004448363328980542, 'subsample': 0.2978180900434377, 'colsample_bytree': 0.28210810986856066, 'gamma': 3.579318781936934}. Best is trial 26 with value: 0.99.\n",
      "[I 2024-03-09 13:56:44,764] Trial 63 finished with value: 0.98 and parameters: {'n_estimators': 394, 'learning_rate': 0.5739728946038866, 'max_depth': 3, 'lambda': 0.09392431903000407, 'alpha': 0.0007501023686421642, 'subsample': 0.41950726318354997, 'colsample_bytree': 0.4312617248202763, 'gamma': 1.7362002844397662}. Best is trial 26 with value: 0.99.\n",
      "[I 2024-03-09 13:56:44,812] Trial 64 finished with value: 0.93 and parameters: {'n_estimators': 100, 'learning_rate': 0.4814507538332133, 'max_depth': 4, 'lambda': 0.3156656105072843, 'alpha': 0.00024615684334712806, 'subsample': 0.24333069672787824, 'colsample_bytree': 0.21760178871888342, 'gamma': 0.011589216833130411}. Best is trial 26 with value: 0.99.\n",
      "[I 2024-03-09 13:56:44,899] Trial 65 finished with value: 0.96 and parameters: {'n_estimators': 428, 'learning_rate': 0.4143069228083601, 'max_depth': 7, 'lambda': 0.013601469414440926, 'alpha': 0.0012974340825672892, 'subsample': 0.38884914397566434, 'colsample_bytree': 0.36903425276110624, 'gamma': 5.372027718983098}. Best is trial 26 with value: 0.99.\n",
      "[I 2024-03-09 13:56:44,961] Trial 66 finished with value: 0.99 and parameters: {'n_estimators': 245, 'learning_rate': 0.4044808335894334, 'max_depth': 3, 'lambda': 0.5921496763933267, 'alpha': 4.072501910425341e-07, 'subsample': 0.2839198884157036, 'colsample_bytree': 0.4789036089375403, 'gamma': 1.114553779938925}. Best is trial 26 with value: 0.99.\n",
      "[I 2024-03-09 13:56:45,023] Trial 67 finished with value: 0.96 and parameters: {'n_estimators': 240, 'learning_rate': 0.7139109888406261, 'max_depth': 3, 'lambda': 0.051173466549116434, 'alpha': 6.080668056994251e-07, 'subsample': 0.26593598451134537, 'colsample_bytree': 0.47253110799302595, 'gamma': 1.1835901825384958}. Best is trial 26 with value: 0.99.\n",
      "[I 2024-03-09 13:56:45,078] Trial 68 finished with value: 0.97 and parameters: {'n_estimators': 124, 'learning_rate': 0.34549969331442176, 'max_depth': 4, 'lambda': 4.6607586109325634e-07, 'alpha': 6.450587081302374e-08, 'subsample': 0.6225089136316684, 'colsample_bytree': 0.9443968872549018, 'gamma': 0.6936711478454964}. Best is trial 26 with value: 0.99.\n",
      "[I 2024-03-09 13:56:45,136] Trial 69 finished with value: 0.98 and parameters: {'n_estimators': 170, 'learning_rate': 0.4103823144939988, 'max_depth': 3, 'lambda': 4.619634277304602e-08, 'alpha': 1.3833199444035682e-08, 'subsample': 0.5547989204529078, 'colsample_bytree': 0.5040517662538183, 'gamma': 2.1140105983698017}. Best is trial 26 with value: 0.99.\n",
      "[I 2024-03-09 13:56:45,211] Trial 70 finished with value: 0.98 and parameters: {'n_estimators': 344, 'learning_rate': 0.7890087087410714, 'max_depth': 3, 'lambda': 1.8721442990870558e-06, 'alpha': 3.9165474680427435e-07, 'subsample': 0.285024331040299, 'colsample_bytree': 0.7698357179090453, 'gamma': 2.947597660348198}. Best is trial 26 with value: 0.99.\n",
      "[I 2024-03-09 13:56:45,301] Trial 71 finished with value: 0.98 and parameters: {'n_estimators': 541, 'learning_rate': 0.5011046800999807, 'max_depth': 8, 'lambda': 0.45260621811018065, 'alpha': 2.0302797988245256e-06, 'subsample': 0.205127899325769, 'colsample_bytree': 0.4079652724567586, 'gamma': 1.3949582046308446}. Best is trial 26 with value: 0.99.\n",
      "[I 2024-03-09 13:56:45,371] Trial 72 finished with value: 0.97 and parameters: {'n_estimators': 270, 'learning_rate': 0.4135236291163322, 'max_depth': 4, 'lambda': 0.18473060449863737, 'alpha': 2.1728915640451724e-05, 'subsample': 0.35209498525820526, 'colsample_bytree': 0.7121932315780987, 'gamma': 3.2922849824905462}. Best is trial 26 with value: 0.99.\n",
      "[I 2024-03-09 13:56:45,464] Trial 73 finished with value: 0.97 and parameters: {'n_estimators': 512, 'learning_rate': 0.296894875170296, 'max_depth': 3, 'lambda': 0.7231534790546141, 'alpha': 6.433996680696749e-05, 'subsample': 0.3691239747598192, 'colsample_bytree': 0.45575786571129806, 'gamma': 4.819697170546236}. Best is trial 26 with value: 0.99.\n",
      "[I 2024-03-09 13:56:45,522] Trial 74 finished with value: 0.98 and parameters: {'n_estimators': 208, 'learning_rate': 0.6116186349742516, 'max_depth': 7, 'lambda': 1.555056665467962e-07, 'alpha': 4.016989077188192e-06, 'subsample': 0.31069713669204424, 'colsample_bytree': 0.5930919576190669, 'gamma': 2.3249822624974263}. Best is trial 26 with value: 0.99.\n",
      "[I 2024-03-09 13:56:45,587] Trial 75 finished with value: 0.96 and parameters: {'n_estimators': 230, 'learning_rate': 0.5272361921814939, 'max_depth': 5, 'lambda': 0.11299025669572649, 'alpha': 1.3017625384000221e-06, 'subsample': 0.9607534983841067, 'colsample_bytree': 0.5398146541078546, 'gamma': 3.8895451935007626}. Best is trial 26 with value: 0.99.\n",
      "[I 2024-03-09 13:56:45,684] Trial 76 finished with value: 0.93 and parameters: {'n_estimators': 600, 'learning_rate': 0.7449639127369414, 'max_depth': 6, 'lambda': 0.44283722501692024, 'alpha': 9.40928404248053e-06, 'subsample': 0.2478062989767748, 'colsample_bytree': 0.34440155610854595, 'gamma': 0.2929755054241001}. Best is trial 26 with value: 0.99.\n",
      "[I 2024-03-09 13:56:45,750] Trial 77 finished with value: 0.98 and parameters: {'n_estimators': 251, 'learning_rate': 0.4557440911547939, 'max_depth': 8, 'lambda': 4.313928877753077e-06, 'alpha': 0.25696416523038984, 'subsample': 0.4211396057992085, 'colsample_bytree': 0.4891394406888665, 'gamma': 1.145983277875742}. Best is trial 26 with value: 0.99.\n",
      "[I 2024-03-09 13:56:45,887] Trial 78 finished with value: 0.95 and parameters: {'n_estimators': 994, 'learning_rate': 0.8812726308922765, 'max_depth': 3, 'lambda': 9.580108192773183e-06, 'alpha': 2.297774362520604e-06, 'subsample': 0.8932797226237632, 'colsample_bytree': 0.8753328667617255, 'gamma': 1.8712807635815474}. Best is trial 26 with value: 0.99.\n",
      "[I 2024-03-09 13:56:46,001] Trial 79 finished with value: 0.98 and parameters: {'n_estimators': 678, 'learning_rate': 0.38472581482353396, 'max_depth': 9, 'lambda': 0.9812410631733746, 'alpha': 1.4968530910173458e-07, 'subsample': 0.6796404353691073, 'colsample_bytree': 0.6579691873547611, 'gamma': 2.706125736963777}. Best is trial 26 with value: 0.99.\n",
      "[I 2024-03-09 13:56:46,057] Trial 80 finished with value: 0.97 and parameters: {'n_estimators': 176, 'learning_rate': 0.6549371609236021, 'max_depth': 4, 'lambda': 9.416038722534111e-07, 'alpha': 8.78023839917686e-07, 'subsample': 0.6476122789243138, 'colsample_bytree': 0.6288932331975028, 'gamma': 14.261465467768595}. Best is trial 26 with value: 0.99.\n",
      "[I 2024-03-09 13:56:46,361] Trial 81 finished with value: 0.95 and parameters: {'n_estimators': 914, 'learning_rate': 0.5813160791298358, 'max_depth': 3, 'lambda': 1.3517924914106813e-08, 'alpha': 0.00013443705075959312, 'subsample': 0.6014827039668916, 'colsample_bytree': 0.8194728170621176, 'gamma': 5.91504613576002}. Best is trial 26 with value: 0.99.\n",
      "[I 2024-03-09 13:56:46,518] Trial 82 finished with value: 0.95 and parameters: {'n_estimators': 846, 'learning_rate': 0.5510210497917702, 'max_depth': 4, 'lambda': 0.00010867734975746055, 'alpha': 0.000259754306144874, 'subsample': 0.7059329379549324, 'colsample_bytree': 0.8521158350890057, 'gamma': 6.515851550678119}. Best is trial 26 with value: 0.99.\n",
      "[I 2024-03-09 13:56:46,613] Trial 83 finished with value: 0.98 and parameters: {'n_estimators': 447, 'learning_rate': 0.6663127234720305, 'max_depth': 3, 'lambda': 2.7500449467466514e-08, 'alpha': 0.001109764014701722, 'subsample': 0.45856900954148105, 'colsample_bytree': 0.9253208084155148, 'gamma': 4.177311938483508}. Best is trial 26 with value: 0.99.\n",
      "[I 2024-03-09 13:56:46,714] Trial 84 finished with value: 0.95 and parameters: {'n_estimators': 572, 'learning_rate': 0.5932739244363252, 'max_depth': 5, 'lambda': 1.6278696333003428e-07, 'alpha': 0.00416961315906954, 'subsample': 0.7996748088525851, 'colsample_bytree': 0.8936213915637292, 'gamma': 3.246620747730326}. Best is trial 26 with value: 0.99.\n",
      "[I 2024-03-09 13:56:46,769] Trial 85 finished with value: 0.96 and parameters: {'n_estimators': 127, 'learning_rate': 0.7200295605558265, 'max_depth': 7, 'lambda': 4.6699749935822725e-07, 'alpha': 3.038424885465419e-07, 'subsample': 0.5318068842165895, 'colsample_bytree': 0.745196849685466, 'gamma': 0.34609123768777283}. Best is trial 26 with value: 0.99.\n",
      "[I 2024-03-09 13:56:46,900] Trial 86 finished with value: 0.94 and parameters: {'n_estimators': 764, 'learning_rate': 0.6295827006643858, 'max_depth': 8, 'lambda': 2.8757587291138465e-06, 'alpha': 0.002028438245275019, 'subsample': 0.7491312167687019, 'colsample_bytree': 0.8208279844716855, 'gamma': 9.754562372706516}. Best is trial 26 with value: 0.99.\n",
      "[I 2024-03-09 13:56:46,972] Trial 87 finished with value: 0.98 and parameters: {'n_estimators': 286, 'learning_rate': 0.5091215749727946, 'max_depth': 4, 'lambda': 2.391933750578404e-08, 'alpha': 5.306222796911891e-05, 'subsample': 0.6433787569453556, 'colsample_bytree': 0.9738988909938713, 'gamma': 1.2019593840062939}. Best is trial 26 with value: 0.99.\n",
      "[I 2024-03-09 13:56:47,079] Trial 88 finished with value: 0.95 and parameters: {'n_estimators': 155, 'learning_rate': 0.4821914010023142, 'max_depth': 3, 'lambda': 0.005640027502225268, 'alpha': 0.00029442332598441967, 'subsample': 0.6089339499541256, 'colsample_bytree': 0.7801481922566269, 'gamma': 5.060396415261062}. Best is trial 26 with value: 0.99.\n",
      "[I 2024-03-09 13:56:47,657] Trial 89 finished with value: 0.96 and parameters: {'n_estimators': 956, 'learning_rate': 0.7647593922402649, 'max_depth': 6, 'lambda': 1.3731997326614848e-06, 'alpha': 2.561190951893094e-05, 'subsample': 0.5811109968794606, 'colsample_bytree': 0.9540732991711879, 'gamma': 1.7555307603015589}. Best is trial 26 with value: 0.99.\n",
      "[I 2024-03-09 13:56:47,945] Trial 90 finished with value: 0.98 and parameters: {'n_estimators': 376, 'learning_rate': 0.5419320326943993, 'max_depth': 8, 'lambda': 0.08190127414009903, 'alpha': 0.000682335218411299, 'subsample': 0.4412996414189542, 'colsample_bytree': 0.8548594046267595, 'gamma': 2.412387040288156}. Best is trial 26 with value: 0.99.\n",
      "[I 2024-03-09 13:56:48,331] Trial 91 finished with value: 0.97 and parameters: {'n_estimators': 641, 'learning_rate': 0.09952218473484616, 'max_depth': 8, 'lambda': 0.00018719893014785736, 'alpha': 1.8844929454424122e-05, 'subsample': 0.844559385650883, 'colsample_bytree': 0.5810549000582145, 'gamma': 0.9480531131232619}. Best is trial 26 with value: 0.99.\n",
      "[I 2024-03-09 13:56:48,466] Trial 92 finished with value: 0.96 and parameters: {'n_estimators': 590, 'learning_rate': 0.2123766031019786, 'max_depth': 8, 'lambda': 0.0007706628593505191, 'alpha': 8.758737601865853e-06, 'subsample': 0.8570032891159542, 'colsample_bytree': 0.5512695894669034, 'gamma': 3.695731335923171}. Best is trial 26 with value: 0.99.\n",
      "[I 2024-03-09 13:56:48,613] Trial 93 finished with value: 0.96 and parameters: {'n_estimators': 620, 'learning_rate': 0.006272417828805693, 'max_depth': 7, 'lambda': 0.3325462741305636, 'alpha': 4.312739771515983e-06, 'subsample': 0.8918917036170495, 'colsample_bytree': 0.6066130446534019, 'gamma': 2.1902053349549484}. Best is trial 26 with value: 0.99.\n",
      "[I 2024-03-09 13:56:48,691] Trial 94 finished with value: 0.96 and parameters: {'n_estimators': 193, 'learning_rate': 0.17249783940805224, 'max_depth': 9, 'lambda': 0.003265264065555467, 'alpha': 0.0001175110843647161, 'subsample': 0.8277546589640854, 'colsample_bytree': 0.6258513051713406, 'gamma': 4.424267732219596}. Best is trial 26 with value: 0.99.\n",
      "[I 2024-03-09 13:56:48,816] Trial 95 finished with value: 0.96 and parameters: {'n_estimators': 696, 'learning_rate': 0.06319932819633722, 'max_depth': 8, 'lambda': 6.358801304132289e-05, 'alpha': 0.0001904585897768907, 'subsample': 0.6938554681085037, 'colsample_bytree': 0.6800038347366364, 'gamma': 2.958070843469617}. Best is trial 26 with value: 0.99.\n",
      "[I 2024-03-09 13:56:48,907] Trial 96 finished with value: 0.95 and parameters: {'n_estimators': 514, 'learning_rate': 0.6194861334272839, 'max_depth': 8, 'lambda': 1.9207822978295593e-05, 'alpha': 3.049660120731525e-06, 'subsample': 0.5051076163801286, 'colsample_bytree': 0.8894249523398342, 'gamma': 0.4323028280524661}. Best is trial 26 with value: 0.99.\n",
      "[I 2024-03-09 13:56:48,987] Trial 97 finished with value: 0.98 and parameters: {'n_estimators': 317, 'learning_rate': 0.6970840989145148, 'max_depth': 3, 'lambda': 7.629557590514504e-06, 'alpha': 3.610657371333091e-05, 'subsample': 0.6633249080376329, 'colsample_bytree': 0.4552046245186682, 'gamma': 1.5398263434308679}. Best is trial 26 with value: 0.99.\n",
      "[I 2024-03-09 13:56:49,056] Trial 98 finished with value: 0.98 and parameters: {'n_estimators': 221, 'learning_rate': 0.34578839015063684, 'max_depth': 9, 'lambda': 7.465436304339081e-07, 'alpha': 1.3718864668729009e-06, 'subsample': 0.7814841265090191, 'colsample_bytree': 0.9233020045741649, 'gamma': 2.698839153849294}. Best is trial 26 with value: 0.99.\n",
      "[I 2024-03-09 13:56:49,201] Trial 99 finished with value: 0.96 and parameters: {'n_estimators': 841, 'learning_rate': 0.5670431624487038, 'max_depth': 7, 'lambda': 0.6539951949543825, 'alpha': 1.2697453798303062e-05, 'subsample': 0.7241132241534632, 'colsample_bytree': 0.7154340166243567, 'gamma': 3.401688517736047}. Best is trial 26 with value: 0.99.\n"
     ]
    }
   ],
   "source": [
    "X_train, X_test, y_train, y_test = train_test_split(data_labeled.iloc[:, :-1], data_labeled.iloc[:, -1], test_size=0.5)\n",
    "objective = XGBObjective(X_train, X_test, y_train, y_test)\n",
    "study = create_study(direction = \"maximize\")\n",
    "study.optimize(objective, n_trials = 100)\n",
    "trial = study.best_trial\n",
    "optimal_params = trial.params"
   ]
  },
  {
   "cell_type": "code",
   "execution_count": 5,
   "metadata": {},
   "outputs": [
    {
     "data": {
      "text/html": [
       "<div>\n",
       "<style scoped>\n",
       "    .dataframe tbody tr th:only-of-type {\n",
       "        vertical-align: middle;\n",
       "    }\n",
       "\n",
       "    .dataframe tbody tr th {\n",
       "        vertical-align: top;\n",
       "    }\n",
       "\n",
       "    .dataframe thead th {\n",
       "        text-align: right;\n",
       "    }\n",
       "</style>\n",
       "<table border=\"1\" class=\"dataframe\">\n",
       "  <thead>\n",
       "    <tr style=\"text-align: right;\">\n",
       "      <th></th>\n",
       "      <th>n_estimators</th>\n",
       "      <th>learning_rate</th>\n",
       "      <th>max_depth</th>\n",
       "      <th>lambda</th>\n",
       "      <th>alpha</th>\n",
       "      <th>subsample</th>\n",
       "      <th>colsample_bytree</th>\n",
       "      <th>gamma</th>\n",
       "    </tr>\n",
       "  </thead>\n",
       "  <tbody>\n",
       "    <tr>\n",
       "      <th>0</th>\n",
       "      <td>201</td>\n",
       "      <td>0.383735</td>\n",
       "      <td>7</td>\n",
       "      <td>0.000003</td>\n",
       "      <td>0.000001</td>\n",
       "      <td>0.370748</td>\n",
       "      <td>0.779714</td>\n",
       "      <td>2.506857</td>\n",
       "    </tr>\n",
       "  </tbody>\n",
       "</table>\n",
       "</div>"
      ],
      "text/plain": [
       "   n_estimators  learning_rate  max_depth    lambda     alpha  subsample  \\\n",
       "0           201       0.383735          7  0.000003  0.000001   0.370748   \n",
       "\n",
       "   colsample_bytree     gamma  \n",
       "0          0.779714  2.506857  "
      ]
     },
     "execution_count": 5,
     "metadata": {},
     "output_type": "execute_result"
    }
   ],
   "source": [
    "pd.DataFrame(optimal_params, index=[0])"
   ]
  },
  {
   "cell_type": "code",
   "execution_count": 6,
   "metadata": {},
   "outputs": [
    {
     "name": "stdout",
     "output_type": "stream",
     "text": [
      "\n",
      "ROC AUC training sample: 0.997\n",
      "ROC AUC test sample: 0.988\n"
     ]
    }
   ],
   "source": [
    "bst = XGBClassifier(**optimal_params)\n",
    "bst.fit(X_train, y_train)\n",
    "prob_train = bst.predict_proba(X_train)[:, 1]\n",
    "prob_test = bst.predict_proba(X_test)[:, 1]\n",
    "pred_train = bst.predict(X_train)\n",
    "pred_test = bst.predict(X_test)\n",
    "auc_train = roc_auc_score(y_train, prob_train)\n",
    "auc_test = roc_auc_score(y_test, prob_test)\n",
    "print(f\"\\nROC AUC training sample: {auc_train:.3f}\\nROC AUC test sample: {auc_test:.3f}\")"
   ]
  },
  {
   "cell_type": "code",
   "execution_count": 7,
   "metadata": {},
   "outputs": [
    {
     "name": "stdout",
     "output_type": "stream",
     "text": [
      "\n",
      "TPR training sample: 0.970\n",
      "TPR test sample: 0.990\n"
     ]
    }
   ],
   "source": [
    "TPR_train = (pred_train == y_train.values).sum() / len(y_train)\n",
    "TPR_test = (pred_test == y_test.values).sum() / len(y_test)\n",
    "print(f\"\\nTPR training sample: {TPR_train:.3f}\\nTPR test sample: {TPR_test:.3f}\")"
   ]
  },
  {
   "cell_type": "markdown",
   "metadata": {},
   "source": [
    "### Re-doing exercise 2 using Optuna\n",
    "Let us try to re-do exercise 2 that we tuned using a GridSearch but now using the new hyper-parameter tuning in Optuna."
   ]
  },
  {
   "cell_type": "code",
   "execution_count": 8,
   "metadata": {},
   "outputs": [],
   "source": [
    "data_path_ex2 = \"https://www.nbi.dk/~koskinen/Teaching/data/BDT_16var.txt\"\n",
    "df_ex2 = pd.read_csv(\n",
    "    data_path_ex2,\n",
    "    delimiter=\"\\s+\",\n",
    "    names=[\n",
    "        \"var1\",\n",
    "        \"var2\",\n",
    "        \"var3\",\n",
    "        \"var4\",\n",
    "        \"var5\",\n",
    "        \"var6\",\n",
    "        \"var7\",\n",
    "        \"var8\",\n",
    "        \"var9\",\n",
    "        \"var10\",\n",
    "        \"var11\",\n",
    "        \"var12\",\n",
    "        \"var13\",\n",
    "        \"var14\",\n",
    "        \"var15\",\n",
    "        \"var16\",\n",
    "    ],\n",
    "    index_col=0,\n",
    "    engine=\"python\",\n",
    ")\n",
    "ex2_sig = df_ex2.iloc[::2]\n",
    "ex2_bg = df_ex2.iloc[1::2]\n",
    "ex2_bg_sig = pd.concat((ex2_bg, ex2_sig)).reset_index(drop=True)\n",
    "ex2_y = np.append(np.zeros(len(ex2_bg)), np.ones(len(ex2_sig)))\n",
    "X_train_ex2, X_test_ex2, y_train_ex2, y_test_ex2 = train_test_split(\n",
    "    ex2_bg_sig, ex2_y, test_size=0.4\n",
    ")"
   ]
  },
  {
   "cell_type": "code",
   "execution_count": 9,
   "metadata": {},
   "outputs": [
    {
     "name": "stderr",
     "output_type": "stream",
     "text": [
      "[I 2024-03-09 13:56:49,896] A new study created in memory with name: no-name-8251df50-de9e-479a-83c7-edfa36ce9c92\n",
      "[I 2024-03-09 13:56:50,306] Trial 0 finished with value: 0.8515 and parameters: {'n_estimators': 870, 'learning_rate': 0.7568343376352018, 'max_depth': 3, 'lambda': 8.75908632954778e-05, 'alpha': 5.199208932713126e-07, 'subsample': 0.4846770986875402, 'colsample_bytree': 0.7101940741757997, 'gamma': 1.9472533048377416}. Best is trial 0 with value: 0.8515.\n",
      "[I 2024-03-09 13:56:50,821] Trial 1 finished with value: 0.8695 and parameters: {'n_estimators': 638, 'learning_rate': 0.19586393093657462, 'max_depth': 10, 'lambda': 0.00010279290157210648, 'alpha': 1.218106914858315e-06, 'subsample': 0.7709654986129753, 'colsample_bytree': 0.26000708018813123, 'gamma': 0.4675222749520147}. Best is trial 1 with value: 0.8695.\n",
      "[I 2024-03-09 13:56:50,903] Trial 2 finished with value: 0.874 and parameters: {'n_estimators': 267, 'learning_rate': 0.6531449985549557, 'max_depth': 3, 'lambda': 3.86979125501925e-07, 'alpha': 4.962300616415285e-06, 'subsample': 0.550468761999656, 'colsample_bytree': 0.2903070128736701, 'gamma': 10.895856149949115}. Best is trial 2 with value: 0.874.\n",
      "[I 2024-03-09 13:56:51,072] Trial 3 finished with value: 0.87775 and parameters: {'n_estimators': 625, 'learning_rate': 0.28514143676815706, 'max_depth': 5, 'lambda': 0.00022270720578841947, 'alpha': 1.64083727937497e-08, 'subsample': 0.7476196375087643, 'colsample_bytree': 0.38157689177906084, 'gamma': 13.17361315706499}. Best is trial 3 with value: 0.87775.\n",
      "[I 2024-03-09 13:56:51,269] Trial 4 finished with value: 0.87775 and parameters: {'n_estimators': 614, 'learning_rate': 0.1965518032942919, 'max_depth': 6, 'lambda': 0.015997909971976643, 'alpha': 0.002574502332998297, 'subsample': 0.9477434518325638, 'colsample_bytree': 0.9818956146550277, 'gamma': 6.1209102170083085}. Best is trial 3 with value: 0.87775.\n",
      "[I 2024-03-09 13:56:51,420] Trial 5 finished with value: 0.86625 and parameters: {'n_estimators': 576, 'learning_rate': 0.7370275847494623, 'max_depth': 5, 'lambda': 0.002359189613245124, 'alpha': 5.329324847735845e-07, 'subsample': 0.2395533437330821, 'colsample_bytree': 0.34111588579631646, 'gamma': 16.189650664971374}. Best is trial 3 with value: 0.87775.\n",
      "[I 2024-03-09 13:56:51,667] Trial 6 finished with value: 0.86725 and parameters: {'n_estimators': 956, 'learning_rate': 0.8075887965736633, 'max_depth': 10, 'lambda': 0.027723775156898656, 'alpha': 0.05333102672506455, 'subsample': 0.566677141834778, 'colsample_bytree': 0.29631432602213653, 'gamma': 15.712817451576715}. Best is trial 3 with value: 0.87775.\n",
      "[I 2024-03-09 13:56:51,862] Trial 7 finished with value: 0.87325 and parameters: {'n_estimators': 756, 'learning_rate': 0.5875073894113056, 'max_depth': 7, 'lambda': 1.9289642111553562e-05, 'alpha': 7.471209363497438e-05, 'subsample': 0.4852087511741987, 'colsample_bytree': 0.3268009470192717, 'gamma': 17.877407647850458}. Best is trial 3 with value: 0.87775.\n",
      "[I 2024-03-09 13:56:51,971] Trial 8 finished with value: 0.88 and parameters: {'n_estimators': 294, 'learning_rate': 0.2054486495670823, 'max_depth': 3, 'lambda': 0.22162945865940806, 'alpha': 3.8731348518778265e-06, 'subsample': 0.966259391520029, 'colsample_bytree': 0.8257900231930402, 'gamma': 3.2738321075564247}. Best is trial 8 with value: 0.88.\n",
      "[I 2024-03-09 13:56:52,135] Trial 9 finished with value: 0.87225 and parameters: {'n_estimators': 594, 'learning_rate': 0.5259825807170264, 'max_depth': 9, 'lambda': 2.279801192333937e-06, 'alpha': 0.18645694407904623, 'subsample': 0.5351099610349508, 'colsample_bytree': 0.667694282972689, 'gamma': 13.475594903165431}. Best is trial 8 with value: 0.88.\n",
      "[I 2024-03-09 13:56:52,548] Trial 10 finished with value: 0.8715 and parameters: {'n_estimators': 230, 'learning_rate': 0.011809364006324818, 'max_depth': 8, 'lambda': 0.7210567654583172, 'alpha': 0.0005721227186037513, 'subsample': 0.9760059213882408, 'colsample_bytree': 0.8878724698299433, 'gamma': 6.225731010979968}. Best is trial 8 with value: 0.88.\n",
      "[I 2024-03-09 13:56:52,678] Trial 11 finished with value: 0.88425 and parameters: {'n_estimators': 370, 'learning_rate': 0.3296181317977465, 'max_depth': 4, 'lambda': 0.7679266193590961, 'alpha': 1.0214125870797601e-08, 'subsample': 0.7787357969758311, 'colsample_bytree': 0.5318153612185872, 'gamma': 7.3732457275394445}. Best is trial 11 with value: 0.88425.\n",
      "[I 2024-03-09 13:56:52,822] Trial 12 finished with value: 0.882 and parameters: {'n_estimators': 369, 'learning_rate': 0.3611448047068223, 'max_depth': 4, 'lambda': 0.8619708126724951, 'alpha': 1.1997356296309275e-08, 'subsample': 0.8138153089417349, 'colsample_bytree': 0.47544352478942387, 'gamma': 5.587881311134274}. Best is trial 11 with value: 0.88425.\n",
      "[I 2024-03-09 13:56:52,962] Trial 13 finished with value: 0.88025 and parameters: {'n_estimators': 383, 'learning_rate': 0.3913199086899266, 'max_depth': 5, 'lambda': 2.3549109958290817e-08, 'alpha': 1.838461175159944e-08, 'subsample': 0.7684369465904237, 'colsample_bytree': 0.5212876585690882, 'gamma': 7.364891960079975}. Best is trial 11 with value: 0.88425.\n",
      "[I 2024-03-09 13:56:53,103] Trial 14 finished with value: 0.86775 and parameters: {'n_estimators': 422, 'learning_rate': 0.9893025323079239, 'max_depth': 4, 'lambda': 0.08341609089926871, 'alpha': 1.0685693754963287e-08, 'subsample': 0.8441200032224464, 'colsample_bytree': 0.49116947535082467, 'gamma': 9.760705807163603}. Best is trial 11 with value: 0.88425.\n",
      "[I 2024-03-09 13:56:53,227] Trial 15 finished with value: 0.87725 and parameters: {'n_estimators': 108, 'learning_rate': 0.37966313659310474, 'max_depth': 4, 'lambda': 0.0029217129867789805, 'alpha': 1.2780364118657443e-07, 'subsample': 0.6609358821778135, 'colsample_bytree': 0.5047965360802187, 'gamma': 4.810543202103612}. Best is trial 11 with value: 0.88425.\n",
      "[I 2024-03-09 13:56:53,569] Trial 16 finished with value: 0.874 and parameters: {'n_estimators': 438, 'learning_rate': 0.04156580687868561, 'max_depth': 6, 'lambda': 0.8539092267277142, 'alpha': 2.7063534509401283e-05, 'subsample': 0.8500867430697386, 'colsample_bytree': 0.6192137786036273, 'gamma': 10.464533791025115}. Best is trial 11 with value: 0.88425.\n",
      "[I 2024-03-09 13:56:53,895] Trial 17 finished with value: 0.8725 and parameters: {'n_estimators': 499, 'learning_rate': 0.4408048582593226, 'max_depth': 4, 'lambda': 0.0025353311352198015, 'alpha': 9.9969510464526e-08, 'subsample': 0.6546833999897819, 'colsample_bytree': 0.43202152904614716, 'gamma': 8.336745628285158}. Best is trial 11 with value: 0.88425.\n",
      "[I 2024-03-09 13:56:54,012] Trial 18 finished with value: 0.874 and parameters: {'n_estimators': 128, 'learning_rate': 0.31097270165954327, 'max_depth': 7, 'lambda': 0.03177174883082437, 'alpha': 7.941097903691327e-08, 'subsample': 0.32729202775452876, 'colsample_bytree': 0.7326581900142842, 'gamma': 4.459897489911075}. Best is trial 11 with value: 0.88425.\n",
      "[I 2024-03-09 13:56:54,242] Trial 19 finished with value: 0.87825 and parameters: {'n_estimators': 338, 'learning_rate': 0.12539777892927434, 'max_depth': 4, 'lambda': 0.170839586435514, 'alpha': 0.0014821655637746267, 'subsample': 0.8749613044254996, 'colsample_bytree': 0.20181653188765958, 'gamma': 0.030031409299244416}. Best is trial 11 with value: 0.88425.\n",
      "[I 2024-03-09 13:56:54,336] Trial 20 finished with value: 0.87225 and parameters: {'n_estimators': 216, 'learning_rate': 0.49030141555559453, 'max_depth': 5, 'lambda': 0.9906929085218635, 'alpha': 0.009626237457653486, 'subsample': 0.6908472282335607, 'colsample_bytree': 0.5655757630831234, 'gamma': 19.788141874176198}. Best is trial 11 with value: 0.88425.\n",
      "[I 2024-03-09 13:56:54,475] Trial 21 finished with value: 0.8745 and parameters: {'n_estimators': 388, 'learning_rate': 0.39290244718281225, 'max_depth': 5, 'lambda': 4.369069991917231e-08, 'alpha': 1.4831537396757457e-08, 'subsample': 0.7653025004691646, 'colsample_bytree': 0.529205121006633, 'gamma': 7.843610538671809}. Best is trial 11 with value: 0.88425.\n",
      "[I 2024-03-09 13:56:54,647] Trial 22 finished with value: 0.88275 and parameters: {'n_estimators': 476, 'learning_rate': 0.3255422541608955, 'max_depth': 6, 'lambda': 1.6954623324674317e-08, 'alpha': 6.072510681784415e-08, 'subsample': 0.8919236722572904, 'colsample_bytree': 0.4310471842693665, 'gamma': 7.828651329387956}. Best is trial 11 with value: 0.88425.\n",
      "[I 2024-03-09 13:56:54,812] Trial 23 finished with value: 0.87775 and parameters: {'n_estimators': 478, 'learning_rate': 0.2838474482668403, 'max_depth': 6, 'lambda': 3.4381901923191535e-07, 'alpha': 8.953818362736968e-08, 'subsample': 0.8685186097910872, 'colsample_bytree': 0.4464066559789122, 'gamma': 9.076028016004791}. Best is trial 11 with value: 0.88425.\n",
      "[I 2024-03-09 13:56:54,993] Trial 24 finished with value: 0.884 and parameters: {'n_estimators': 520, 'learning_rate': 0.3217351180693289, 'max_depth': 8, 'lambda': 5.151536548524296e-06, 'alpha': 2.0049519069251714e-07, 'subsample': 0.9259087053143322, 'colsample_bytree': 0.40868234133538717, 'gamma': 12.407565118416816}. Best is trial 11 with value: 0.88425.\n",
      "[I 2024-03-09 13:56:55,246] Trial 25 finished with value: 0.87075 and parameters: {'n_estimators': 691, 'learning_rate': 0.14158600706423247, 'max_depth': 8, 'lambda': 4.72922594662238e-06, 'alpha': 1.136720662783459e-05, 'subsample': 0.9209601907585205, 'colsample_bytree': 0.40502065809779786, 'gamma': 12.264104717958073}. Best is trial 11 with value: 0.88425.\n",
      "[I 2024-03-09 13:56:56,392] Trial 26 finished with value: 0.87225 and parameters: {'n_estimators': 531, 'learning_rate': 0.47198260925029745, 'max_depth': 8, 'lambda': 1.0165871365378512e-07, 'alpha': 4.6306367870505373e-07, 'subsample': 0.9950671916478703, 'colsample_bytree': 0.6072921234318961, 'gamma': 11.922769570897527}. Best is trial 11 with value: 0.88425.\n",
      "[I 2024-03-09 13:56:56,851] Trial 27 finished with value: 0.87625 and parameters: {'n_estimators': 703, 'learning_rate': 0.2709929947465525, 'max_depth': 9, 'lambda': 1.0519628674236572e-06, 'alpha': 6.206649119541412e-08, 'subsample': 0.9022632253897156, 'colsample_bytree': 0.3591520572195438, 'gamma': 14.134058519329306}. Best is trial 11 with value: 0.88425.\n",
      "[I 2024-03-09 13:56:57,105] Trial 28 finished with value: 0.88 and parameters: {'n_estimators': 470, 'learning_rate': 0.5642244356731911, 'max_depth': 7, 'lambda': 1.843016653648438e-05, 'alpha': 1.7486318036865644e-06, 'subsample': 0.915679665431533, 'colsample_bytree': 0.5530457383793008, 'gamma': 7.025435350245381}. Best is trial 11 with value: 0.88425.\n",
      "[I 2024-03-09 13:56:58,283] Trial 29 finished with value: 0.883 and parameters: {'n_estimators': 787, 'learning_rate': 0.10511237476519741, 'max_depth': 9, 'lambda': 0.00040245012250903666, 'alpha': 4.638013702147015e-07, 'subsample': 0.6930638716183055, 'colsample_bytree': 0.7052432579867622, 'gamma': 2.7858876496241276}. Best is trial 11 with value: 0.88425.\n",
      "[I 2024-03-09 13:56:59,484] Trial 30 finished with value: 0.88325 and parameters: {'n_estimators': 802, 'learning_rate': 0.08767814279714764, 'max_depth': 9, 'lambda': 0.0004883198513220247, 'alpha': 3.0145174350548333e-07, 'subsample': 0.71250725537251, 'colsample_bytree': 0.792920134305247, 'gamma': 2.5207973639586436}. Best is trial 11 with value: 0.88425.\n",
      "[I 2024-03-09 13:57:03,919] Trial 31 finished with value: 0.8825 and parameters: {'n_estimators': 824, 'learning_rate': 0.04762872327961294, 'max_depth': 9, 'lambda': 0.00039785610958533563, 'alpha': 4.639679600571342e-07, 'subsample': 0.7126492304076867, 'colsample_bytree': 0.7517564619042558, 'gamma': 2.5978814483927484}. Best is trial 11 with value: 0.88425.\n",
      "[I 2024-03-09 13:57:04,907] Trial 32 finished with value: 0.8865 and parameters: {'n_estimators': 887, 'learning_rate': 0.11658263900180735, 'max_depth': 10, 'lambda': 2.460837407892669e-05, 'alpha': 2.6020471796525056e-07, 'subsample': 0.6136576851581538, 'colsample_bytree': 0.8196401558928812, 'gamma': 2.0576351744606054}. Best is trial 32 with value: 0.8865.\n",
      "[I 2024-03-09 13:57:05,819] Trial 33 finished with value: 0.88075 and parameters: {'n_estimators': 908, 'learning_rate': 0.21210076195900074, 'max_depth': 10, 'lambda': 3.0377185593993066e-05, 'alpha': 1.2157814407256123e-06, 'subsample': 0.6206846749840966, 'colsample_bytree': 0.8026285211256554, 'gamma': 1.4027338614318687}. Best is trial 32 with value: 0.8865.\n",
      "[I 2024-03-09 13:57:06,662] Trial 34 finished with value: 0.887 and parameters: {'n_estimators': 1000, 'learning_rate': 0.0933324079483858, 'max_depth': 10, 'lambda': 5.6424831874499685e-05, 'alpha': 2.2565621006900956e-07, 'subsample': 0.6085564026132283, 'colsample_bytree': 0.9106257868527657, 'gamma': 1.7717162487242484}. Best is trial 34 with value: 0.887.\n",
      "[I 2024-03-09 13:57:07,656] Trial 35 finished with value: 0.876 and parameters: {'n_estimators': 989, 'learning_rate': 0.2391644434270812, 'max_depth': 10, 'lambda': 5.4915171113334126e-05, 'alpha': 2.803320577705588e-06, 'subsample': 0.3912097271199394, 'colsample_bytree': 0.97654645255768, 'gamma': 1.0757134260861083}. Best is trial 34 with value: 0.887.\n",
      "[I 2024-03-09 13:57:08,056] Trial 36 finished with value: 0.88525 and parameters: {'n_estimators': 845, 'learning_rate': 0.14872741778604842, 'max_depth': 10, 'lambda': 7.021191349627184e-06, 'alpha': 3.7609029187572186e-08, 'subsample': 0.47050521686435487, 'colsample_bytree': 0.9299942032906492, 'gamma': 4.15013110924168}. Best is trial 34 with value: 0.887.\n",
      "[I 2024-03-09 13:57:08,788] Trial 37 finished with value: 0.8845 and parameters: {'n_estimators': 880, 'learning_rate': 0.144710104796445, 'max_depth': 10, 'lambda': 7.578398447721225e-06, 'alpha': 2.0042300258953506e-05, 'subsample': 0.45294518607723167, 'colsample_bytree': 0.924969609852311, 'gamma': 4.201274397710626}. Best is trial 34 with value: 0.887.\n",
      "[I 2024-03-09 13:57:09,986] Trial 38 finished with value: 0.878 and parameters: {'n_estimators': 883, 'learning_rate': 0.1590870294257296, 'max_depth': 10, 'lambda': 6.686031862503228e-06, 'alpha': 0.00015088309685719437, 'subsample': 0.46032218956839566, 'colsample_bytree': 0.9218716102139906, 'gamma': 4.008618034599432}. Best is trial 34 with value: 0.887.\n",
      "[I 2024-03-09 13:57:15,522] Trial 39 finished with value: 0.88375 and parameters: {'n_estimators': 949, 'learning_rate': 0.006657288413558282, 'max_depth': 10, 'lambda': 0.00012871574902399165, 'alpha': 1.6113492150355123e-05, 'subsample': 0.42973296814207174, 'colsample_bytree': 0.8673967141909218, 'gamma': 1.6780270999164475}. Best is trial 34 with value: 0.887.\n",
      "[I 2024-03-09 13:57:16,553] Trial 40 finished with value: 0.882 and parameters: {'n_estimators': 850, 'learning_rate': 0.06748146300672266, 'max_depth': 10, 'lambda': 6.873679388286766e-07, 'alpha': 4.5211463838962984e-05, 'subsample': 0.5317204897276941, 'colsample_bytree': 0.9984860414857035, 'gamma': 3.6304100538513606}. Best is trial 34 with value: 0.887.\n",
      "[I 2024-03-09 13:57:17,956] Trial 41 finished with value: 0.8785 and parameters: {'n_estimators': 918, 'learning_rate': 0.17387122472137928, 'max_depth': 10, 'lambda': 1.3420804032399242e-05, 'alpha': 3.036527080921328e-08, 'subsample': 0.3399991913480434, 'colsample_bytree': 0.9286076123126414, 'gamma': 5.14329738614317}. Best is trial 34 with value: 0.887.\n",
      "[I 2024-03-09 13:57:18,725] Trial 42 finished with value: 0.86925 and parameters: {'n_estimators': 735, 'learning_rate': 0.2391543305321065, 'max_depth': 9, 'lambda': 7.667607317786788e-05, 'alpha': 3.771601986263422e-08, 'subsample': 0.5041050172348257, 'colsample_bytree': 0.8518881513214163, 'gamma': 0.5741021230945251}. Best is trial 34 with value: 0.887.\n",
      "[I 2024-03-09 13:57:19,243] Trial 43 finished with value: 0.886 and parameters: {'n_estimators': 996, 'learning_rate': 0.13214865550796331, 'max_depth': 3, 'lambda': 1.3177628472661669e-06, 'alpha': 6.8771539794880104e-06, 'subsample': 0.583340510709519, 'colsample_bytree': 0.9241657172071561, 'gamma': 6.492601906443378}. Best is trial 34 with value: 0.887.\n",
      "[I 2024-03-09 13:57:19,778] Trial 44 finished with value: 0.88675 and parameters: {'n_estimators': 994, 'learning_rate': 0.10472876035027409, 'max_depth': 3, 'lambda': 1.4274459228754486e-06, 'alpha': 7.236760118525297e-06, 'subsample': 0.5910498061721395, 'colsample_bytree': 0.9403030615373615, 'gamma': 6.229097238687258}. Best is trial 34 with value: 0.887.\n",
      "[I 2024-03-09 13:57:20,662] Trial 45 finished with value: 0.88925 and parameters: {'n_estimators': 983, 'learning_rate': 0.08357188637704725, 'max_depth': 3, 'lambda': 1.6044392665488248e-06, 'alpha': 6.363611549638811e-06, 'subsample': 0.5896942181288171, 'colsample_bytree': 0.8977953418411357, 'gamma': 6.275166060375217}. Best is trial 45 with value: 0.88925.\n",
      "[I 2024-03-09 13:57:21,180] Trial 46 finished with value: 0.88475 and parameters: {'n_estimators': 994, 'learning_rate': 0.07519394117005726, 'max_depth': 3, 'lambda': 1.8523299103723112e-07, 'alpha': 7.863363567160124e-06, 'subsample': 0.58044659838966, 'colsample_bytree': 0.9497535086802837, 'gamma': 6.808950412149386}. Best is trial 45 with value: 0.88925.\n",
      "[I 2024-03-09 13:57:22,028] Trial 47 finished with value: 0.82625 and parameters: {'n_estimators': 942, 'learning_rate': 0.000871170361225776, 'max_depth': 3, 'lambda': 1.7401528600799224e-06, 'alpha': 0.00015117641937315357, 'subsample': 0.596966860970798, 'colsample_bytree': 0.8869897201154738, 'gamma': 9.025526667025328}. Best is trial 45 with value: 0.88925.\n",
      "[I 2024-03-09 13:57:22,731] Trial 48 finished with value: 0.86775 and parameters: {'n_estimators': 998, 'learning_rate': 0.6733361814071487, 'max_depth': 3, 'lambda': 3.0259370504351293e-06, 'alpha': 1.3711935960560068e-06, 'subsample': 0.6173658225797282, 'colsample_bytree': 0.8193776309066517, 'gamma': 5.735999255475063}. Best is trial 45 with value: 0.88925.\n",
      "[I 2024-03-09 13:57:23,338] Trial 49 finished with value: 0.88325 and parameters: {'n_estimators': 956, 'learning_rate': 0.19579860165136787, 'max_depth': 3, 'lambda': 7.147804330008148e-07, 'alpha': 4.492722273993426e-06, 'subsample': 0.5336681795860375, 'colsample_bytree': 0.7726872074150393, 'gamma': 6.430408594903566}. Best is trial 45 with value: 0.88925.\n",
      "[I 2024-03-09 13:57:24,104] Trial 50 finished with value: 0.88275 and parameters: {'n_estimators': 910, 'learning_rate': 0.10438246063083291, 'max_depth': 3, 'lambda': 3.7927332679751665e-05, 'alpha': 1.089731234278489e-06, 'subsample': 0.6427917523489439, 'colsample_bytree': 0.8605766205384511, 'gamma': 2.1247405948992997}. Best is trial 45 with value: 0.88925.\n",
      "[I 2024-03-09 13:57:24,682] Trial 51 finished with value: 0.889 and parameters: {'n_estimators': 842, 'learning_rate': 0.05975080706237153, 'max_depth': 3, 'lambda': 1.8609856335431998e-06, 'alpha': 6.043719038603295e-06, 'subsample': 0.5616690318849947, 'colsample_bytree': 0.9691622643711286, 'gamma': 5.463964971396319}. Best is trial 45 with value: 0.88925.\n",
      "[I 2024-03-09 13:57:25,404] Trial 52 finished with value: 0.888 and parameters: {'n_estimators': 966, 'learning_rate': 0.04082841934806243, 'max_depth': 3, 'lambda': 2.757847936550624e-07, 'alpha': 6.0831645671014986e-05, 'subsample': 0.5670588991484476, 'colsample_bytree': 0.9716913232694288, 'gamma': 5.06450088175728}. Best is trial 45 with value: 0.88925.\n",
      "[I 2024-03-09 13:57:26,279] Trial 53 finished with value: 0.886 and parameters: {'n_estimators': 957, 'learning_rate': 0.045841570208143556, 'max_depth': 4, 'lambda': 1.024333404787029e-07, 'alpha': 0.00038760008290476144, 'subsample': 0.5555958253927719, 'colsample_bytree': 0.9695593221498737, 'gamma': 5.102960744017589}. Best is trial 45 with value: 0.88925.\n",
      "[I 2024-03-09 13:57:26,890] Trial 54 finished with value: 0.887 and parameters: {'n_estimators': 879, 'learning_rate': 0.05949422431114802, 'max_depth': 4, 'lambda': 3.613510401824762e-07, 'alpha': 5.1495127785641444e-05, 'subsample': 0.5140086018177918, 'colsample_bytree': 0.8901204030173651, 'gamma': 3.1167425167894742}. Best is trial 45 with value: 0.88925.\n",
      "[I 2024-03-09 13:57:27,688] Trial 55 finished with value: 0.889 and parameters: {'n_estimators': 924, 'learning_rate': 0.034411303852424566, 'max_depth': 4, 'lambda': 3.1911360967479146e-07, 'alpha': 5.432120023881095e-05, 'subsample': 0.5040220863113547, 'colsample_bytree': 0.884165244734748, 'gamma': 3.08436888545672}. Best is trial 45 with value: 0.88925.\n",
      "[I 2024-03-09 13:57:28,326] Trial 56 finished with value: 0.88625 and parameters: {'n_estimators': 779, 'learning_rate': 0.043116211294053575, 'max_depth': 4, 'lambda': 2.193966601831578e-07, 'alpha': 4.9285235454075026e-05, 'subsample': 0.5104188718037147, 'colsample_bytree': 0.8931868843039719, 'gamma': 3.335084256902929}. Best is trial 45 with value: 0.88925.\n",
      "[I 2024-03-09 13:57:29,234] Trial 57 finished with value: 0.80275 and parameters: {'n_estimators': 850, 'learning_rate': 0.9556177041344198, 'max_depth': 5, 'lambda': 7.422283927073321e-08, 'alpha': 0.0006567764085747126, 'subsample': 0.4268584151303558, 'colsample_bytree': 0.8949081875796663, 'gamma': 2.9083148593419144}. Best is trial 45 with value: 0.88925.\n",
      "[I 2024-03-09 13:57:29,822] Trial 58 finished with value: 0.8865 and parameters: {'n_estimators': 928, 'learning_rate': 0.036788620737997636, 'max_depth': 4, 'lambda': 4.0420537328475416e-08, 'alpha': 0.0002926336160084444, 'subsample': 0.49308790966824834, 'colsample_bytree': 0.9968709044782526, 'gamma': 5.346139256968017}. Best is trial 45 with value: 0.88925.\n",
      "[I 2024-03-09 13:57:30,377] Trial 59 finished with value: 0.8755 and parameters: {'n_estimators': 658, 'learning_rate': 0.17925209967376915, 'max_depth': 4, 'lambda': 4.104821623699208e-07, 'alpha': 8.728580620903488e-05, 'subsample': 0.5544668372438921, 'colsample_bytree': 0.9542663002915248, 'gamma': 0.8502475158652012}. Best is trial 45 with value: 0.88925.\n",
      "[I 2024-03-09 13:57:30,861] Trial 60 finished with value: 0.8855 and parameters: {'n_estimators': 810, 'learning_rate': 0.0751357295617181, 'max_depth': 3, 'lambda': 4.205598945338262e-07, 'alpha': 3.377750325638994e-05, 'subsample': 0.3875814975908132, 'colsample_bytree': 0.8417482061666928, 'gamma': 4.709915625375133}. Best is trial 45 with value: 0.88925.\n",
      "[I 2024-03-09 13:57:31,648] Trial 61 finished with value: 0.86425 and parameters: {'n_estimators': 978, 'learning_rate': 0.003398623074561402, 'max_depth': 3, 'lambda': 2.385087050941047e-06, 'alpha': 1.1790133998980791e-05, 'subsample': 0.5222212737174445, 'colsample_bytree': 0.9527280069685872, 'gamma': 5.733094296097819}. Best is trial 45 with value: 0.88925.\n",
      "[I 2024-03-09 13:57:32,207] Trial 62 finished with value: 0.88575 and parameters: {'n_estimators': 962, 'learning_rate': 0.08710283470908808, 'max_depth': 3, 'lambda': 1.5301365157544989e-07, 'alpha': 3.020075864461776e-06, 'subsample': 0.6377146353742881, 'colsample_bytree': 0.8990797743284803, 'gamma': 3.325826744571747}. Best is trial 45 with value: 0.88925.\n",
      "[I 2024-03-09 13:57:32,787] Trial 63 finished with value: 0.878 and parameters: {'n_estimators': 907, 'learning_rate': 0.030719813617179077, 'max_depth': 4, 'lambda': 6.762210719167273e-07, 'alpha': 0.006365272794121002, 'subsample': 0.6709957624748525, 'colsample_bytree': 0.9733265639934662, 'gamma': 8.578427492060092}. Best is trial 45 with value: 0.88925.\n",
      "[I 2024-03-09 13:57:33,247] Trial 64 finished with value: 0.8865 and parameters: {'n_estimators': 933, 'learning_rate': 0.11136087852432426, 'max_depth': 3, 'lambda': 3.102216964604044e-08, 'alpha': 0.5679387308088151, 'subsample': 0.5673820149607783, 'colsample_bytree': 0.8843280624183416, 'gamma': 6.030243830242601}. Best is trial 45 with value: 0.88925.\n",
      "[I 2024-03-09 13:57:33,779] Trial 65 finished with value: 0.8805 and parameters: {'n_estimators': 867, 'learning_rate': 0.06735642530223977, 'max_depth': 5, 'lambda': 2.795494636947331e-07, 'alpha': 6.732125580473773e-05, 'subsample': 0.5974980987593306, 'colsample_bytree': 0.945914626712651, 'gamma': 7.749533560364424}. Best is trial 45 with value: 0.88925.\n",
      "[I 2024-03-09 13:57:34,390] Trial 66 finished with value: 0.8785 and parameters: {'n_estimators': 970, 'learning_rate': 0.21893544795315584, 'max_depth': 4, 'lambda': 1.1760178165487283e-08, 'alpha': 0.00020580306814328643, 'subsample': 0.5437396262367872, 'colsample_bytree': 0.9105098068347732, 'gamma': 3.5794953323716117}. Best is trial 45 with value: 0.88925.\n",
      "[I 2024-03-09 13:57:35,003] Trial 67 finished with value: 0.88975 and parameters: {'n_estimators': 750, 'learning_rate': 0.02722998771465536, 'max_depth': 3, 'lambda': 3.5175467196616343e-06, 'alpha': 2.5511168532788054e-05, 'subsample': 0.49091646780016046, 'colsample_bytree': 0.6671505857240692, 'gamma': 0.1396251894705609}. Best is trial 67 with value: 0.88975.\n",
      "[I 2024-03-09 13:57:35,812] Trial 68 finished with value: 0.8885 and parameters: {'n_estimators': 743, 'learning_rate': 0.02527077865334349, 'max_depth': 4, 'lambda': 4.225305356862859e-06, 'alpha': 0.0010029667487020776, 'subsample': 0.48820439514430236, 'colsample_bytree': 0.8369820126609306, 'gamma': 1.6359973672625454}. Best is trial 67 with value: 0.88975.\n",
      "[I 2024-03-09 13:57:36,547] Trial 69 finished with value: 0.85 and parameters: {'n_estimators': 736, 'learning_rate': 0.8326347255279571, 'max_depth': 3, 'lambda': 1.315125568084097e-05, 'alpha': 0.0011447962029948139, 'subsample': 0.4859551002738417, 'colsample_bytree': 0.668955936519379, 'gamma': 0.15035906427224607}. Best is trial 67 with value: 0.88975.\n",
      "[I 2024-03-09 13:57:37,477] Trial 70 finished with value: 0.8845 and parameters: {'n_estimators': 762, 'learning_rate': 0.019138906602595512, 'max_depth': 5, 'lambda': 0.0008913141438062842, 'alpha': 0.004523337339621893, 'subsample': 0.44133453326136574, 'colsample_bytree': 0.6861608060131521, 'gamma': 1.3239584436663696}. Best is trial 67 with value: 0.88975.\n",
      "[I 2024-03-09 13:57:38,038] Trial 71 finished with value: 0.88475 and parameters: {'n_estimators': 591, 'learning_rate': 0.05641039213225928, 'max_depth': 4, 'lambda': 4.3131818059543796e-06, 'alpha': 2.2541778643032697e-05, 'subsample': 0.5100393509640659, 'colsample_bytree': 0.8399821689798822, 'gamma': 1.7769331750627377}. Best is trial 67 with value: 0.88975.\n",
      "[I 2024-03-09 13:57:38,847] Trial 72 finished with value: 0.888 and parameters: {'n_estimators': 830, 'learning_rate': 0.0275204301647044, 'max_depth': 4, 'lambda': 9.603921777434294e-07, 'alpha': 0.014917149863208724, 'subsample': 0.48341799258165924, 'colsample_bytree': 0.8699685778121877, 'gamma': 2.1956851824737234}. Best is trial 67 with value: 0.88975.\n",
      "[I 2024-03-09 13:57:39,520] Trial 73 finished with value: 0.88875 and parameters: {'n_estimators': 835, 'learning_rate': 0.030445909594159305, 'max_depth': 3, 'lambda': 2.6938071201348946e-06, 'alpha': 0.0356396873648588, 'subsample': 0.4118493573440524, 'colsample_bytree': 0.6287920116682636, 'gamma': 2.2450793090445114}. Best is trial 67 with value: 0.88975.\n",
      "[I 2024-03-09 13:57:40,266] Trial 74 finished with value: 0.8845 and parameters: {'n_estimators': 830, 'learning_rate': 0.01969220136170477, 'max_depth': 3, 'lambda': 2.5397496480211776e-06, 'alpha': 0.0807986872836516, 'subsample': 0.4097815825156377, 'colsample_bytree': 0.635296118836673, 'gamma': 2.390172008846585}. Best is trial 67 with value: 0.88975.\n",
      "[I 2024-03-09 13:57:41,915] Trial 75 finished with value: 0.86575 and parameters: {'n_estimators': 700, 'learning_rate': 0.0012267694411888241, 'max_depth': 4, 'lambda': 7.650894128104487e-07, 'alpha': 0.07079776636321514, 'subsample': 0.35200119543756486, 'colsample_bytree': 0.5743957551247192, 'gamma': 0.6196697285490316}. Best is trial 67 with value: 0.88975.\n",
      "[I 2024-03-09 13:57:42,815] Trial 76 finished with value: 0.87925 and parameters: {'n_estimators': 644, 'learning_rate': 0.13285970833314906, 'max_depth': 3, 'lambda': 1.0906206328517941e-05, 'alpha': 0.022086014562696585, 'subsample': 0.46544384633513425, 'colsample_bytree': 0.7254638646197692, 'gamma': 0.002429300630946596}. Best is trial 67 with value: 0.88975.\n",
      "[I 2024-03-09 13:57:43,424] Trial 77 finished with value: 0.889 and parameters: {'n_estimators': 734, 'learning_rate': 0.033756713205379485, 'max_depth': 3, 'lambda': 3.306980915886246e-06, 'alpha': 0.03457750051356104, 'subsample': 0.28137287657681664, 'colsample_bytree': 0.641641779362353, 'gamma': 1.1128788559658873}. Best is trial 67 with value: 0.88975.\n",
      "[I 2024-03-09 13:57:43,960] Trial 78 finished with value: 0.8745 and parameters: {'n_estimators': 671, 'learning_rate': 0.08698126622996782, 'max_depth': 3, 'lambda': 3.489569877976947e-06, 'alpha': 0.03448890744804186, 'subsample': 0.21818345568862657, 'colsample_bytree': 0.584969065692645, 'gamma': 1.0800881462034597}. Best is trial 67 with value: 0.88975.\n",
      "[I 2024-03-09 13:57:44,492] Trial 79 finished with value: 0.878 and parameters: {'n_estimators': 752, 'learning_rate': 0.16470444546950944, 'max_depth': 3, 'lambda': 1.562008213033896e-06, 'alpha': 0.0023065346693207957, 'subsample': 0.31127708259501496, 'colsample_bytree': 0.6413516540185118, 'gamma': 4.571756841579176}. Best is trial 67 with value: 0.88975.\n",
      "[I 2024-03-09 13:57:45,084] Trial 80 finished with value: 0.8875 and parameters: {'n_estimators': 786, 'learning_rate': 0.056979785226021235, 'max_depth': 3, 'lambda': 7.882292057462934e-06, 'alpha': 0.13276408718261606, 'subsample': 0.31048359547053184, 'colsample_bytree': 0.7683843953605558, 'gamma': 2.566629397091833}. Best is trial 67 with value: 0.88975.\n",
      "[I 2024-03-09 13:57:45,557] Trial 81 finished with value: 0.884 and parameters: {'n_estimators': 721, 'learning_rate': 0.030700483072785258, 'max_depth': 3, 'lambda': 1.0431739451901924e-06, 'alpha': 0.011308543308524127, 'subsample': 0.24513011322142236, 'colsample_bytree': 0.6303380608106803, 'gamma': 4.023359068984312}. Best is trial 67 with value: 0.88975.\n",
      "[I 2024-03-09 13:57:46,144] Trial 82 finished with value: 0.875 and parameters: {'n_estimators': 832, 'learning_rate': 0.12250951378199063, 'max_depth': 4, 'lambda': 5.806233611640544e-07, 'alpha': 0.025169839633348654, 'subsample': 0.37591902848819125, 'colsample_bytree': 0.5451835656762077, 'gamma': 1.6264319364443978}. Best is trial 67 with value: 0.88975.\n",
      "[I 2024-03-09 13:57:46,708] Trial 83 finished with value: 0.8875 and parameters: {'n_estimators': 810, 'learning_rate': 0.029037875369133773, 'max_depth': 3, 'lambda': 1.7761009224853228e-06, 'alpha': 0.21960133707679394, 'subsample': 0.2637003078691877, 'colsample_bytree': 0.6609474726690473, 'gamma': 0.947395462538917}. Best is trial 67 with value: 0.88975.\n",
      "[I 2024-03-09 13:57:47,495] Trial 84 finished with value: 0.87825 and parameters: {'n_estimators': 859, 'learning_rate': 0.09394702191399407, 'max_depth': 4, 'lambda': 1.217563948857195e-07, 'alpha': 0.01260259783113763, 'subsample': 0.4893663821220654, 'colsample_bytree': 0.7061062294223979, 'gamma': 0.4729649292039809}. Best is trial 67 with value: 0.88975.\n",
      "[I 2024-03-09 13:57:48,160] Trial 85 finished with value: 0.88925 and parameters: {'n_estimators': 901, 'learning_rate': 0.06725861024200526, 'max_depth': 3, 'lambda': 6.886896909772772e-08, 'alpha': 0.039710666682507674, 'subsample': 0.4200505804867543, 'colsample_bytree': 0.6003462363773211, 'gamma': 2.0673071935753193}. Best is trial 67 with value: 0.88975.\n",
      "[I 2024-03-09 13:57:48,669] Trial 86 finished with value: 0.88725 and parameters: {'n_estimators': 887, 'learning_rate': 0.06841983111949929, 'max_depth': 3, 'lambda': 5.6588747609469336e-08, 'alpha': 1.4030863529071651e-05, 'subsample': 0.36220622939433655, 'colsample_bytree': 0.4747147719119864, 'gamma': 3.6771848735933395}. Best is trial 67 with value: 0.88975.\n",
      "[I 2024-03-09 13:57:49,288] Trial 87 finished with value: 0.879 and parameters: {'n_estimators': 904, 'learning_rate': 0.14490092449117709, 'max_depth': 3, 'lambda': 2.3612981673847337e-07, 'alpha': 0.2794571880279739, 'subsample': 0.4238288369694096, 'colsample_bytree': 0.5971364624852317, 'gamma': 2.801249081665081}. Best is trial 67 with value: 0.88975.\n",
      "[I 2024-03-09 13:57:49,863] Trial 88 finished with value: 0.882 and parameters: {'n_estimators': 925, 'learning_rate': 0.1124266545857896, 'max_depth': 3, 'lambda': 4.610535610431341e-06, 'alpha': 3.389210456126203e-05, 'subsample': 0.5649968505080587, 'colsample_bytree': 0.6087706183784846, 'gamma': 1.3480790342501878}. Best is trial 67 with value: 0.88975.\n",
      "[I 2024-03-09 13:57:50,187] Trial 89 finished with value: 0.8735 and parameters: {'n_estimators': 678, 'learning_rate': 0.1859148656461072, 'max_depth': 6, 'lambda': 7.503804636537392e-08, 'alpha': 0.0001220162725747769, 'subsample': 0.40186854129584226, 'colsample_bytree': 0.6578109617161859, 'gamma': 15.450297984234565}. Best is trial 67 with value: 0.88975.\n",
      "[I 2024-03-09 13:57:50,784] Trial 90 finished with value: 0.84225 and parameters: {'n_estimators': 765, 'learning_rate': 0.0008731459775609962, 'max_depth': 3, 'lambda': 4.5087302949705115e-07, 'alpha': 0.0570116465839857, 'subsample': 0.2843302160605815, 'colsample_bytree': 0.6910605334437043, 'gamma': 1.831349309039399}. Best is trial 67 with value: 0.88975.\n",
      "[I 2024-03-09 13:57:51,508] Trial 91 finished with value: 0.8905 and parameters: {'n_estimators': 822, 'learning_rate': 0.04213376168692351, 'max_depth': 4, 'lambda': 1.1502784105876582e-06, 'alpha': 0.0341818268182692, 'subsample': 0.47401818582368765, 'colsample_bytree': 0.8581594787713581, 'gamma': 2.0519879122460405}. Best is trial 91 with value: 0.8905.\n",
      "[I 2024-03-09 13:57:52,446] Trial 92 finished with value: 0.887 and parameters: {'n_estimators': 809, 'learning_rate': 0.0793299113701998, 'max_depth': 4, 'lambda': 2.2976947515733165e-06, 'alpha': 0.10224059988310093, 'subsample': 0.4498130867756383, 'colsample_bytree': 0.7995573566835077, 'gamma': 2.339937760382354}. Best is trial 91 with value: 0.8905.\n",
      "[I 2024-03-09 13:57:52,955] Trial 93 finished with value: 0.88525 and parameters: {'n_estimators': 628, 'learning_rate': 0.04709573955499241, 'max_depth': 3, 'lambda': 1.7573667256138285e-05, 'alpha': 0.03863609215992318, 'subsample': 0.5258728099622215, 'colsample_bytree': 0.8272976986229634, 'gamma': 0.616058117271026}. Best is trial 91 with value: 0.8905.\n",
      "[I 2024-03-09 13:57:53,511] Trial 94 finished with value: 0.88925 and parameters: {'n_estimators': 788, 'learning_rate': 0.04583984255942897, 'max_depth': 4, 'lambda': 1.593561370352114e-07, 'alpha': 0.0048164641586470516, 'subsample': 0.4677109301152046, 'colsample_bytree': 0.5143272100536943, 'gamma': 3.0396161259884993}. Best is trial 91 with value: 0.8905.\n",
      "[I 2024-03-09 13:57:53,939] Trial 95 finished with value: 0.87875 and parameters: {'n_estimators': 732, 'learning_rate': 0.06175699612714894, 'max_depth': 5, 'lambda': 2.0537096668279546e-08, 'alpha': 0.008421716398381194, 'subsample': 0.4713103456193222, 'colsample_bytree': 0.5093349573813031, 'gamma': 9.959590729109271}. Best is trial 91 with value: 0.8905.\n",
      "[I 2024-03-09 13:57:54,500] Trial 96 finished with value: 0.8845 and parameters: {'n_estimators': 563, 'learning_rate': 0.09897206757449858, 'max_depth': 4, 'lambda': 1.1417926320853786e-06, 'alpha': 0.017019640897930715, 'subsample': 0.40681346110530964, 'colsample_bytree': 0.5551209376943369, 'gamma': 3.1712530255322555}. Best is trial 91 with value: 0.8905.\n",
      "[I 2024-03-09 13:57:54,926] Trial 97 finished with value: 0.87375 and parameters: {'n_estimators': 779, 'learning_rate': 0.02048539547821847, 'max_depth': 4, 'lambda': 1.6085178273027482e-07, 'alpha': 0.004948011636405955, 'subsample': 0.20245016451369985, 'colsample_bytree': 0.7483727588806943, 'gamma': 11.40692935684862}. Best is trial 91 with value: 0.8905.\n",
      "[I 2024-03-09 13:57:55,677] Trial 98 finished with value: 0.8785 and parameters: {'n_estimators': 798, 'learning_rate': 0.11757399121286438, 'max_depth': 5, 'lambda': 1.002281847910228e-05, 'alpha': 0.0031846399346378822, 'subsample': 0.4410895970870281, 'colsample_bytree': 0.528845298894836, 'gamma': 1.281180297255992}. Best is trial 91 with value: 0.8905.\n",
      "[I 2024-03-09 13:57:56,146] Trial 99 finished with value: 0.8825 and parameters: {'n_estimators': 717, 'learning_rate': 0.1517065274999646, 'max_depth': 4, 'lambda': 3.1220405922852098e-06, 'alpha': 0.028686194641577845, 'subsample': 0.4748546881277309, 'colsample_bytree': 0.4824182071265075, 'gamma': 2.057896730563652}. Best is trial 91 with value: 0.8905.\n"
     ]
    }
   ],
   "source": [
    "objective_ex2 = XGBObjective(X_train_ex2, X_test_ex2, y_train_ex2, y_test_ex2)\n",
    "study_ex2 = create_study(direction = \"maximize\")\n",
    "study_ex2.optimize(objective_ex2, n_trials = 100)\n",
    "trial_ex2 = study_ex2.best_trial\n",
    "optimal_params_ex2 = trial_ex2.params"
   ]
  },
  {
   "cell_type": "code",
   "execution_count": 10,
   "metadata": {},
   "outputs": [
    {
     "name": "stdout",
     "output_type": "stream",
     "text": [
      "\n",
      "ROC AUC training sample: 0.996\n",
      "ROC AUC test sample: 0.958\n"
     ]
    }
   ],
   "source": [
    "bst_ex2 = XGBClassifier(**optimal_params_ex2)\n",
    "bst_ex2.fit(X_train_ex2, y_train_ex2)\n",
    "prob_train_ex2 = bst_ex2.predict_proba(X_train_ex2)[:, 1]\n",
    "prob_test_ex2 = bst_ex2.predict_proba(X_test_ex2)[:, 1]\n",
    "pred_train_ex2 = bst_ex2.predict(X_train_ex2)\n",
    "pred_test_ex2 = bst_ex2.predict(X_test_ex2)\n",
    "auc_train_ex2 = roc_auc_score(y_train_ex2, prob_train_ex2)\n",
    "auc_test_ex2 = roc_auc_score(y_test_ex2, prob_test_ex2)\n",
    "print(f\"\\nROC AUC training sample: {auc_train_ex2:.3f}\\nROC AUC test sample: {auc_test_ex2:.3f}\")"
   ]
  },
  {
   "cell_type": "code",
   "execution_count": 11,
   "metadata": {},
   "outputs": [
    {
     "name": "stdout",
     "output_type": "stream",
     "text": [
      "\n",
      "TPR training sample: 0.964\n",
      "TPR test sample: 0.890\n"
     ]
    }
   ],
   "source": [
    "TPR_train_ex2 = (pred_train_ex2 == y_train_ex2).sum() / len(y_train_ex2)\n",
    "TPR_test_ex2 = (pred_test_ex2 == y_test_ex2).sum() / len(y_test_ex2)\n",
    "print(f\"\\nTPR training sample: {TPR_train_ex2:.3f}\\nTPR test sample: {TPR_test_ex2:.3f}\")"
   ]
  }
 ],
 "metadata": {
  "kernelspec": {
   "display_name": "base",
   "language": "python",
   "name": "python3"
  },
  "language_info": {
   "codemirror_mode": {
    "name": "ipython",
    "version": 3
   },
   "file_extension": ".py",
   "mimetype": "text/x-python",
   "name": "python",
   "nbconvert_exporter": "python",
   "pygments_lexer": "ipython3",
   "version": "3.11.5"
  }
 },
 "nbformat": 4,
 "nbformat_minor": 2
}
